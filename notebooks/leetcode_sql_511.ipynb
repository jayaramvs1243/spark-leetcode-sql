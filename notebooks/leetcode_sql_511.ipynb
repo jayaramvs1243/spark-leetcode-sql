{
 "cells": [
  {
   "cell_type": "markdown",
   "metadata": {
    "application/vnd.databricks.v1+cell": {
     "cellMetadata": {
      "byteLimit": 2048000,
      "rowLimit": 10000
     },
     "inputWidgets": {},
     "nuid": "65d6cdcb-c905-478b-9198-c3269389affc",
     "showTitle": false,
     "title": ""
    }
   },
   "source": [
    "#### LeetCode - SQL - #511\n",
    "\n",
    "Refer [511. Game Play Analysis I](https://leetcode.com/problems/game-play-analysis-i/description/)\n",
    "\n",
    "Write a solution to find the  **first login date**  for each player.\n",
    "\n",
    "Return the result table in  **any order**."
   ]
  },
  {
   "cell_type": "code",
   "execution_count": null,
   "metadata": {
    "application/vnd.databricks.v1+cell": {
     "cellMetadata": {
      "byteLimit": 2048000,
      "rowLimit": 10000
     },
     "inputWidgets": {},
     "nuid": "b92c7ebc-f233-4bb4-9557-615c2b0b19d7",
     "showTitle": false,
     "title": ""
    }
   },
   "outputs": [],
   "source": [
    "activity_data = [[1, 2, '2016-03-01', 5], [1, 2, '2016-05-02', 6], [2, 3, '2017-06-25', 1], [3, 1, '2016-03-02', 0], [3, 4, '2018-07-03', 5]]\n",
    "activity_columns = ['player_id', 'device_id', 'event_date', 'games_played']\n",
    "activity_schema = {'player_id':'Int64', 'device_id':'Int64', 'event_date':'datetime64[ns]', 'games_played':'Int64'}"
   ]
  },
  {
   "cell_type": "code",
   "execution_count": null,
   "metadata": {
    "application/vnd.databricks.v1+cell": {
     "cellMetadata": {
      "byteLimit": 2048000,
      "rowLimit": 10000
     },
     "inputWidgets": {},
     "nuid": "3f5c61dc-3ecd-4407-801b-4e23427cb235",
     "showTitle": false,
     "title": ""
    }
   },
   "outputs": [],
   "source": [
    "import pandas\n",
    "\n",
    "activity_pandas_dataframe = pandas.DataFrame(data=activity_data, columns=activity_columns).astype(activity_schema)"
   ]
  },
  {
   "cell_type": "code",
   "execution_count": null,
   "metadata": {
    "application/vnd.databricks.v1+cell": {
     "cellMetadata": {
      "byteLimit": 2048000,
      "rowLimit": 10000
     },
     "inputWidgets": {},
     "nuid": "a2d7a8b8-9ea6-4a08-80e0-1a801a2ea2a4",
     "showTitle": false,
     "title": ""
    }
   },
   "outputs": [],
   "source": [
    "from pyspark.sql import SparkSession\n",
    "\n",
    "spark_context = SparkSession.builder.appName(\"LeetCode SQL\").getOrCreate()\n",
    "\n",
    "# Spark DataFrame using Pandas DataFrame\n",
    "activity_dataframe = spark_context.createDataFrame(activity_pandas_dataframe)\n",
    "activity_dataframe.printSchema()\n",
    "activity_dataframe.show(5)"
   ]
  },
  {
   "cell_type": "code",
   "execution_count": null,
   "metadata": {
    "application/vnd.databricks.v1+cell": {
     "cellMetadata": {
      "byteLimit": 2048000,
      "rowLimit": 10000
     },
     "inputWidgets": {},
     "nuid": "3cea407c-10d4-4b6d-a3cb-ccb9c37aedff",
     "showTitle": false,
     "title": ""
    }
   },
   "outputs": [],
   "source": [
    "from pyspark.sql.functions import to_date, min\n",
    "\n",
    "activity_dataframe \\\n",
    "    .groupBy(activity_dataframe.player_id) \\\n",
    "    .agg( \\\n",
    "        min(to_date(activity_dataframe.event_date)).alias(\"first_login\") \\\n",
    "    ) \\\n",
    "    .show()"
   ]
  }
 ],
 "metadata": {
  "application/vnd.databricks.v1+notebook": {
   "dashboards": [],
   "language": "python",
   "notebookMetadata": {
    "pythonIndentUnit": 4
   },
   "notebookName": "leetcode_sql_511",
   "widgets": {}
  }
 },
 "nbformat": 4,
 "nbformat_minor": 0
}
