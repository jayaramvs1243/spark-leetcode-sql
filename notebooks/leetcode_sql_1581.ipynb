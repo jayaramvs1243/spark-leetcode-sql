{
 "cells": [
  {
   "cell_type": "markdown",
   "metadata": {
    "application/vnd.databricks.v1+cell": {
     "cellMetadata": {},
     "inputWidgets": {},
     "nuid": "5af6c95c-8762-40b7-98ae-404bf818f20b",
     "showTitle": false,
     "title": ""
    }
   },
   "source": [
    "#### LeetCode - SQL - #1581\n",
    "\n",
    "Refer [1581. Customer Who Visited but Did Not Make Any Transactions](https://leetcode.com/problems/customer-who-visited-but-did-not-make-any-transactions/description/)\n",
    "\n",
    "Write a solution to find the IDs of the users who visited without making any transactions and the number of times they made these types of visits.\n",
    "\n",
    "Return the result table sorted in any order."
   ]
  },
  {
   "cell_type": "code",
   "execution_count": 0,
   "metadata": {
    "application/vnd.databricks.v1+cell": {
     "cellMetadata": {
      "byteLimit": 2048000,
      "rowLimit": 10000
     },
     "inputWidgets": {},
     "nuid": "04f74373-74bd-41bf-b233-c4768eafbf65",
     "showTitle": false,
     "title": ""
    }
   },
   "outputs": [],
   "source": [
    "data_visits = [[1, 23], [2, 9], [4, 30], [5, 54], [6, 96], [7, 54], [8, 54]]\n",
    "columns_visits = ['visit_id', 'customer_id']\n",
    "schema_visits = {'visit_id':'Int64', 'customer_id':'Int64'}\n",
    "\n",
    "data_transactions = [[2, 5, 310], [3, 5, 300], [9, 5, 200], [12, 1, 910], [13, 2, 970]]\n",
    "columns_transactions = ['transaction_id', 'visit_id', 'amount']\n",
    "schema_transactions = {'transaction_id':'Int64', 'visit_id':'Int64', 'amount':'Int64'}\n"
   ]
  },
  {
   "cell_type": "code",
   "execution_count": 0,
   "metadata": {
    "application/vnd.databricks.v1+cell": {
     "cellMetadata": {
      "byteLimit": 2048000,
      "rowLimit": 10000
     },
     "inputWidgets": {},
     "nuid": "0075ffe3-2a9f-4385-854f-3bca2df2c5ea",
     "showTitle": false,
     "title": ""
    }
   },
   "outputs": [],
   "source": [
    "from pyspark.sql import SparkSession\n",
    "\n",
    "spark_context = SparkSession.builder.appName('LeetCode SQL').getOrCreate()"
   ]
  },
  {
   "cell_type": "code",
   "execution_count": 0,
   "metadata": {
    "application/vnd.databricks.v1+cell": {
     "cellMetadata": {
      "byteLimit": 2048000,
      "rowLimit": 10000
     },
     "inputWidgets": {},
     "nuid": "1987e226-841b-436c-b166-a8648d215a57",
     "showTitle": false,
     "title": ""
    }
   },
   "outputs": [],
   "source": [
    "# Create Spark Dataframe using Pandas\n",
    "import pandas\n",
    "\n",
    "pandas_df_visits = pandas.DataFrame(data=data_visits, columns=columns_visits).astype(schema_visits)\n",
    "pandas_df_transactions = pandas.DataFrame(data=data_transactions, columns=columns_transactions).astype(schema_transactions)\n",
    "\n",
    "df_visits = spark_context.createDataFrame(pandas_df_visits)\n",
    "df_transactions = spark_context.createDataFrame(pandas_df_transactions)\n",
    "\n",
    "df_visits.printSchema()\n",
    "df_visits.show(5)\n",
    "\n",
    "df_transactions.printSchema()\n",
    "df_transactions.show(5)"
   ]
  },
  {
   "cell_type": "code",
   "execution_count": 0,
   "metadata": {
    "application/vnd.databricks.v1+cell": {
     "cellMetadata": {
      "byteLimit": 2048000,
      "rowLimit": 10000
     },
     "inputWidgets": {},
     "nuid": "2eda850b-5531-42da-b5f4-5e73a871b2d2",
     "showTitle": false,
     "title": ""
    }
   },
   "outputs": [],
   "source": [
    "# Create Spark Dataframe using PySpark functions - 1\n",
    "schema_visits = 'visit_id integer, customer_id integer'\n",
    "schema_transactions = 'transaction_id integer, visit_id integer, amount integer'\n",
    "\n",
    "df_visits = spark_context.createDataFrame(data=data_visits, schema=schema_visits)\n",
    "df_transactions = spark_context.createDataFrame(data=data_transactions, schema=schema_transactions)\n",
    "\n",
    "df_visits.printSchema()\n",
    "df_visits.show(5)\n",
    "\n",
    "df_transactions.printSchema()\n",
    "df_transactions.show(5)"
   ]
  },
  {
   "cell_type": "code",
   "execution_count": 0,
   "metadata": {
    "application/vnd.databricks.v1+cell": {
     "cellMetadata": {
      "byteLimit": 2048000,
      "rowLimit": 10000
     },
     "inputWidgets": {},
     "nuid": "ebfd2457-489d-426a-98fe-c0a5040d0a3c",
     "showTitle": false,
     "title": ""
    }
   },
   "outputs": [
    {
     "output_type": "stream",
     "name": "stdout",
     "output_type": "stream",
     "text": [
      "+-----------+--------------+\n|customer_id|count_no_trans|\n+-----------+--------------+\n|         30|             1|\n|         96|             1|\n|         54|             2|\n+-----------+--------------+\n\n"
     ]
    }
   ],
   "source": [
    "from pyspark.sql import functions as F\n",
    "\n",
    "df_visits.join(\n",
    "    df_transactions, df_visits.visit_id == df_transactions.visit_id, 'left'\n",
    ").filter(\n",
    "    df_transactions.visit_id.isNull()\n",
    ").groupBy(df_visits.customer_id).agg(\n",
    "    F.count('*').alias('count_no_trans')\n",
    ").show()"
   ]
  }
 ],
 "metadata": {
  "application/vnd.databricks.v1+notebook": {
   "dashboards": [],
   "language": "python",
   "notebookMetadata": {
    "pythonIndentUnit": 4
   },
   "notebookName": "leetcode_sql_1581",
   "widgets": {}
  }
 },
 "nbformat": 4,
 "nbformat_minor": 0
}
