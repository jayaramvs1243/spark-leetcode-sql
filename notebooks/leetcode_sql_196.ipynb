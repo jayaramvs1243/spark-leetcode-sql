{
 "cells": [
  {
   "cell_type": "markdown",
   "metadata": {
    "application/vnd.databricks.v1+cell": {
     "cellMetadata": {},
     "inputWidgets": {},
     "nuid": "bbd211a7-5c39-4b34-81f0-f7a750003ae5",
     "showTitle": false,
     "title": ""
    }
   },
   "source": [
    "#### LeetCode - SQL - #196\n",
    "\n",
    "Refer [196. Delete Duplicate Emails](https://leetcode.com/problems/delete-duplicate-emails/description/)\n",
    "\n",
    "Write a solution to **delete** all duplicate emails, keeping only one unique email with the smallest `id`."
   ]
  },
  {
   "cell_type": "code",
   "execution_count": 0,
   "metadata": {
    "application/vnd.databricks.v1+cell": {
     "cellMetadata": {
      "byteLimit": 2048000,
      "rowLimit": 10000
     },
     "inputWidgets": {},
     "nuid": "0b9a0c9d-a572-4d6f-a223-f8ed62dd3410",
     "showTitle": false,
     "title": ""
    }
   },
   "outputs": [],
   "source": [
    "email_data = [[1, 'john@example.com'], [2, 'bob@example.com'], [3, 'john@example.com']]\n",
    "email_columns = ['id', 'email']\n",
    "email_schema = {'id':'int64', 'email':'object'}"
   ]
  },
  {
   "cell_type": "code",
   "execution_count": 0,
   "metadata": {
    "application/vnd.databricks.v1+cell": {
     "cellMetadata": {
      "byteLimit": 2048000,
      "rowLimit": 10000
     },
     "inputWidgets": {},
     "nuid": "16b634b0-4666-42f6-9f81-1c886b97dba2",
     "showTitle": false,
     "title": ""
    }
   },
   "outputs": [],
   "source": [
    "import pandas\n",
    "\n",
    "email_pandas_dataframe = pandas.DataFrame(data=email_data, columns=email_columns).astype(email_schema)"
   ]
  },
  {
   "cell_type": "code",
   "execution_count": 0,
   "metadata": {
    "application/vnd.databricks.v1+cell": {
     "cellMetadata": {
      "byteLimit": 2048000,
      "rowLimit": 10000
     },
     "inputWidgets": {},
     "nuid": "f2e03e48-9d53-4a6a-a872-e60f2942325c",
     "showTitle": false,
     "title": ""
    }
   },
   "outputs": [
    {
     "output_type": "stream",
     "name": "stdout",
     "output_type": "stream",
     "text": [
      "root\n |-- id: long (nullable = true)\n |-- email: string (nullable = true)\n\n+---+----------------+\n| id|           email|\n+---+----------------+\n|  1|john@example.com|\n|  2| bob@example.com|\n|  3|john@example.com|\n+---+----------------+\n\n"
     ]
    }
   ],
   "source": [
    "from pyspark.sql import SparkSession\n",
    "\n",
    "spark_context = SparkSession.builder.appName(\"LeetCode SQL\").getOrCreate()\n",
    "\n",
    "# Spark DataFrame using Pandas DataFrame\n",
    "email_dataframe = spark_context.createDataFrame(email_pandas_dataframe)\n",
    "email_dataframe.printSchema()\n",
    "email_dataframe.show(5)"
   ]
  },
  {
   "cell_type": "markdown",
   "metadata": {
    "application/vnd.databricks.v1+cell": {
     "cellMetadata": {},
     "inputWidgets": {},
     "nuid": "fc7d72b1-bbf6-42c7-8acb-b959377ddd1c",
     "showTitle": false,
     "title": ""
    }
   },
   "source": [
    "#### Randomly removing rows based on column(s)"
   ]
  },
  {
   "cell_type": "code",
   "execution_count": 0,
   "metadata": {
    "application/vnd.databricks.v1+cell": {
     "cellMetadata": {
      "byteLimit": 2048000,
      "rowLimit": 10000
     },
     "inputWidgets": {},
     "nuid": "bafef5b1-8fa5-4afe-9ef5-65f84864b987",
     "showTitle": false,
     "title": ""
    }
   },
   "outputs": [
    {
     "output_type": "stream",
     "name": "stdout",
     "output_type": "stream",
     "text": [
      "+---+----------------+\n| id|           email|\n+---+----------------+\n|  1|john@example.com|\n|  2| bob@example.com|\n+---+----------------+\n\n"
     ]
    }
   ],
   "source": [
    "columns_to_check = [\"email\"]\n",
    "email_dataframe_without_duplicates = email_dataframe.dropDuplicates(subset=columns_to_check)\n",
    "email_dataframe_without_duplicates.show()"
   ]
  },
  {
   "cell_type": "markdown",
   "metadata": {
    "application/vnd.databricks.v1+cell": {
     "cellMetadata": {},
     "inputWidgets": {},
     "nuid": "d61271b1-dcb8-4dbd-9843-72d6f2ea1c1f",
     "showTitle": false,
     "title": ""
    }
   },
   "source": [
    "#### Removing duplicate rows based on a column, keeping only one unique row with the smallest id."
   ]
  },
  {
   "cell_type": "code",
   "execution_count": 0,
   "metadata": {
    "application/vnd.databricks.v1+cell": {
     "cellMetadata": {
      "byteLimit": 2048000,
      "rowLimit": 10000
     },
     "inputWidgets": {},
     "nuid": "722e454b-4f8f-4da5-baf7-61d426b84935",
     "showTitle": false,
     "title": ""
    }
   },
   "outputs": [
    {
     "output_type": "stream",
     "name": "stdout",
     "output_type": "stream",
     "text": [
      "+---+----------------+----------+\n| id|           email|row_number|\n+---+----------------+----------+\n|  2| bob@example.com|         1|\n|  1|john@example.com|         1|\n|  3|john@example.com|         2|\n+---+----------------+----------+\n\n+---+----------------+\n| id|           email|\n+---+----------------+\n|  1|john@example.com|\n|  2| bob@example.com|\n+---+----------------+\n\n"
     ]
    }
   ],
   "source": [
    "from pyspark.sql.window import Window\n",
    "from pyspark.sql.functions import row_number\n",
    "\n",
    "window_spec = Window.partitionBy(email_dataframe.email).orderBy(email_dataframe.id)\n",
    "\n",
    "email_dataframe = email_dataframe.withColumn(\"row_number\", row_number().over(window_spec))\n",
    "email_dataframe.show()\n",
    "\n",
    "email_dataframe \\\n",
    "    .filter(email_dataframe.row_number == 1) \\\n",
    "    .orderBy(email_dataframe.id) \\\n",
    "    .drop(email_dataframe.row_number) \\\n",
    "    .show()"
   ]
  }
 ],
 "metadata": {
  "application/vnd.databricks.v1+notebook": {
   "dashboards": [],
   "language": "python",
   "notebookMetadata": {
    "pythonIndentUnit": 4
   },
   "notebookName": "leetcode_sql_196",
   "widgets": {}
  }
 },
 "nbformat": 4,
 "nbformat_minor": 0
}
