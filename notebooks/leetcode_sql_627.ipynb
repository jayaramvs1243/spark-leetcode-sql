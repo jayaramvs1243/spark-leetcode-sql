{
 "cells": [
  {
   "cell_type": "markdown",
   "source": [
    "#### LeetCode - SQL - #627\n",
    "\n",
    "Refer [627. Swap Salary](https://leetcode.com/problems/swap-salary/description/)\n",
    "\n",
    "Write a solution to swap all  `'f'`  and  `'m'`  values (i.e., change all  `'f'`  values to  `'m'`  and vice versa) with a  **single update statement**  and no intermediate temporary tables.\n",
    "\n",
    "Note that you must write a single update statement,  **do not**  write any select statement for this problem."
   ],
   "metadata": {
    "collapsed": false
   },
   "id": "448b328d007d0e4e"
  },
  {
   "cell_type": "code",
   "outputs": [],
   "source": [
    "data_salary = [[1, 'A', 'm', 2500], [2, 'B', 'f', 1500], [3, 'C', 'm', 5500], [4, 'D', 'f', 500]]\n",
    "columns_salary = ['id', 'name', 'sex', 'salary']\n",
    "schema_salary = {'id':'Int64', 'name':'object', 'sex':'object', 'salary':'Int64'}"
   ],
   "metadata": {
    "collapsed": false,
    "ExecuteTime": {
     "end_time": "2024-03-15T18:40:29.152866Z",
     "start_time": "2024-03-15T18:40:29.144453Z"
    }
   },
   "id": "38bac01fa3482990",
   "execution_count": 12
  },
  {
   "cell_type": "code",
   "outputs": [],
   "source": [
    "from pyspark.sql import SparkSession\n",
    "\n",
    "spark_context = SparkSession.builder.appName('LeetCode SQL').getOrCreate()"
   ],
   "metadata": {
    "collapsed": false,
    "ExecuteTime": {
     "end_time": "2024-03-15T18:40:29.153108Z",
     "start_time": "2024-03-15T18:40:29.147865Z"
    }
   },
   "id": "5f00e4067cb17688",
   "execution_count": 13
  },
  {
   "cell_type": "code",
   "outputs": [],
   "source": [
    "# Create Spark Dataframe using Pandas\n",
    "import pandas\n",
    "\n",
    "pandas_df_salary = pandas.DataFrame(data=data_salary, columns=columns_salary).astype(schema_salary)\n",
    "\n",
    "df_salary = spark_context.createDataFrame(pandas_df_salary)\n",
    "df_salary.printSchema()\n",
    "df_salary.show()"
   ],
   "metadata": {
    "collapsed": false
   },
   "id": "c206d8a4fe28c7a4",
   "execution_count": null
  },
  {
   "cell_type": "code",
   "outputs": [],
   "source": [
    "# Create Spark Dataframe using PySpark functions - 1\n",
    "schema_salary = 'id integer, name string, sex string, salary integer'\n",
    "\n",
    "df_salary = spark_context.createDataFrame(data=data_salary, schema=schema_salary)\n",
    "df_salary.printSchema()\n",
    "df_salary.show()"
   ],
   "metadata": {
    "collapsed": false
   },
   "id": "4e7802da6c5cd739",
   "execution_count": null
  },
  {
   "cell_type": "code",
   "outputs": [],
   "source": [
    "# Create Spark Dataframe using PySpark functions - 2\n",
    "from pyspark.sql.types import StructType, StructField, IntegerType, StringType\n",
    "\n",
    "schema_salary = StructType([\n",
    "    StructField('id', IntegerType(), False),\n",
    "    StructField('name', StringType(), True),\n",
    "    StructField('sex', StringType(), True),\n",
    "    StructField('salary', IntegerType(), True)\n",
    "])\n",
    "\n",
    "df_salary = spark_context.createDataFrame(data=data_salary, schema=schema_salary)\n",
    "df_salary.printSchema()\n",
    "df_salary.show()"
   ],
   "metadata": {
    "collapsed": false
   },
   "id": "fd455d4fa7db0620",
   "execution_count": null
  },
  {
   "cell_type": "code",
   "outputs": [
    {
     "name": "stdout",
     "output_type": "stream",
     "text": [
      "+---+----+---+------+\n",
      "| id|name|sex|salary|\n",
      "+---+----+---+------+\n",
      "|  1|   A|  f|  2500|\n",
      "|  2|   B|  m|  1500|\n",
      "|  3|   C|  f|  5500|\n",
      "|  4|   D|  m|   500|\n",
      "+---+----+---+------+\n"
     ]
    }
   ],
   "source": [
    "from pyspark.sql import functions as F\n",
    "\n",
    "df_salary \\\n",
    "    = df_salary \\\n",
    "        .select(\n",
    "            df_salary.id,\n",
    "            df_salary.name,\n",
    "            F.when(df_salary.sex == 'm', 'f').otherwise('m').alias('sex'),\n",
    "            df_salary.salary\n",
    "        ).show()"
   ],
   "metadata": {
    "collapsed": false,
    "ExecuteTime": {
     "end_time": "2024-03-15T18:40:29.967573Z",
     "start_time": "2024-03-15T18:40:29.771971Z"
    }
   },
   "id": "b0585fd0d3c7a4aa",
   "execution_count": 17
  }
 ],
 "metadata": {
  "kernelspec": {
   "display_name": "Python 3",
   "language": "python",
   "name": "python3"
  },
  "language_info": {
   "codemirror_mode": {
    "name": "ipython",
    "version": 2
   },
   "file_extension": ".py",
   "mimetype": "text/x-python",
   "name": "python",
   "nbconvert_exporter": "python",
   "pygments_lexer": "ipython2",
   "version": "2.7.6"
  }
 },
 "nbformat": 4,
 "nbformat_minor": 5
}
