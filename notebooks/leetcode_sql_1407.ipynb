{
 "cells": [
  {
   "cell_type": "markdown",
   "metadata": {
    "application/vnd.databricks.v1+cell": {
     "cellMetadata": {},
     "inputWidgets": {},
     "nuid": "a8f47765-791b-41b9-89c2-c3de8f9521ea",
     "showTitle": false,
     "title": ""
    }
   },
   "source": [
    "#### LeetCode - SQL - #1407\n",
    "\n",
    "Refer [1407. Top Travellers](https://leetcode.com/problems/top-travellers/description/)\n",
    "\n",
    "Write a solution to report the distance traveled by each user.\n",
    "\n",
    "Return the result table ordered by  `travelled_distance`  in  **descending order**, if two or more users traveled the same distance, order them by their  `name`  in  **ascending order**."
   ]
  },
  {
   "cell_type": "code",
   "execution_count": 0,
   "metadata": {
    "application/vnd.databricks.v1+cell": {
     "cellMetadata": {
      "byteLimit": 2048000,
      "rowLimit": 10000
     },
     "inputWidgets": {},
     "nuid": "f64983c2-6879-48bf-8b17-aad87e5187da",
     "showTitle": false,
     "title": ""
    }
   },
   "outputs": [],
   "source": [
    "data_users = [[1, 'Alice'], [2, 'Bob'], [3, 'Alex'], [4, 'Donald'], [7, 'Lee'], [13, 'Jonathan'], [19, 'Elvis']]\n",
    "columns_users = ['id', 'name']\n",
    "schema_users = {'id':'Int64', 'name':'object'}\n",
    "\n",
    "data_rides = [[1, 1, 120], [2, 2, 317], [3, 3, 222], [4, 7, 100], [5, 13, 312], [6, 19, 50], [7, 7, 120], [8, 19, 400], [9, 7, 230]]\n",
    "columns_rides = ['id', 'user_id', 'distance']\n",
    "schema_rides = {'id':'Int64', 'user_id':'Int64', 'distance':'Int64'}"
   ]
  },
  {
   "cell_type": "code",
   "execution_count": 0,
   "metadata": {
    "application/vnd.databricks.v1+cell": {
     "cellMetadata": {
      "byteLimit": 2048000,
      "rowLimit": 10000
     },
     "inputWidgets": {},
     "nuid": "491c0c5d-2a60-4e8f-a8cb-28c4da8d47b0",
     "showTitle": false,
     "title": ""
    }
   },
   "outputs": [],
   "source": [
    "from pyspark.sql import SparkSession\n",
    "\n",
    "spark_context = SparkSession.builder.appName('LeetCode SQL').getOrCreate()"
   ]
  },
  {
   "cell_type": "code",
   "execution_count": 0,
   "metadata": {
    "application/vnd.databricks.v1+cell": {
     "cellMetadata": {
      "byteLimit": 2048000,
      "rowLimit": 10000
     },
     "inputWidgets": {},
     "nuid": "b0f1e951-12bf-4e93-bcdc-3431aeb3f669",
     "showTitle": false,
     "title": ""
    }
   },
   "outputs": [],
   "source": [
    "# Create Spark Dataframe using Pandas\n",
    "import pandas\n",
    "\n",
    "pandas_df_users = pandas.DataFrame(data=data_users, columns=columns_users).astype(schema_users)\n",
    "pandas_df_rides = pandas.DataFrame(data=data_rides, columns=columns_rides).astype(schema_rides)\n",
    "\n",
    "df_users = spark_context.createDataFrame(pandas_df_users)\n",
    "df_users.printSchema()\n",
    "df_users.show(5)\n",
    "\n",
    "df_rides = spark_context.createDataFrame(pandas_df_rides)\n",
    "df_rides.printSchema()\n",
    "df_rides.show(5)"
   ]
  },
  {
   "cell_type": "code",
   "execution_count": 0,
   "metadata": {
    "application/vnd.databricks.v1+cell": {
     "cellMetadata": {
      "byteLimit": 2048000,
      "rowLimit": 10000
     },
     "inputWidgets": {},
     "nuid": "a4dd07f8-2cb9-49f3-a91e-2344fe192e51",
     "showTitle": false,
     "title": ""
    }
   },
   "outputs": [],
   "source": [
    "# Create Spark Dataframe using PySpark functions - 1\n",
    "schema_users = 'id integer, name string'\n",
    "schema_rides = 'id integer, user_id integer, distance long'\n",
    "\n",
    "df_users = spark_context.createDataFrame(data=data_users, schema=schema_users)\n",
    "df_users.printSchema()\n",
    "df_users.show(5)\n",
    "\n",
    "df_rides = spark_context.createDataFrame(data=data_rides, schema=schema_rides)\n",
    "df_rides.printSchema()\n",
    "df_rides.show(5)"
   ]
  },
  {
   "cell_type": "code",
   "execution_count": 0,
   "metadata": {
    "application/vnd.databricks.v1+cell": {
     "cellMetadata": {
      "byteLimit": 2048000,
      "rowLimit": 10000
     },
     "inputWidgets": {},
     "nuid": "50a6cbaf-0318-4680-b749-66ad337c769d",
     "showTitle": false,
     "title": ""
    }
   },
   "outputs": [
    {
     "output_type": "stream",
     "name": "stdout",
     "output_type": "stream",
     "text": [
      "+--------+------------------+\n|    name|travelled_distance|\n+--------+------------------+\n|   Elvis|               450|\n|     Lee|               450|\n|     Bob|               317|\n|Jonathan|               312|\n|    Alex|               222|\n|   Alice|               120|\n|  Donald|                 0|\n+--------+------------------+\n\n"
     ]
    }
   ],
   "source": [
    "from pyspark.sql import functions as F\n",
    "\n",
    "df_users.join(\n",
    "    df_rides,\n",
    "    df_users.id == df_rides.user_id,\n",
    "    \"left\"\n",
    ").groupBy(df_users.id, df_users.name).agg(\n",
    "    F.when(F.sum(df_rides.distance).isNotNull(), F.sum(df_rides.distance)).otherwise(0).alias('travelled_distance')\n",
    ").select(\n",
    "    F.col('name'),\n",
    "    F.col('travelled_distance')\n",
    ").orderBy(\n",
    "    F.col('travelled_distance').desc(),\n",
    "    F.col('name').asc()\n",
    ").show()"
   ]
  }
 ],
 "metadata": {
  "application/vnd.databricks.v1+notebook": {
   "dashboards": [],
   "language": "python",
   "notebookMetadata": {
    "pythonIndentUnit": 4
   },
   "notebookName": "leetcode_sql_1407",
   "widgets": {}
  }
 },
 "nbformat": 4,
 "nbformat_minor": 0
}
