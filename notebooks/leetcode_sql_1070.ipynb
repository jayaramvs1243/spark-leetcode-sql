{
 "cells": [
  {
   "cell_type": "markdown",
   "source": [
    "#### LeetCode - SQL - #1070\n",
    "\n",
    "Refer [1070. Product Sales Analysis III](https://leetcode.com/problems/product-sales-analysis-iii/description/)\n",
    "\n",
    "Write a solution to select the  **product id**,  **year**,  **quantity**, and  **price**  for the  **first year**  of every product sold.\n",
    "\n",
    "Return the resulting table in  **any order**."
   ],
   "metadata": {
    "collapsed": false
   },
   "id": "aa098cc72308ccc2"
  },
  {
   "cell_type": "code",
   "outputs": [],
   "source": [
    "data_sales = [[1, 100, 2008, 10, 5000], [2, 100, 2009, 12, 5000], [7, 200, 2011, 15, 9000]]\n",
    "columns_sales = ['sale_id', 'product_id', 'year', 'quantity', 'price']\n",
    "schema_sales = {'sale_id':'Int64', 'product_id':'Int64', 'year':'Int64', 'quantity':'Int64', 'price':'Int64'}\n",
    "\n",
    "data_product = [[100, 'Nokia'], [200, 'Apple'], [300, 'Samsung']]\n",
    "columns_product = ['product_id', 'product_name']\n",
    "schema_product = {'product_id':'Int64', 'product_name':'object'}"
   ],
   "metadata": {
    "collapsed": false,
    "ExecuteTime": {
     "end_time": "2024-03-19T17:41:06.926331Z",
     "start_time": "2024-03-19T17:41:06.905937Z"
    }
   },
   "id": "99de65be52279383",
   "execution_count": 24
  },
  {
   "cell_type": "code",
   "outputs": [],
   "source": [
    "from pyspark.sql import SparkSession\n",
    "\n",
    "spark_context = SparkSession.builder.appName('LeetCode SQL').getOrCreate()"
   ],
   "metadata": {
    "collapsed": false,
    "ExecuteTime": {
     "end_time": "2024-03-19T17:41:06.926757Z",
     "start_time": "2024-03-19T17:41:06.909098Z"
    }
   },
   "id": "10ea93f2df49aca3",
   "execution_count": 25
  },
  {
   "cell_type": "code",
   "outputs": [],
   "source": [
    "# Create Spark Dataframe using Pandas\n",
    "import pandas\n",
    "\n",
    "pandas_df_sales = pandas.DataFrame(data=data_sales, columns=columns_sales).astype(schema_sales)\n",
    "pandas_df_product = pandas.DataFrame(data=data_product, columns=columns_product).astype(schema_product)\n",
    "\n",
    "df_sales = spark_context.createDataFrame(pandas_df_sales)\n",
    "df_sales.printSchema()\n",
    "\n",
    "df_product = spark_context.createDataFrame(pandas_df_product)\n",
    "df_product.printSchema()"
   ],
   "metadata": {
    "collapsed": false
   },
   "id": "f835e9a2a6ea466d",
   "execution_count": null
  },
  {
   "cell_type": "code",
   "outputs": [],
   "source": [
    "# Create Spark Dataframe using PySpark functions - 1\n",
    "schema_sales = 'sale_id integer, product_id integer, year integer, quantity integer, price integer'\n",
    "schema_product = 'product_id integer, product_name string'\n",
    "\n",
    "df_sales = spark_context.createDataFrame(data=data_sales, schema=schema_sales)\n",
    "df_sales.printSchema()\n",
    "\n",
    "df_product = spark_context.createDataFrame(data=data_product, schema=schema_product)\n",
    "df_product.printSchema()"
   ],
   "metadata": {
    "collapsed": false
   },
   "id": "621466853edbe3fa",
   "execution_count": null
  },
  {
   "cell_type": "code",
   "outputs": [],
   "source": [
    "# Create Spark Dataframe using PySpark functions - 2\n",
    "from pyspark.sql.types import StructType, StructField, IntegerType, StringType\n",
    "\n",
    "schema_sales = StructType([\n",
    "    StructField('sale_id', IntegerType(), False),\n",
    "    StructField('product_id', IntegerType(), False),\n",
    "    StructField('year', IntegerType(), False),\n",
    "    StructField('quantity', IntegerType(), False),\n",
    "    StructField('price', IntegerType(), False),\n",
    "])\n",
    "df_sales = spark_context.createDataFrame(data=data_sales, schema=schema_sales)\n",
    "df_sales.printSchema()\n",
    "\n",
    "schema_product = StructType([\n",
    "    StructField('product_id', IntegerType(), False),\n",
    "    StructField('product_name', StringType(), True)\n",
    "])\n",
    "df_product = spark_context.createDataFrame(data=data_product, schema=schema_product)\n",
    "df_product.printSchema()"
   ],
   "metadata": {
    "collapsed": false
   },
   "id": "6cf350b52a9405a1",
   "execution_count": null
  },
  {
   "cell_type": "markdown",
   "source": [
    "#### Using Join"
   ],
   "metadata": {
    "collapsed": false
   },
   "id": "c90c515d7059fd88"
  },
  {
   "cell_type": "code",
   "outputs": [],
   "source": [
    "from pyspark.sql import functions as F\n",
    "\n",
    "df_sales_grouped \\\n",
    "    = df_sales.groupBy(df_sales.product_id).agg(\n",
    "        F.min(df_sales.year).alias('earliest_year')\n",
    "    )\n",
    "df_sales_grouped.show()"
   ],
   "metadata": {
    "collapsed": false
   },
   "id": "84b5835664a13394",
   "execution_count": null
  },
  {
   "cell_type": "code",
   "outputs": [
    {
     "name": "stdout",
     "output_type": "stream",
     "text": [
      "+----------+------------+----+--------+-----+\n",
      "|product_id|product_name|year|quantity|price|\n",
      "+----------+------------+----+--------+-----+\n",
      "|       100|       Nokia|2008|      10| 5000|\n",
      "|       200|       Apple|2011|      15| 9000|\n",
      "+----------+------------+----+--------+-----+\n"
     ]
    }
   ],
   "source": [
    "df_sales = df_sales.alias('sales')\n",
    "df_sales_grouped = df_sales_grouped.alias('product_year')\n",
    "df_product_alias = df_product.alias('product')\n",
    "\n",
    "(df_sales_grouped.join(\n",
    "    df_sales,\n",
    "    ((F.col('product_year.product_id') == F.col('sales.product_id')) & (F.col('product_year.earliest_year') == F.col('sales.year'))),\n",
    "    'inner'\n",
    ").join(\n",
    "    df_product_alias,\n",
    "    (F.col('sales.product_id') == F.col('product.product_id')),\n",
    "    'inner'\n",
    ").select(\n",
    "    F.col('sales.product_id'), F.col('product.product_name'), F.col('sales.year'), F.col('sales.quantity'), F.col('sales.price')\n",
    ").show())"
   ],
   "metadata": {
    "collapsed": false,
    "ExecuteTime": {
     "end_time": "2024-03-19T17:47:58.230203Z",
     "start_time": "2024-03-19T17:47:57.719289Z"
    }
   },
   "id": "762fd984c36c4e82",
   "execution_count": 33
  }
 ],
 "metadata": {
  "kernelspec": {
   "display_name": "Python 3",
   "language": "python",
   "name": "python3"
  },
  "language_info": {
   "codemirror_mode": {
    "name": "ipython",
    "version": 2
   },
   "file_extension": ".py",
   "mimetype": "text/x-python",
   "name": "python",
   "nbconvert_exporter": "python",
   "pygments_lexer": "ipython2",
   "version": "2.7.6"
  }
 },
 "nbformat": 4,
 "nbformat_minor": 5
}
