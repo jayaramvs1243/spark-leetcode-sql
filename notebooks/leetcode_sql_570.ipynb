{
 "cells": [
  {
   "cell_type": "markdown",
   "metadata": {
    "application/vnd.databricks.v1+cell": {
     "cellMetadata": {
      "byteLimit": 2048000,
      "rowLimit": 10000
     },
     "inputWidgets": {},
     "nuid": "5099001a-4a47-498b-a991-4b719bb576ed",
     "showTitle": false,
     "title": ""
    }
   },
   "source": [
    "#### LeetCode - SQL - #570\n",
    "\n",
    "Refer [570. Managers with at Least 5 Direct Reports](https://leetcode.com/problems/managers-with-at-least-5-direct-reports/description/)\n",
    "\n",
    "Write a solution to find managers with at least  **five direct reports**.\n",
    "\n",
    "Return the result table in  **any order**."
   ]
  },
  {
   "cell_type": "code",
   "execution_count": 0,
   "metadata": {
    "application/vnd.databricks.v1+cell": {
     "cellMetadata": {
      "byteLimit": 2048000,
      "rowLimit": 10000
     },
     "inputWidgets": {},
     "nuid": "c1639ba5-538b-4823-837f-5f7fbf3b5d25",
     "showTitle": false,
     "title": ""
    }
   },
   "outputs": [],
   "source": [
    "data_employee = [[101, 'John', 'A', None], [102, 'Dan', 'A', 101], [103, 'James', 'A', 101], [104, 'Amy', 'A', 101], [105, 'Anne', 'A', 101], [106, 'Ron', 'B', 101]]\n",
    "columns_employee = ['id', 'name', 'department', 'managerId']\n",
    "schema_employee = {'id':'Int64', 'name':'object', 'department':'object', 'managerId':'Int64'}"
   ]
  },
  {
   "cell_type": "code",
   "execution_count": 0,
   "metadata": {
    "application/vnd.databricks.v1+cell": {
     "cellMetadata": {
      "byteLimit": 2048000,
      "rowLimit": 10000
     },
     "inputWidgets": {},
     "nuid": "486813c8-2677-465c-8a81-8ab06f0d4bb6",
     "showTitle": false,
     "title": ""
    }
   },
   "outputs": [],
   "source": [
    "import pandas\n",
    "\n",
    "pandas_dataframe_employee = pandas.DataFrame(data=data_employee, columns=columns_employee).astype(schema_employee)"
   ]
  },
  {
   "cell_type": "code",
   "execution_count": 0,
   "metadata": {
    "application/vnd.databricks.v1+cell": {
     "cellMetadata": {
      "byteLimit": 2048000,
      "rowLimit": 10000
     },
     "inputWidgets": {},
     "nuid": "5cc0cdb0-d313-41cd-b12e-37e12676f2cc",
     "showTitle": false,
     "title": ""
    }
   },
   "outputs": [],
   "source": [
    "from pyspark.sql import SparkSession\n",
    "\n",
    "spark_context = SparkSession.builder.appName(\"LeetCode SQL\").getOrCreate()\n",
    "\n",
    "# Spark DataFrame using Pandas DataFrame\n",
    "dataframe_employee = spark_context.createDataFrame(pandas_dataframe_employee)\n",
    "dataframe_employee.printSchema()\n",
    "dataframe_employee.show(5)"
   ]
  },
  {
   "cell_type": "code",
   "execution_count": 0,
   "metadata": {
    "application/vnd.databricks.v1+cell": {
     "cellMetadata": {
      "byteLimit": 2048000,
      "rowLimit": 10000
     },
     "inputWidgets": {},
     "nuid": "6ebb6262-9187-4959-a1d6-949633e2b239",
     "showTitle": false,
     "title": ""
    }
   },
   "outputs": [],
   "source": [
    "from pyspark.sql import functions as F\n",
    "\n",
    "# Create alias\n",
    "employee = dataframe_employee.alias(\"employee\")\n",
    "manager = dataframe_employee.alias(\"manager\")\n",
    "\n",
    "# Join\n",
    "dataframe_manager_summary \\\n",
    "    = employee.join(manager, F.col(\"employee.managerId\") == F.col(\"manager.id\"), \"inner\") \\\n",
    "              .select(F.col(\"manager.id\").alias(\"manager_id\"), F.col(\"manager.name\").alias(\"manager_name\"),F.col(\"employee.id\").alias(\"employee_id\"))\n",
    "dataframe_manager_summary.show()\n",
    "\n",
    "# Group and count aggregation\n",
    "dataframe_manager_grouped = dataframe_manager_summary.groupBy(dataframe_manager_summary.manager_name).agg(\n",
    "    F.count(\"*\").alias(\"employee_count\")\n",
    ")\n",
    "dataframe_manager_grouped.show()\n",
    "\n",
    "# Filter\n",
    "dataframe_manager_grouped.filter(dataframe_manager_grouped.employee_count >= 5).select(dataframe_manager_grouped.manager_name.alias(\"name\")).show()"
   ]
  }
 ],
 "metadata": {
  "application/vnd.databricks.v1+notebook": {
   "dashboards": [],
   "language": "python",
   "notebookMetadata": {
    "pythonIndentUnit": 4
   },
   "notebookName": "leetcode_sql_570",
   "widgets": {}
  }
 },
 "nbformat": 4,
 "nbformat_minor": 0
}
