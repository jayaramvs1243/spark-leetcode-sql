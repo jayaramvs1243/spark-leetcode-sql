{
 "cells": [
  {
   "cell_type": "markdown",
   "source": [
    "#### LeetCode - SQL - #607\n",
    "\n",
    "Refer [607. Sales Person](https://leetcode.com/problems/sales-person/description/)\n",
    "\n",
    "Write a solution to find the names of all the salespersons who did not have any orders related to the company with the name  **\"RED\"**.\n",
    "\n",
    "Return the result table in  **any order**."
   ],
   "metadata": {
    "collapsed": false
   },
   "id": "66a4872f181cf660"
  },
  {
   "cell_type": "code",
   "outputs": [],
   "source": [
    "data_sales = [[1, 'John', 100000, 6, '4/1/2006'], [2, 'Amy', 12000, 5, '5/1/2010'], [3, 'Mark', 65000, 12, '12/25/2008'], [4, 'Pam', 25000, 25, '1/1/2005'], [5, 'Alex', 5000, 10, '2/3/2007']]\n",
    "columns_sales = ['sales_id', 'name', 'salary', 'commission_rate', 'hire_date']\n",
    "schema_sales = {'sales_id':'Int64', 'name':'object', 'salary':'Int64', 'commission_rate':'Int64', 'hire_date':'datetime64[ns]'}\n",
    "\n",
    "data_company = [[1, 'RED', 'Boston'], [2, 'ORANGE', 'New York'], [3, 'YELLOW', 'Boston'], [4, 'GREEN', 'Austin']]\n",
    "columns_company = ['com_id', 'name', 'city']\n",
    "schema_company = {'com_id':'Int64', 'name':'object', 'city':'object'}\n",
    "\n",
    "data_orders = [[1, '1/1/2014', 3, 4, 10000], [2, '2/1/2014', 4, 5, 5000], [3, '3/1/2014', 1, 1, 50000], [4, '4/1/2014', 1, 4, 25000]]\n",
    "columns_orders = ['order_id', 'order_date', 'com_id', 'sales_id', 'amount']\n",
    "schema_orders = {'order_id':'Int64', 'order_date':'datetime64[ns]', 'com_id':'Int64', 'sales_id':'Int64', 'amount':'Int64'}"
   ],
   "metadata": {
    "collapsed": false
   },
   "id": "6f6ccdfd742a61a6",
   "execution_count": null
  },
  {
   "cell_type": "code",
   "outputs": [],
   "source": [
    "import pandas\n",
    "\n",
    "pandas_df_sales = pandas.DataFrame(data=data_sales, columns=columns_sales).astype(schema_sales)\n",
    "pandas_df_company = pandas.DataFrame(data=data_company, columns=columns_company).astype(schema_company)\n",
    "pandas_df_orders = pandas.DataFrame(data=data_orders, columns=columns_orders).astype(schema_orders)"
   ],
   "metadata": {
    "collapsed": false
   },
   "id": "176ac0c13e555438",
   "execution_count": null
  },
  {
   "cell_type": "code",
   "outputs": [],
   "source": [
    "from pyspark.sql import SparkSession\n",
    "\n",
    "spark_context = SparkSession.builder.appName('LeetCode SQL').getOrCreate()\n",
    "\n",
    "# Spark DataFrame using Pandas DataFrame\n",
    "df_sales = spark_context.createDataFrame(pandas_df_sales)\n",
    "df_sales.printSchema()\n",
    "df_sales.show(5)\n",
    "\n",
    "df_company = spark_context.createDataFrame(pandas_df_company)\n",
    "df_company.printSchema()\n",
    "df_company.show(5)\n",
    "\n",
    "df_orders = spark_context.createDataFrame(pandas_df_orders)\n",
    "df_orders.printSchema()\n",
    "df_orders.show(5)"
   ],
   "metadata": {
    "collapsed": false
   },
   "id": "531fe63fed8b66a3",
   "execution_count": null
  },
  {
   "cell_type": "code",
   "outputs": [],
   "source": [
    "df_sales_with_company_red \\\n",
    "    = df_orders \\\n",
    "        .join(df_company, (df_orders.com_id == df_company.com_id) & (df_company.name == 'RED'), \"inner\") \\\n",
    "        .select(df_orders.sales_id)\n",
    "\n",
    "list_sales_with_company_red = list(df_sales_with_company_red.toPandas()[\"sales_id\"])"
   ],
   "metadata": {
    "collapsed": false
   },
   "id": "f09c3d274474919c",
   "execution_count": null
  },
  {
   "cell_type": "code",
   "outputs": [],
   "source": [
    "# Using '~' is used to negate the 'isin' condition; equivalent to 'NOT IN' in SQL\n",
    "df_sales \\\n",
    "    .filter(~df_sales.sales_id.isin(list_sales_with_company_red)) \\\n",
    "    .select(df_sales.name) \\\n",
    "    .show()"
   ],
   "metadata": {
    "collapsed": false
   },
   "id": "7e92d8c0faabba34",
   "execution_count": null
  }
 ],
 "metadata": {
  "kernelspec": {
   "display_name": "Python 3",
   "language": "python",
   "name": "python3"
  },
  "language_info": {
   "codemirror_mode": {
    "name": "ipython",
    "version": 2
   },
   "file_extension": ".py",
   "mimetype": "text/x-python",
   "name": "python",
   "nbconvert_exporter": "python",
   "pygments_lexer": "ipython2",
   "version": "2.7.6"
  }
 },
 "nbformat": 4,
 "nbformat_minor": 5
}
