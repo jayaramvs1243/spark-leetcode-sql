{
 "cells": [
  {
   "cell_type": "markdown",
   "metadata": {
    "application/vnd.databricks.v1+cell": {
     "cellMetadata": {
      "byteLimit": 2048000,
      "rowLimit": 10000
     },
     "inputWidgets": {},
     "nuid": "700d9acf-d97e-447e-be8e-d38442aac77b",
     "showTitle": false,
     "title": ""
    }
   },
   "source": [
    "#### LeetCode - SQL - #178\n",
    "\n",
    "Refer [178. Rank Scores](https://leetcode.com/problems/rank-scores/description/)\n",
    "\n",
    "Write a solution to find the rank of the scores. The ranking should be calculated according to the following rules:\n",
    "\n",
    "-   The scores should be ranked from the highest to the lowest.\n",
    "-   If there is a tie between two scores, both should have the same ranking.\n",
    "-   After a tie, the next ranking number should be the next consecutive integer value. In other words, there should be no holes between ranks.\n",
    "\n",
    "Return the result table ordered by  `score`  in descending order."
   ]
  },
  {
   "cell_type": "code",
   "execution_count": 0,
   "metadata": {
    "application/vnd.databricks.v1+cell": {
     "cellMetadata": {
      "byteLimit": 2048000,
      "rowLimit": 10000
     },
     "inputWidgets": {},
     "nuid": "6337a976-a41a-40c2-bbf7-5fe4da8acb22",
     "showTitle": false,
     "title": ""
    }
   },
   "outputs": [],
   "source": [
    "data = [[1, 3.5], [2, 3.65], [3, 4.0], [4, 3.85], [5, 4.0], [6, 3.65]]\n",
    "columns = ['id', 'score']\n",
    "schema = {'id':'Int64', 'score':'Float64'}"
   ]
  },
  {
   "cell_type": "code",
   "execution_count": 0,
   "metadata": {
    "application/vnd.databricks.v1+cell": {
     "cellMetadata": {
      "byteLimit": 2048000,
      "rowLimit": 10000
     },
     "inputWidgets": {},
     "nuid": "b212a9b0-2768-4ce8-8db6-5e8f90546d45",
     "showTitle": false,
     "title": ""
    }
   },
   "outputs": [],
   "source": [
    "import pandas\n",
    "\n",
    "scores_pandas_dataframe = pandas.DataFrame(data=data, columns=columns).astype(schema)"
   ]
  },
  {
   "cell_type": "code",
   "execution_count": 0,
   "metadata": {
    "application/vnd.databricks.v1+cell": {
     "cellMetadata": {
      "byteLimit": 2048000,
      "rowLimit": 10000
     },
     "inputWidgets": {},
     "nuid": "8d57f5ed-0840-4541-b0e2-6b75a29a93a5",
     "showTitle": false,
     "title": ""
    }
   },
   "outputs": [
    {
     "output_type": "stream",
     "name": "stdout",
     "output_type": "stream",
     "text": [
      "root\n |-- id: long (nullable = true)\n |-- score: double (nullable = true)\n\n+---+-----+\n| id|score|\n+---+-----+\n|  1|  3.5|\n|  2| 3.65|\n|  3|  4.0|\n|  4| 3.85|\n|  5|  4.0|\n+---+-----+\nonly showing top 5 rows\n\n"
     ]
    }
   ],
   "source": [
    "from pyspark.sql import SparkSession\n",
    "\n",
    "spark_context = SparkSession.builder.appName(\"LeetCode SQL\").getOrCreate()\n",
    "\n",
    "# Spark DataFrame using Pandas DataFrame\n",
    "scores_dataframe = spark_context.createDataFrame(scores_pandas_dataframe)\n",
    "scores_dataframe.printSchema()\n",
    "scores_dataframe.show(5)"
   ]
  },
  {
   "cell_type": "code",
   "execution_count": 0,
   "metadata": {
    "application/vnd.databricks.v1+cell": {
     "cellMetadata": {
      "byteLimit": 2048000,
      "rowLimit": 10000
     },
     "inputWidgets": {},
     "nuid": "8b250fae-22c9-40fe-bff1-c45e5c46c259",
     "showTitle": false,
     "title": ""
    }
   },
   "outputs": [
    {
     "output_type": "stream",
     "name": "stdout",
     "output_type": "stream",
     "text": [
      "+---+-----+----------+\n| id|score|score_rank|\n+---+-----+----------+\n|  1|  3.5|         4|\n|  2| 3.65|         3|\n|  6| 3.65|         3|\n|  4| 3.85|         2|\n|  3|  4.0|         1|\n|  5|  4.0|         1|\n+---+-----+----------+\n\n"
     ]
    }
   ],
   "source": [
    "from pyspark.sql.window import Window\n",
    "from pyspark.sql.functions import dense_rank\n",
    "\n",
    "window_spec = Window.orderBy(scores_dataframe.score.desc())\n",
    "scores_dataframe = scores_dataframe.withColumn(\"score_rank\", dense_rank().over(window_spec))\n",
    "scores_dataframe.orderBy(scores_dataframe.score_rank, ascending=[False]).show()"
   ]
  }
 ],
 "metadata": {
  "application/vnd.databricks.v1+notebook": {
   "dashboards": [],
   "language": "python",
   "notebookMetadata": {
    "pythonIndentUnit": 4
   },
   "notebookName": "leetcode_sql_178",
   "widgets": {}
  }
 },
 "nbformat": 4,
 "nbformat_minor": 0
}
