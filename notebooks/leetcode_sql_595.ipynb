{
 "cells": [
  {
   "cell_type": "markdown",
   "source": [
    "#### LeetCode - SQL - #595\n",
    "\n",
    "Refer [595. Big Countries](https://leetcode.com/problems/big-countries/description/)\n",
    "\n",
    "A country is  **big**  if:\n",
    "\n",
    "-   it has an area of at least three million (i.e.,  `3000000 km2`), or\n",
    "-   it has a population of at least twenty-five million (i.e.,  `25000000`).\n",
    "\n",
    "Write a solution to find the name, population, and area of the  **big countries**.\n",
    "\n",
    "Return the result table in  **any order**."
   ],
   "metadata": {
    "collapsed": false
   },
   "id": "7bece9d1d67e40c5"
  },
  {
   "cell_type": "code",
   "outputs": [],
   "source": [
    "data_world = [['Afghanistan', 'Asia', 652230, 25500100, 20343000000], ['Albania', 'Europe', 28748, 2831741, 12960000000], ['Algeria', 'Africa', 2381741, 37100000, 188681000000], ['Andorra', 'Europe', 468, 78115, 3712000000], ['Angola', 'Africa', 1246700, 20609294, 100990000000]]\n",
    "columns_world = ['name', 'continent', 'area', 'population', 'gdp']\n",
    "schema_world = {'name':'object', 'continent':'object', 'area':'Int64', 'population':'Int64', 'gdp':'Int64'}"
   ],
   "metadata": {
    "collapsed": false
   },
   "id": "6813c7118b5b611c",
   "execution_count": null
  },
  {
   "cell_type": "code",
   "outputs": [],
   "source": [
    "import pandas\n",
    "\n",
    "pandas_df_world = pandas.DataFrame(data=data_world, columns=columns_world).astype(schema_world)"
   ],
   "metadata": {
    "collapsed": false
   },
   "id": "a353b3fc0a61d602",
   "execution_count": null
  },
  {
   "cell_type": "code",
   "outputs": [],
   "source": [
    "from pyspark.sql import SparkSession\n",
    "\n",
    "spark_context = SparkSession.builder.appName(\"LeetCode SQL\").getOrCreate()\n",
    "\n",
    "# Spark DataFrame using Pandas DataFrame\n",
    "df_world = spark_context.createDataFrame(pandas_df_world)\n",
    "df_world.printSchema()\n",
    "df_world.show(5)"
   ],
   "metadata": {
    "collapsed": false
   },
   "id": "3186867700004e31",
   "execution_count": null
  },
  {
   "cell_type": "code",
   "outputs": [],
   "source": [
    "df_world \\\n",
    "    .filter((df_world.area >= 3000000) | (df_world.population >= 25000000)) \\\n",
    "    .select(df_world.name, df_world.population, df_world.area) \\\n",
    "    .show()"
   ],
   "metadata": {
    "collapsed": false
   },
   "id": "4574794f67c3b055",
   "execution_count": null
  }
 ],
 "metadata": {
  "kernelspec": {
   "display_name": "Python 3",
   "language": "python",
   "name": "python3"
  },
  "language_info": {
   "codemirror_mode": {
    "name": "ipython",
    "version": 2
   },
   "file_extension": ".py",
   "mimetype": "text/x-python",
   "name": "python",
   "nbconvert_exporter": "python",
   "pygments_lexer": "ipython2",
   "version": "2.7.6"
  }
 },
 "nbformat": 4,
 "nbformat_minor": 5
}
