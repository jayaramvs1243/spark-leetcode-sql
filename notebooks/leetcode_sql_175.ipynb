{
 "cells": [
  {
   "cell_type": "markdown",
   "metadata": {
    "application/vnd.databricks.v1+cell": {
     "cellMetadata": {
      "byteLimit": 2048000,
      "rowLimit": 10000
     },
     "inputWidgets": {},
     "nuid": "4bfb4319-1350-4b19-a743-8e631e160995",
     "showTitle": false,
     "title": ""
    }
   },
   "source": [
    "#### LeetCode - SQL - #175\n",
    "\n",
    "Refer [175. Combine Two Tables](https://leetcode.com/problems/combine-two-tables/description/)\n",
    "\n",
    "Write a solution to report the first name, last name, city, and state of each person in the  `Person`  table. If the address of a  `personId`  is not present in the  `Address`  table, report  `null`  instead.\n",
    "\n",
    "Return the result table in  **any order**."
   ]
  },
  {
   "cell_type": "code",
   "execution_count": 0,
   "metadata": {
    "application/vnd.databricks.v1+cell": {
     "cellMetadata": {
      "byteLimit": 2048000,
      "rowLimit": 10000
     },
     "inputWidgets": {},
     "nuid": "63598c41-75ee-4b95-bcad-4df0632710d0",
     "showTitle": false,
     "title": ""
    }
   },
   "outputs": [],
   "source": [
    "person_data = [[1, 'Wang', 'Allen'], [2, 'Alice', 'Bob'], [3, 'Jaya', 'Ram']]\n",
    "person_columns = ['personId', 'firstName', 'lastName']\n",
    "person_schema = {'personId':'Int64', 'firstName':'object', 'lastName':'object'}\n",
    "\n",
    "address_data = [[1, 2, 'New York City', 'New York'], [2, 3, 'Leetcode', 'California']]\n",
    "address_columns = ['addressId', 'personId', 'city', 'state']\n",
    "address_schema = {'addressId':'Int64', 'personId':'Int64', 'city':'object', 'state':'object'}"
   ]
  },
  {
   "cell_type": "code",
   "execution_count": 0,
   "metadata": {
    "application/vnd.databricks.v1+cell": {
     "cellMetadata": {
      "byteLimit": 2048000,
      "rowLimit": 10000
     },
     "inputWidgets": {},
     "nuid": "56c995f5-90da-4f28-902b-49f0db085f6c",
     "showTitle": false,
     "title": ""
    }
   },
   "outputs": [],
   "source": [
    "import pandas\n",
    "\n",
    "person_pandas_dataframe = pandas.DataFrame(data=person_data, columns=person_columns).astype(person_schema)\n",
    "address_pandas_dataframe = pandas.DataFrame(data=address_data, columns=address_columns).astype(address_schema)"
   ]
  },
  {
   "cell_type": "code",
   "execution_count": null,
   "metadata": {
    "application/vnd.databricks.v1+cell": {
     "cellMetadata": {
      "byteLimit": 2048000,
      "rowLimit": 10000
     },
     "inputWidgets": {},
     "nuid": "e578e577-b469-4a20-9fe8-bb05395df1df",
     "showTitle": false,
     "title": ""
    }
   },
   "outputs": [],
   "source": [
    "from pyspark.sql import SparkSession\n",
    "\n",
    "spark_context = SparkSession.builder.appName(\"LeetCode SQL\").getOrCreate()\n",
    "\n",
    "# Spark DataFrame using Pandas DataFrame\n",
    "person_dataframe = spark_context.createDataFrame(person_pandas_dataframe)\n",
    "person_dataframe.printSchema()\n",
    "person_dataframe.show(5)\n",
    "\n",
    "address_dataframe = spark_context.createDataFrame(address_pandas_dataframe)\n",
    "address_dataframe.printSchema()\n",
    "address_dataframe.show(5)"
   ]
  },
  {
   "cell_type": "code",
   "execution_count": 0,
   "metadata": {
    "application/vnd.databricks.v1+cell": {
     "cellMetadata": {
      "byteLimit": 2048000,
      "rowLimit": 10000
     },
     "inputWidgets": {},
     "nuid": "d9a892c0-9773-410c-8596-73718b7f3917",
     "showTitle": false,
     "title": ""
    }
   },
   "outputs": [
    {
     "output_type": "stream",
     "name": "stdout",
     "text": [
      "+---------+--------+-------------+----------+\n|firstName|lastName|         city|     state|\n+---------+--------+-------------+----------+\n|     Wang|   Allen|         NULL|      NULL|\n|    Alice|     Bob|New York City|  New York|\n|     Jaya|     Ram|     Leetcode|California|\n+---------+--------+-------------+----------+\n\n"
     ]
    }
   ],
   "source": [
    "person_dataframe \\\n",
    "    .join(address_dataframe, person_dataframe.personId==address_dataframe.personId, \"left_outer\") \\\n",
    "    .select(person_dataframe.firstName, person_dataframe.lastName, address_dataframe.city, address_dataframe.state) \\\n",
    "    .show()"
   ]
  }
 ],
 "metadata": {
  "application/vnd.databricks.v1+notebook": {
   "dashboards": [],
   "language": "python",
   "notebookMetadata": {
    "pythonIndentUnit": 4
   },
   "notebookName": "leetcode_sql_175",
   "widgets": {}
  }
 },
 "nbformat": 4,
 "nbformat_minor": 0
}
