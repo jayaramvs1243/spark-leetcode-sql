{
 "cells": [
  {
   "cell_type": "markdown",
   "metadata": {
    "application/vnd.databricks.v1+cell": {
     "cellMetadata": {
      "byteLimit": 2048000,
      "rowLimit": 10000
     },
     "inputWidgets": {},
     "nuid": "4e296110-e28e-4711-be43-bc49bd53f779",
     "showTitle": false,
     "title": ""
    }
   },
   "source": [
    "#### LeetCode - SQL - #620\n",
    "\n",
    "Refer [620. Not Boring Movies](https://leetcode.com/problems/not-boring-movies/description/)\n",
    "\n",
    "Write a solution to report the movies with an odd-numbered ID and a description that is not  `\"boring\"`.\n",
    "\n",
    "Return the result table ordered by  `rating`  **in descending order**."
   ]
  },
  {
   "cell_type": "code",
   "outputs": [],
   "source": [
    "data_movies = [[1, 'War', 'great 3D', 8.9], [2, 'Science', 'fiction', 8.5], [3, 'irish', 'boring', 6.2], [4, 'Ice song', 'Fantacy', 8.6], [5, 'House card', 'Interesting', 9.1]]\n",
    "columns_movies = ['id', 'movie', 'description', 'rating']\n",
    "schema_movies = {'id':'Int64', 'movie':'object', 'description':'object', 'rating':'Float64'}"
   ],
   "metadata": {
    "collapsed": false,
    "ExecuteTime": {
     "end_time": "2024-03-15T14:46:58.333397Z",
     "start_time": "2024-03-15T14:46:58.309334Z"
    }
   },
   "execution_count": 15
  },
  {
   "cell_type": "code",
   "outputs": [],
   "source": [
    "import pandas\n",
    "\n",
    "pandas_dataframe = pandas.DataFrame(data=data_movies, columns=columns_movies).astype(schema_movies)"
   ],
   "metadata": {
    "collapsed": false,
    "ExecuteTime": {
     "end_time": "2024-03-15T14:46:58.333683Z",
     "start_time": "2024-03-15T14:46:58.315638Z"
    }
   },
   "execution_count": 16
  },
  {
   "cell_type": "code",
   "outputs": [],
   "source": [
    "from pyspark.sql import SparkSession\n",
    "\n",
    "spark_context = SparkSession.builder.appName(\"LeetCode SQL\").getOrCreate()\n",
    "\n",
    "# Spark DataFrame using Pandas DataFrame\n",
    "movies_dataframe = spark_context.createDataFrame(pandas_dataframe)\n",
    "movies_dataframe.printSchema()\n",
    "movies_dataframe.show()"
   ],
   "metadata": {
    "collapsed": false
   },
   "execution_count": null
  },
  {
   "cell_type": "code",
   "outputs": [
    {
     "name": "stdout",
     "output_type": "stream",
     "text": [
      "+---+----------+-----------+------+\n",
      "| id|     movie|description|rating|\n",
      "+---+----------+-----------+------+\n",
      "|  5|House card|Interesting|   9.1|\n",
      "|  1|       War|   great 3D|   8.9|\n",
      "+---+----------+-----------+------+\n"
     ]
    }
   ],
   "source": [
    "from pyspark.sql.functions import col\n",
    "\n",
    "movies_dataframe \\\n",
    "  .where((col(\"id\") % 2 == 1) & (col(\"description\") != \"boring\")) \\\n",
    "  .sort(col(\"rating\").desc()) \\\n",
    "  .show()"
   ],
   "metadata": {
    "collapsed": false,
    "ExecuteTime": {
     "end_time": "2024-03-15T14:46:58.810168Z",
     "start_time": "2024-03-15T14:46:58.589452Z"
    }
   },
   "execution_count": 18
  },
  {
   "cell_type": "markdown",
   "source": [
    "#### Using Spark SQL"
   ],
   "metadata": {
    "collapsed": false
   }
  },
  {
   "cell_type": "code",
   "outputs": [
    {
     "name": "stdout",
     "output_type": "stream",
     "text": [
      "+---+----------+-----------+------+\n",
      "| id|     movie|description|rating|\n",
      "+---+----------+-----------+------+\n",
      "|  5|House card|Interesting|   9.1|\n",
      "|  1|       War|   great 3D|   8.9|\n",
      "+---+----------+-----------+------+\n"
     ]
    }
   ],
   "source": [
    "movies_dataframe.createOrReplaceTempView(\"View_Movies\")\n",
    "spark_context.sql(\"SELECT * FROM View_Movies WHERE MOD(id, 2) = 1 AND description != 'boring' ORDER BY rating DESC\").show()"
   ],
   "metadata": {
    "collapsed": false,
    "ExecuteTime": {
     "end_time": "2024-03-15T14:46:58.971555Z",
     "start_time": "2024-03-15T14:46:58.792063Z"
    }
   },
   "execution_count": 19
  },
  {
   "cell_type": "markdown",
   "source": [
    "#### DataFrame Sorting"
   ],
   "metadata": {
    "collapsed": false
   }
  },
  {
   "cell_type": "code",
   "outputs": [],
   "source": [
    "# Using orderBy\n",
    "movies_dataframe.orderBy(\"rating\").show()\n",
    "\n",
    "movies_dataframe.orderBy(\"rating\", ascending=[False]).show()\n",
    "movies_dataframe.orderBy(\"movie\", \"rating\", ascending=[True, False]).show()\n",
    "\n",
    "movies_dataframe.orderBy(col(\"rating\").desc()).show()\n",
    "movies_dataframe.orderBy(col(\"movie\").asc(), col(\"rating\").desc()).show()\n",
    "\n",
    "movies_dataframe.orderBy(movies_dataframe.rating.desc()).show()"
   ],
   "metadata": {
    "collapsed": false
   },
   "execution_count": null
  },
  {
   "cell_type": "code",
   "outputs": [],
   "source": [
    "# Using sort\n",
    "\n",
    "movies_dataframe.sort(\"rating\", ascending=[False]).show()\n",
    "movies_dataframe.sort(\"movie\", \"rating\", ascending=[True, False]).show()\n",
    "\n",
    "movies_dataframe.sort(col(\"rating\").desc()).show()\n",
    "movies_dataframe.sort(col(\"movie\").asc(), col(\"rating\").desc()).show()\n",
    "\n",
    "movies_dataframe.sort(movies_dataframe.rating.desc()).show()"
   ],
   "metadata": {
    "collapsed": false
   },
   "execution_count": null
  }
 ],
 "metadata": {
  "application/vnd.databricks.v1+notebook": {
   "dashboards": [],
   "language": "python",
   "notebookMetadata": {
    "pythonIndentUnit": 4
   },
   "notebookName": "leetcode_sql_620",
   "widgets": {}
  },
  "kernelspec": {
   "name": "python3",
   "language": "python",
   "display_name": "Python 3 (ipykernel)"
  }
 },
 "nbformat": 4,
 "nbformat_minor": 0
}
