{
 "cells": [
  {
   "cell_type": "markdown",
   "source": [
    "#### LeetCode - SQL - #619\n",
    "\n",
    "Refer [619. Biggest Single Number](https://leetcode.com/problems/biggest-single-number/description/)\n",
    "\n",
    "A  **single number**  is a number that appeared only once in the  `MyNumbers`  table.\n",
    "\n",
    "Find the largest  **single number**. If there is no  **single number**, report  `null`."
   ],
   "metadata": {
    "collapsed": false
   },
   "id": "98ab19298edef13f"
  },
  {
   "cell_type": "code",
   "outputs": [],
   "source": [
    "data_my_numbers = [[8], [8], [3], [3], [1], [4], [5], [6]]\n",
    "columns_my_numbers = ['num']\n",
    "schema_my_numbers = {'num':'Int64'}"
   ],
   "metadata": {
    "collapsed": false,
    "ExecuteTime": {
     "end_time": "2024-03-15T14:26:55.762376Z",
     "start_time": "2024-03-15T14:26:55.722977Z"
    }
   },
   "id": "c437267627fd6d81",
   "execution_count": 26
  },
  {
   "cell_type": "code",
   "outputs": [],
   "source": [
    "import pandas\n",
    "\n",
    "pandas_df_my_numbers = pandas.DataFrame(data=data_my_numbers, columns=columns_my_numbers).astype(schema_my_numbers)"
   ],
   "metadata": {
    "collapsed": false,
    "ExecuteTime": {
     "end_time": "2024-03-15T14:26:55.799136Z",
     "start_time": "2024-03-15T14:26:55.766747Z"
    }
   },
   "id": "7408940c0caea0aa",
   "execution_count": 27
  },
  {
   "cell_type": "code",
   "outputs": [],
   "source": [
    "from pyspark.sql import SparkSession\n",
    "\n",
    "spark_context = SparkSession.builder.appName('LeetCode SQL').getOrCreate()\n",
    "\n",
    "# Spark DataFrame using Pandas DataFrame\n",
    "# Creating Spark Dataframe from pandas dataframe\n",
    "df_my_numbers = spark_context.createDataFrame(pandas_df_my_numbers)\n",
    "df_my_numbers.schema\n",
    "df_my_numbers.show()"
   ],
   "metadata": {
    "collapsed": false
   },
   "id": "6d9f7eee3ea1afea",
   "execution_count": null
  },
  {
   "cell_type": "code",
   "outputs": [],
   "source": [
    "# Creating Spark Dataframe directly in PySpark function converts 'None' to 'Null'\n",
    "schema_my_numbers = 'num integer';\n",
    "\n",
    "df_my_numbers = spark_context.createDataFrame(data=pandas_df_my_numbers, schema=schema_my_numbers)\n",
    "df_my_numbers.schema\n",
    "df_my_numbers.show()"
   ],
   "metadata": {
    "collapsed": false
   },
   "id": "76ef8742eefae61c",
   "execution_count": null
  },
  {
   "cell_type": "code",
   "outputs": [
    {
     "name": "stdout",
     "output_type": "stream",
     "text": [
      "+---+\n",
      "|num|\n",
      "+---+\n",
      "|  6|\n",
      "+---+\n"
     ]
    }
   ],
   "source": [
    "from pyspark.sql import functions as F\n",
    "\n",
    "df_my_numbers_grouped \\\n",
    "    = df_my_numbers.groupBy(df_my_numbers.num).agg(\n",
    "        F.count(df_my_numbers.num).alias(\"num_count\")\n",
    "    )\n",
    "\n",
    "df_my_numbers_grouped \\\n",
    "    .filter(df_my_numbers_grouped.num_count == 1) \\\n",
    "    .select(F.max(df_my_numbers_grouped.num).alias(\"num\")) \\\n",
    "    .show()"
   ],
   "metadata": {
    "collapsed": false,
    "ExecuteTime": {
     "end_time": "2024-03-15T14:26:56.410674Z",
     "start_time": "2024-03-15T14:26:56.176373Z"
    }
   },
   "id": "ef851a75b5b921dd",
   "execution_count": 30
  }
 ],
 "metadata": {
  "kernelspec": {
   "display_name": "Python 3",
   "language": "python",
   "name": "python3"
  },
  "language_info": {
   "codemirror_mode": {
    "name": "ipython",
    "version": 2
   },
   "file_extension": ".py",
   "mimetype": "text/x-python",
   "name": "python",
   "nbconvert_exporter": "python",
   "pygments_lexer": "ipython2",
   "version": "2.7.6"
  }
 },
 "nbformat": 4,
 "nbformat_minor": 5
}
