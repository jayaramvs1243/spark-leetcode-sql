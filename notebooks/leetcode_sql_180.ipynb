{
 "cells": [
  {
   "cell_type": "markdown",
   "metadata": {
    "application/vnd.databricks.v1+cell": {
     "cellMetadata": {
      "byteLimit": 2048000,
      "rowLimit": 10000
     },
     "inputWidgets": {},
     "nuid": "81958b80-4410-4851-a4d1-08778664067a",
     "showTitle": false,
     "title": ""
    }
   },
   "source": [
    "#### LeetCode - SQL - #180\n",
    "\n",
    "Refer [180. Consecutive Numbers](https://leetcode.com/problems/consecutive-numbers/description/)\n",
    "\n",
    "Find all numbers that appear at least three times consecutively.\n",
    "\n",
    "Return the result table in  **any order**."
   ]
  },
  {
   "cell_type": "code",
   "execution_count": 0,
   "metadata": {
    "application/vnd.databricks.v1+cell": {
     "cellMetadata": {
      "byteLimit": 2048000,
      "rowLimit": 10000
     },
     "inputWidgets": {},
     "nuid": "0207facf-8ba8-4520-92ac-d0cc779ac836",
     "showTitle": false,
     "title": ""
    }
   },
   "outputs": [],
   "source": [
    "data = [[1, 1], [2, 1], [3, 1], [4, 2], [5, 1], [6, 2], [7, 2]]\n",
    "columns = ['id', 'num']\n",
    "schema = {'id':'Int64', 'num':'Int64'}"
   ]
  },
  {
   "cell_type": "code",
   "execution_count": 0,
   "metadata": {
    "application/vnd.databricks.v1+cell": {
     "cellMetadata": {
      "byteLimit": 2048000,
      "rowLimit": 10000
     },
     "inputWidgets": {},
     "nuid": "26b1c994-4f33-4f4c-9b46-9dce4f5c5471",
     "showTitle": false,
     "title": ""
    }
   },
   "outputs": [],
   "source": [
    "import pandas\n",
    "\n",
    "numbers_pandas_dataframe = pandas.DataFrame(data=data, columns=columns).astype(schema)"
   ]
  },
  {
   "cell_type": "code",
   "execution_count": 0,
   "metadata": {
    "application/vnd.databricks.v1+cell": {
     "cellMetadata": {
      "byteLimit": 2048000,
      "rowLimit": 10000
     },
     "inputWidgets": {},
     "nuid": "9535c76b-8d4e-48ae-ab9a-8fbfdf48c587",
     "showTitle": false,
     "title": ""
    }
   },
   "outputs": [
    {
     "output_type": "stream",
     "name": "stdout",
     "output_type": "stream",
     "text": [
      "root\n |-- id: long (nullable = true)\n |-- num: long (nullable = true)\n\n+---+---+\n| id|num|\n+---+---+\n|  1|  1|\n|  2|  1|\n|  3|  1|\n|  4|  2|\n|  5|  1|\n+---+---+\nonly showing top 5 rows\n\n"
     ]
    }
   ],
   "source": [
    "from pyspark.sql import SparkSession\n",
    "\n",
    "spark_context = SparkSession.builder.appName(\"LeetCode SQL\").getOrCreate()\n",
    "\n",
    "# Spark DataFrame using Pandas DataFrame\n",
    "numbers_dataframe = spark_context.createDataFrame(numbers_pandas_dataframe)\n",
    "numbers_dataframe.printSchema()\n",
    "numbers_dataframe.show(5)"
   ]
  },
  {
   "cell_type": "markdown",
   "metadata": {
    "application/vnd.databricks.v1+cell": {
     "cellMetadata": {
      "byteLimit": 2048000,
      "rowLimit": 10000
     },
     "inputWidgets": {},
     "nuid": "0ab19e66-70f9-417d-97cf-3196a73556e7",
     "showTitle": false,
     "title": ""
    }
   },
   "source": [
    "#### Using Window Functions"
   ]
  },
  {
   "cell_type": "code",
   "execution_count": 0,
   "metadata": {
    "application/vnd.databricks.v1+cell": {
     "cellMetadata": {
      "byteLimit": 2048000,
      "rowLimit": 10000
     },
     "inputWidgets": {},
     "nuid": "7edb5f6b-4a70-4560-9d98-ec67252be5bb",
     "showTitle": false,
     "title": ""
    }
   },
   "outputs": [
    {
     "output_type": "stream",
     "name": "stdout",
     "output_type": "stream",
     "text": [
      "+---+---+-------+--------+\n| id|num|lag_num|lead_num|\n+---+---+-------+--------+\n|  1|  1|   NULL|       1|\n|  2|  1|      1|       1|\n|  3|  1|      1|       2|\n|  4|  2|      1|       1|\n|  5|  1|      2|       2|\n+---+---+-------+--------+\nonly showing top 5 rows\n\n+---------------+\n|ConsecutiveNums|\n+---------------+\n|              1|\n+---------------+\n\n"
     ]
    }
   ],
   "source": [
    "from pyspark.sql.window import Window\n",
    "from pyspark.sql.functions import lag, lead\n",
    "\n",
    "window_spec = Window.orderBy(numbers_dataframe.id)\n",
    "numbers_dataframe = \\\n",
    "    numbers_dataframe \\\n",
    "        .withColumn(\"lag_num\", lag(numbers_dataframe.num, 1).over(window_spec)) \\\n",
    "        .withColumn(\"lead_num\", lead(numbers_dataframe.num, 1).over(window_spec))\n",
    "numbers_dataframe.show(5)\n",
    "\n",
    "numbers_dataframe \\\n",
    "    .filter((numbers_dataframe.num == numbers_dataframe.lag_num) & (numbers_dataframe.num == numbers_dataframe.lead_num)) \\\n",
    "    .select(numbers_dataframe.num.alias(\"ConsecutiveNums\")) \\\n",
    "    .show()"
   ]
  },
  {
   "cell_type": "markdown",
   "metadata": {
    "application/vnd.databricks.v1+cell": {
     "cellMetadata": {},
     "inputWidgets": {},
     "nuid": "e4e2de87-795a-42df-8d03-7b9ccc3e1cf3",
     "showTitle": false,
     "title": ""
    }
   },
   "source": [
    "#### Using SQL Joins"
   ]
  },
  {
   "cell_type": "code",
   "execution_count": 0,
   "metadata": {
    "application/vnd.databricks.v1+cell": {
     "cellMetadata": {
      "byteLimit": 2048000,
      "rowLimit": 10000
     },
     "inputWidgets": {},
     "nuid": "b1dd0586-0cec-4c11-9710-e07cd1b01b16",
     "showTitle": false,
     "title": ""
    }
   },
   "outputs": [
    {
     "output_type": "stream",
     "name": "stdout",
     "output_type": "stream",
     "text": [
      "+---+---+\n|num|num|\n+---+---+\n|  1|  2|\n|  1|  2|\n|  1|  2|\n|  1|  2|\n|  1|  2|\n|  1|  2|\n|  1|  2|\n|  1|  2|\n|  1|  2|\n|  1|  2|\n|  1|  2|\n|  1|  2|\n+---+---+\n\n"
     ]
    }
   ],
   "source": [
    "# from pyspark.sql.functions import col\n",
    "\n",
    "# root_dataframe = numbers_dataframe.alias(\"root_dataframe\")\n",
    "# lead_dataframe = numbers_dataframe.alias(\"lead_dataframe\")\n",
    "\n",
    "# joined_df = \\\n",
    "#     numbers_dataframe.alias(\"root\") \\\n",
    "#         .join(numbers_dataframe.alias(\"a\"), (col(\"root.num\") + 1) == col(\"a.num\"), \"inner\") \\\n",
    "#         .select(col(\"root.num\"), col(\"a.num\"))\n",
    "#         .join(numbers_dataframe.alias(\"second\"), (col(\"first.num\") + 1) == col(\"second.num\"), \"inner\")\n",
    "# joined_df.show()\n",
    "# numbers_dataframe.as(\"root\") \\\n",
    "#     .join(lead_dataframe.as(\"lead\"), \"lead.num\" == (\"root.num\" - 1), \"inner\") \\\n",
    "#     .join(lag_dataframe.as(\"lag\"), (\"root.num\" + 1) == \"lag.num\", \"inner\") \\\n",
    "#     .filter(lead_dataframe.num == numbers_dataframe.num & numbers_dataframe.num == lag_dataframe.num) \\\n",
    "#     .select(numbers_dataframe.num.alias(\"ConsecutiveNums\")) \\\n",
    "#     .show()"
   ]
  }
 ],
 "metadata": {
  "application/vnd.databricks.v1+notebook": {
   "dashboards": [],
   "language": "python",
   "notebookMetadata": {
    "pythonIndentUnit": 4
   },
   "notebookName": "leetcode_sql_180",
   "widgets": {}
  }
 },
 "nbformat": 4,
 "nbformat_minor": 0
}
