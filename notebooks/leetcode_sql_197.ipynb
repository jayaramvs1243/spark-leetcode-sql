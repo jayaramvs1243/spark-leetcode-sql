{
 "cells": [
  {
   "cell_type": "markdown",
   "metadata": {
    "application/vnd.databricks.v1+cell": {
     "cellMetadata": {},
     "inputWidgets": {},
     "nuid": "00a26142-8d8c-4369-aec6-ddc9daa2f4e8",
     "showTitle": false,
     "title": ""
    }
   },
   "source": [
    "#### LeetCode - SQL - #197\n",
    "\n",
    "Refer [197. Rising Temperature](https://leetcode.com/problems/rising-temperature/description/)\n",
    "\n",
    "Write a solution to find all dates  `Id`  with higher temperatures compared to its previous dates (yesterday).\n",
    "\n",
    "Return the result table in  **any order**."
   ]
  },
  {
   "cell_type": "code",
   "execution_count": null,
   "metadata": {
    "application/vnd.databricks.v1+cell": {
     "cellMetadata": {
      "byteLimit": 2048000,
      "rowLimit": 10000
     },
     "inputWidgets": {},
     "nuid": "fcadb603-6df7-4266-982b-81a99e28f4d1",
     "showTitle": false,
     "title": ""
    }
   },
   "outputs": [],
   "source": [
    "temperature_data = [[1, '2015-01-01', 10], [2, '2015-01-02', 25], [3, '2015-01-03', 20], [4, '2015-01-04', 30]]\n",
    "temperature_columns = ['id', 'recordDate', 'temperature']\n",
    "temperature_schema = {'id':'Int64', 'recordDate':'datetime64[ns]', 'temperature':'Int64'}"
   ]
  },
  {
   "cell_type": "code",
   "execution_count": null,
   "metadata": {
    "application/vnd.databricks.v1+cell": {
     "cellMetadata": {
      "byteLimit": 2048000,
      "rowLimit": 10000
     },
     "inputWidgets": {},
     "nuid": "dc787af4-952f-49fa-a377-d8f85b84529e",
     "showTitle": false,
     "title": ""
    }
   },
   "outputs": [],
   "source": [
    "import pandas\n",
    "\n",
    "temperature_pandas_dataframe = pandas.DataFrame(data=temperature_data, columns=temperature_columns).astype(temperature_schema)"
   ]
  },
  {
   "cell_type": "code",
   "execution_count": null,
   "metadata": {
    "application/vnd.databricks.v1+cell": {
     "cellMetadata": {
      "byteLimit": 2048000,
      "rowLimit": 10000
     },
     "inputWidgets": {},
     "nuid": "f5125c51-98df-45a9-8133-fb35b745781b",
     "showTitle": false,
     "title": ""
    }
   },
   "outputs": [],
   "source": [
    "from pyspark.sql import SparkSession\n",
    "\n",
    "spark_context = SparkSession.builder.appName(\"LeetCode SQL\").getOrCreate()\n",
    "\n",
    "# Spark DataFrame using Pandas DataFrame\n",
    "temperature_dataframe = spark_context.createDataFrame(temperature_pandas_dataframe)\n",
    "temperature_dataframe.printSchema()\n",
    "temperature_dataframe.show(5)"
   ]
  },
  {
   "cell_type": "code",
   "execution_count": null,
   "metadata": {
    "application/vnd.databricks.v1+cell": {
     "cellMetadata": {
      "byteLimit": 2048000,
      "rowLimit": 10000
     },
     "inputWidgets": {},
     "nuid": "1b8f7bbf-29b4-4aea-aa84-3ef30df0c42b",
     "showTitle": false,
     "title": ""
    }
   },
   "outputs": [],
   "source": [
    "from pyspark.sql.functions import col, date_sub, to_date\n",
    "\n",
    "temperature_dataframe_joined \\\n",
    "    = temperature_dataframe \\\n",
    "        .alias(\"today\") \\\n",
    "        .join(temperature_dataframe.alias(\"yesterday\"), date_sub(to_date(col(\"today.recordDate\")), 1) == to_date(col(\"yesterday.recordDate\")), \"inner\") \\\n",
    "        .select(col(\"today.id\").alias(\"today_id\"), col(\"today.recordDate\").alias(\"today_recordDate\"), col(\"today.temperature\").alias(\"today_temperature\"), col(\"yesterday.temperature\").alias(\"yesterday_temperature\"))\n",
    "temperature_dataframe_joined.show()\n",
    "\n",
    "temperature_dataframe_joined \\\n",
    "    .filter(temperature_dataframe_joined.today_temperature > temperature_dataframe_joined.yesterday_temperature) \\\n",
    "    .select(temperature_dataframe_joined.today_id.alias(\"id\")) \\\n",
    "    .show()"
   ]
  }
 ],
 "metadata": {
  "application/vnd.databricks.v1+notebook": {
   "dashboards": [],
   "language": "python",
   "notebookMetadata": {
    "pythonIndentUnit": 4
   },
   "notebookName": "leetcode_sql_197",
   "widgets": {}
  }
 },
 "nbformat": 4,
 "nbformat_minor": 0
}
