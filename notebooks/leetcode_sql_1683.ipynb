{
 "cells": [
  {
   "cell_type": "markdown",
   "source": [
    "#### LeetCode - SQL - #1683\n",
    "\n",
    "Refer [1683. Invalid Tweets](https://leetcode.com/problems/invalid-tweets/description/)\n",
    "\n",
    "Write a solution to find the IDs of the invalid tweets. The tweet is invalid if the number of characters used in the content of the tweet is  **strictly greater**  than  `15`.\n",
    "\n",
    "Return the result table in  **any order**."
   ],
   "metadata": {
    "collapsed": false
   },
   "id": "3ca6b9ebe84de7ad"
  },
  {
   "cell_type": "code",
   "outputs": [],
   "source": [
    "data_tweets = [[1, 'Vote for Biden'], [2, 'Let us make America great again!']]\n",
    "columns_tweets = ['tweet_id', 'content']\n",
    "schema_tweets = {'tweet_id':'Int64', 'content':'object'}"
   ],
   "metadata": {
    "collapsed": false,
    "ExecuteTime": {
     "end_time": "2024-04-29T08:23:16.264014Z",
     "start_time": "2024-04-29T08:23:16.245554Z"
    }
   },
   "id": "61195377a9cd7e1a",
   "execution_count": 2
  },
  {
   "cell_type": "code",
   "outputs": [],
   "source": [
    "from pyspark.sql import SparkSession\n",
    "\n",
    "spark_context = SparkSession.builder.appName('LeetCode SQL').getOrCreate()"
   ],
   "metadata": {
    "collapsed": false
   },
   "id": "216a578fa69024c4",
   "execution_count": null
  },
  {
   "cell_type": "code",
   "outputs": [
    {
     "name": "stdout",
     "output_type": "stream",
     "text": [
      "root\n",
      " |-- tweet_id: long (nullable = true)\n",
      " |-- content: string (nullable = true)\n"
     ]
    },
    {
     "name": "stderr",
     "output_type": "stream",
     "text": [
      "                                                                                \r"
     ]
    },
    {
     "name": "stdout",
     "output_type": "stream",
     "text": [
      "+--------+--------------------+\n",
      "|tweet_id|             content|\n",
      "+--------+--------------------+\n",
      "|       1|      Vote for Biden|\n",
      "|       2|Let us make Ameri...|\n",
      "+--------+--------------------+\n"
     ]
    }
   ],
   "source": [
    "# Create Spark Dataframe using Pandas\n",
    "import pandas\n",
    "\n",
    "pandas_df_tweets = pandas.DataFrame(data=data_tweets, columns=columns_tweets).astype(schema_tweets)\n",
    "\n",
    "df_tweets = spark_context.createDataFrame(pandas_df_tweets)\n",
    "\n",
    "df_tweets.printSchema()\n",
    "df_tweets.show(5)"
   ],
   "metadata": {
    "collapsed": false,
    "ExecuteTime": {
     "end_time": "2024-04-29T08:25:42.462065Z",
     "start_time": "2024-04-29T08:25:38.770165Z"
    }
   },
   "id": "ecbed78f1777490",
   "execution_count": 4
  },
  {
   "cell_type": "code",
   "outputs": [],
   "source": [
    "# Create Spark Dataframe using PySpark functions - 1\n",
    "schema_tweets = 'tweet_id long, content string'\n",
    "\n",
    "df_tweets = spark_context.createDataFrame(data=data_tweets, schema=schema_tweets)\n",
    "\n",
    "df_tweets.printSchema()\n",
    "df_tweets.show(5)"
   ],
   "metadata": {
    "collapsed": false
   },
   "id": "17c2e92dc4254107",
   "execution_count": null
  },
  {
   "cell_type": "code",
   "outputs": [],
   "source": [
    "# Create Spark Dataframe using PySpark functions - 2\n",
    "from pyspark.sql.types import StructType, StructField, LongType, StringType\n",
    "\n",
    "schema_tweets = StructType([\n",
    "    StructField('tweet_id', LongType(), False),\n",
    "    StructField('content', StringType(), True)\n",
    "])\n",
    "\n",
    "df_tweets = spark_context.createDataFrame(data=data_tweets, schema=schema_tweets)\n",
    "\n",
    "df_tweets.printSchema()\n",
    "df_tweets.show(5)"
   ],
   "metadata": {
    "collapsed": false
   },
   "id": "998c31c0cf4286f",
   "execution_count": null
  },
  {
   "cell_type": "code",
   "outputs": [
    {
     "name": "stdout",
     "output_type": "stream",
     "text": [
      "+--------------------+\n",
      "|             content|\n",
      "+--------------------+\n",
      "|Let us make Ameri...|\n",
      "+--------------------+\n"
     ]
    }
   ],
   "source": [
    "from pyspark.sql import functions as F\n",
    "\n",
    "df_tweets.filter(F.char_length(df_tweets.content) > 15).select(\n",
    "    df_tweets.content\n",
    ").show()"
   ],
   "metadata": {
    "collapsed": false,
    "ExecuteTime": {
     "end_time": "2024-04-29T08:33:34.794746Z",
     "start_time": "2024-04-29T08:33:34.413158Z"
    }
   },
   "id": "6f19c00747de45c1",
   "execution_count": 8
  }
 ],
 "metadata": {
  "kernelspec": {
   "display_name": "Python 3",
   "language": "python",
   "name": "python3"
  },
  "language_info": {
   "codemirror_mode": {
    "name": "ipython",
    "version": 2
   },
   "file_extension": ".py",
   "mimetype": "text/x-python",
   "name": "python",
   "nbconvert_exporter": "python",
   "pygments_lexer": "ipython2",
   "version": "2.7.6"
  }
 },
 "nbformat": 4,
 "nbformat_minor": 5
}
