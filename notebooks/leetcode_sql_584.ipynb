{
 "cells": [
  {
   "cell_type": "markdown",
   "metadata": {
    "application/vnd.databricks.v1+cell": {
     "cellMetadata": {
      "byteLimit": 2048000,
      "rowLimit": 10000
     },
     "inputWidgets": {},
     "nuid": "e68ff513-7c10-4fac-b346-fc815597469a",
     "showTitle": false,
     "title": ""
    }
   },
   "source": [
    "#### LeetCode - SQL - #584\n",
    "\n",
    "Refer [584. Find Customer Referee](https://leetcode.com/problems/find-customer-referee/description/)\n",
    "\n",
    "Find the names of the customer that are  **not referred by**  the customer with  `id = 2`.\n",
    "\n",
    "Return the result table in  **any order**."
   ]
  },
  {
   "cell_type": "code",
   "execution_count": null,
   "metadata": {
    "application/vnd.databricks.v1+cell": {
     "cellMetadata": {
      "byteLimit": 2048000,
      "rowLimit": 10000
     },
     "inputWidgets": {},
     "nuid": "22575f47-a34e-477b-891d-4e9c066f64ba",
     "showTitle": false,
     "title": ""
    }
   },
   "outputs": [],
   "source": [
    "data_customer = [[1, 'Will', None], [2, 'Jane', None], [3, 'Alex', 2], [4, 'Bill', None], [5, 'Zack', 1], [6, 'Mark', 2]]\n",
    "columns_customer = ['id', 'name', 'referee_id']\n",
    "schema_customer = {'id':'Int64', 'name':'object', 'referee_id':'Int64'}"
   ]
  },
  {
   "cell_type": "code",
   "execution_count": null,
   "metadata": {
    "application/vnd.databricks.v1+cell": {
     "cellMetadata": {
      "byteLimit": 2048000,
      "rowLimit": 10000
     },
     "inputWidgets": {},
     "nuid": "e089708d-508b-41a2-9bd9-95d9669018fd",
     "showTitle": false,
     "title": ""
    }
   },
   "outputs": [],
   "source": [
    "import pandas\n",
    "\n",
    "pandas_df_customer = pandas.DataFrame(data=data_customer, columns=columns_customer).astype(schema_customer)"
   ]
  },
  {
   "cell_type": "code",
   "execution_count": null,
   "metadata": {
    "application/vnd.databricks.v1+cell": {
     "cellMetadata": {
      "byteLimit": 2048000,
      "rowLimit": 10000
     },
     "inputWidgets": {},
     "nuid": "5b7c1654-23f5-454b-a415-2bf9eae3c27c",
     "showTitle": false,
     "title": ""
    }
   },
   "outputs": [],
   "source": [
    "from pyspark.sql import SparkSession\n",
    "\n",
    "spark_context = SparkSession.builder.appName(\"LeetCode SQL\").getOrCreate()\n",
    "\n",
    "# Spark DataFrame using Pandas DataFrame\n",
    "df_customer = spark_context.createDataFrame(pandas_dataframe_customer)\n",
    "df_customer.printSchema()\n",
    "df_customer.show(5)"
   ]
  },
  {
   "cell_type": "code",
   "execution_count": null,
   "metadata": {
    "application/vnd.databricks.v1+cell": {
     "cellMetadata": {
      "byteLimit": 2048000,
      "rowLimit": 10000
     },
     "inputWidgets": {},
     "nuid": "fd1f9caa-493b-4f09-a5d0-d8ffc55d022a",
     "showTitle": false,
     "title": ""
    }
   },
   "outputs": [],
   "source": [
    "df_customer \\\n",
    "    .filter((df_customer.referee_id.isNull()) | (df_customer.referee_id != 2)) \\\n",
    "    .select(df_customer.name) \\\n",
    "    .show()"
   ]
  }
 ],
 "metadata": {
  "application/vnd.databricks.v1+notebook": {
   "dashboards": [],
   "language": "python",
   "notebookMetadata": {
    "pythonIndentUnit": 4
   },
   "notebookName": "leetcode_sql_584",
   "widgets": {}
  }
 },
 "nbformat": 4,
 "nbformat_minor": 0
}
