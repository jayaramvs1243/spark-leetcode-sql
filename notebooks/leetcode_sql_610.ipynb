{
 "cells": [
  {
   "cell_type": "markdown",
   "source": [
    "#### LeetCode - SQL - #610\n",
    "\n",
    "Refer [610. Triangle Judgement](https://leetcode.com/problems/triangle-judgement/description/)\n",
    "\n",
    "Report for every three line segments whether they can form a triangle.\n",
    "\n",
    "Return the result table in any order."
   ],
   "metadata": {
    "collapsed": false
   },
   "id": "d85e645c8a6f1c30"
  },
  {
   "cell_type": "code",
   "outputs": [],
   "source": [
    "data_triangle = [[13, 15, 30], [10, 20, 15]]\n",
    "columns_triangle = ['x', 'y', 'z']\n",
    "schema_triangle = {'x':'Int64', 'y':'Int64', 'z':'Int64'}"
   ],
   "metadata": {
    "collapsed": false,
    "ExecuteTime": {
     "end_time": "2024-03-15T08:23:39.462547Z",
     "start_time": "2024-03-15T08:23:39.460403Z"
    }
   },
   "id": "99119228a020cce6",
   "execution_count": 1
  },
  {
   "cell_type": "code",
   "outputs": [],
   "source": [
    "import pandas\n",
    "\n",
    "pandas_df_triangle = pandas.DataFrame(data=data_triangle, columns=columns_triangle).astype(schema_triangle)"
   ],
   "metadata": {
    "collapsed": false,
    "ExecuteTime": {
     "end_time": "2024-03-15T08:24:26.511566Z",
     "start_time": "2024-03-15T08:24:26.170662Z"
    }
   },
   "id": "c1166dc3ff7817b8",
   "execution_count": 2
  },
  {
   "cell_type": "code",
   "outputs": [],
   "source": [
    "from pyspark.sql import SparkSession\n",
    "\n",
    "spark_context = SparkSession.builder.appName('LeetCode SQL').getOrCreate()\n",
    "\n",
    "# Spark DataFrame using Pandas DataFrame\n",
    "# Creating Spark Dataframe from pandas dataframe\n",
    "df_triangle = spark_context.createDataFrame(pandas_df_triangle)\n",
    "df_triangle.printSchema()\n",
    "df_triangle.show()"
   ],
   "metadata": {
    "collapsed": false
   },
   "id": "117e3d80e1c4b1a5",
   "execution_count": null
  },
  {
   "cell_type": "code",
   "outputs": [],
   "source": [
    "# Creating Spark Dataframe directly in PySpark function converts 'None' to 'Null'\n",
    "schema_triangle = \"x long, y long, z long\"\n",
    "\n",
    "df_triangle = spark_context.createDataFrame(data=data_triangle, schema=schema_triangle)\n",
    "df_triangle.printSchema()\n",
    "df_triangle.show()"
   ],
   "metadata": {
    "collapsed": false
   },
   "id": "4db7fd4d3353e9c2",
   "execution_count": null
  },
  {
   "cell_type": "code",
   "outputs": [
    {
     "name": "stdout",
     "output_type": "stream",
     "text": [
      "+---+---+---+--------+\n",
      "|  x|  y|  z|triangle|\n",
      "+---+---+---+--------+\n",
      "| 13| 15| 30|      No|\n",
      "| 10| 20| 15|     Yes|\n",
      "+---+---+---+--------+\n"
     ]
    }
   ],
   "source": [
    "from pyspark.sql import functions as F\n",
    "\n",
    "# Rule for Triangle: Length of one side should always be less than the sum of length of the other 2 others sides\n",
    "\n",
    "df_triangle.select(\n",
    "    df_triangle.x,\n",
    "    df_triangle.y,\n",
    "    df_triangle.z,\n",
    "    F.when((df_triangle.x < df_triangle.y + df_triangle.z) & (df_triangle.y < df_triangle.x + df_triangle.z) & (df_triangle.z < df_triangle.x + df_triangle.y), 'Yes').otherwise('No').alias('triangle')\n",
    ").show()"
   ],
   "metadata": {
    "collapsed": false,
    "ExecuteTime": {
     "end_time": "2024-03-15T08:30:34.747926Z",
     "start_time": "2024-03-15T08:30:34.226979Z"
    }
   },
   "id": "18c683419fcbffc4",
   "execution_count": 6
  }
 ],
 "metadata": {
  "kernelspec": {
   "display_name": "Python 3",
   "language": "python",
   "name": "python3"
  },
  "language_info": {
   "codemirror_mode": {
    "name": "ipython",
    "version": 2
   },
   "file_extension": ".py",
   "mimetype": "text/x-python",
   "name": "python",
   "nbconvert_exporter": "python",
   "pygments_lexer": "ipython2",
   "version": "2.7.6"
  }
 },
 "nbformat": 4,
 "nbformat_minor": 5
}
