{
 "cells": [
  {
   "cell_type": "markdown",
   "metadata": {
    "application/vnd.databricks.v1+cell": {
     "cellMetadata": {
      "byteLimit": 2048000,
      "rowLimit": 10000
     },
     "inputWidgets": {},
     "nuid": "b524f90f-d528-42e8-b4b6-a443e25e51e3",
     "showTitle": false,
     "title": ""
    }
   },
   "source": [
    "#### LeetCode - SQL - #176\n",
    "\n",
    "Refer [176. Second Highest Salary](https://leetcode.com/problems/second-highest-salary/description/)\n",
    "\n",
    "Write a solution to find the second highest salary from the `Employee` table. If there is no second highest salary, return `null`."
   ]
  },
  {
   "cell_type": "code",
   "execution_count": 0,
   "metadata": {
    "application/vnd.databricks.v1+cell": {
     "cellMetadata": {
      "byteLimit": 2048000,
      "rowLimit": 10000
     },
     "inputWidgets": {},
     "nuid": "304a60ed-4dfc-406c-8742-f165d51f0598",
     "showTitle": false,
     "title": ""
    }
   },
   "outputs": [],
   "source": [
    "data = [[1, 100], [2, 200], [2, 200], [3, 300]]\n",
    "\n",
    "columns = ['id', 'salary']\n",
    "schema = {'id':'int64', 'salary':'int64'}"
   ]
  },
  {
   "cell_type": "code",
   "execution_count": 0,
   "metadata": {
    "application/vnd.databricks.v1+cell": {
     "cellMetadata": {
      "byteLimit": 2048000,
      "rowLimit": 10000
     },
     "inputWidgets": {},
     "nuid": "bd249885-9ddf-4255-b16c-e19f7a8bc06f",
     "showTitle": false,
     "title": ""
    }
   },
   "outputs": [],
   "source": [
    "import pandas\n",
    "\n",
    "salary_pandas_dataframe = pandas.DataFrame(data=data, columns=columns).astype(schema)"
   ]
  },
  {
   "cell_type": "code",
   "execution_count": 0,
   "metadata": {
    "application/vnd.databricks.v1+cell": {
     "cellMetadata": {
      "byteLimit": 2048000,
      "rowLimit": 10000
     },
     "inputWidgets": {},
     "nuid": "b223bccf-5ea0-4f57-a54f-c8dd8855b78d",
     "showTitle": false,
     "title": ""
    }
   },
   "outputs": [
    {
     "output_type": "stream",
     "name": "stdout",
     "output_type": "stream",
     "text": [
      "root\n |-- id: long (nullable = true)\n |-- salary: long (nullable = true)\n\n+---+------+\n| id|salary|\n+---+------+\n|  1|   100|\n|  2|   200|\n|  2|   200|\n|  3|   300|\n+---+------+\n\n"
     ]
    }
   ],
   "source": [
    "from pyspark.sql import SparkSession\n",
    "\n",
    "spark_context = SparkSession.builder.appName(\"LeetCode SQL\").getOrCreate()\n",
    "\n",
    "# Spark DataFrame using Pandas DataFrame\n",
    "salary_dataframe = spark_context.createDataFrame(salary_pandas_dataframe)\n",
    "salary_dataframe.printSchema()\n",
    "salary_dataframe.show(5)"
   ]
  },
  {
   "cell_type": "markdown",
   "metadata": {
    "application/vnd.databricks.v1+cell": {
     "cellMetadata": {
      "byteLimit": 2048000,
      "rowLimit": 10000
     },
     "inputWidgets": {},
     "nuid": "f6e12a6e-4592-458f-bc87-7d59afee2eda",
     "showTitle": false,
     "title": ""
    }
   },
   "source": [
    "#### Using normal SQL functions"
   ]
  },
  {
   "cell_type": "code",
   "execution_count": 0,
   "metadata": {
    "application/vnd.databricks.v1+cell": {
     "cellMetadata": {
      "byteLimit": 2048000,
      "rowLimit": 10000
     },
     "inputWidgets": {},
     "nuid": "4140c2fe-4161-47b5-91e5-b109b75751d1",
     "showTitle": false,
     "title": ""
    }
   },
   "outputs": [
    {
     "output_type": "stream",
     "name": "stdout",
     "output_type": "stream",
     "text": [
      "+------+\n|salary|\n+------+\n|   200|\n+------+\n\n"
     ]
    }
   ],
   "source": [
    "from pyspark.sql.functions import max\n",
    "\n",
    "# 1\n",
    "max_salary = salary_dataframe.select(max(salary_dataframe.salary)).collect()[0][0]\n",
    "print(max_salary)\n",
    "\n",
    "salary_dataframe \\\n",
    "    .where(salary_dataframe.salary != max_salary) \\\n",
    "    .select(max(salary_dataframe.salary).alias(\"SecondHighestSalary\")) \\\n",
    "    .show()\n",
    "\n",
    "# 2\n",
    "salary_dataframe \\\n",
    "    .select(salary_dataframe.salary).distinct() \\\n",
    "    .sort(salary_dataframe.salary.desc()) \\\n",
    "    .offset(1) \\\n",
    "    .limit(1) \\\n",
    "    .show()"
   ]
  },
  {
   "cell_type": "markdown",
   "metadata": {
    "application/vnd.databricks.v1+cell": {
     "cellMetadata": {
      "byteLimit": 2048000,
      "rowLimit": 10000
     },
     "inputWidgets": {},
     "nuid": "a8c18636-af0e-4be6-8804-f98f9a57f9a4",
     "showTitle": false,
     "title": ""
    }
   },
   "source": [
    "#### Using Window Fuctions"
   ]
  },
  {
   "cell_type": "code",
   "execution_count": 0,
   "metadata": {
    "application/vnd.databricks.v1+cell": {
     "cellMetadata": {
      "byteLimit": 2048000,
      "rowLimit": 10000
     },
     "inputWidgets": {},
     "nuid": "ff8fae14-3224-4199-812a-b5a202b99c67",
     "showTitle": false,
     "title": ""
    }
   },
   "outputs": [
    {
     "output_type": "stream",
     "name": "stdout",
     "output_type": "stream",
     "text": [
      "+---+------+-----------+\n| id|salary|salary_rank|\n+---+------+-----------+\n|  3|   300|          1|\n|  2|   200|          2|\n|  2|   200|          2|\n|  1|   100|          3|\n+---+------+-----------+\n\n+-------------------+\n|SecondHighestSalary|\n+-------------------+\n|                200|\n+-------------------+\n\n"
     ]
    }
   ],
   "source": [
    "from pyspark.sql.functions import dense_rank, max\n",
    "from pyspark.sql.window import Window\n",
    "\n",
    "windowSpec = Window.orderBy(salary_dataframe.salary.desc())\n",
    "salary_dataframe = salary_dataframe.withColumn(\"salary_rank\", dense_rank().over(windowSpec))\n",
    "salary_dataframe.show(5)\n",
    "\n",
    "salary_dataframe \\\n",
    "    .filter(salary_dataframe.salary_rank==2) \\\n",
    "    .select(max(salary_dataframe.salary).alias(\"SecondHighestSalary\")) \\\n",
    "    .show()"
   ]
  }
 ],
 "metadata": {
  "application/vnd.databricks.v1+notebook": {
   "dashboards": [],
   "language": "python",
   "notebookMetadata": {
    "pythonIndentUnit": 4
   },
   "notebookName": "leetcode_sql_176",
   "widgets": {}
  }
 },
 "nbformat": 4,
 "nbformat_minor": 0
}
