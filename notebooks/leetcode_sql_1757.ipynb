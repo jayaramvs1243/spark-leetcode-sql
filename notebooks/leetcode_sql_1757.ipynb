{
 "cells": [
  {
   "cell_type": "markdown",
   "metadata": {
    "application/vnd.databricks.v1+cell": {
     "cellMetadata": {
      "byteLimit": 2048000,
      "rowLimit": 10000
     },
     "inputWidgets": {},
     "nuid": "02c82682-0180-4f18-81a3-3c64223456db",
     "showTitle": false,
     "title": ""
    }
   },
   "source": [
    "#### LeetCode - SQL - #1757\n",
    "\n",
    "Refer [1757. Recyclable and Low Fat Products](https://leetcode.com/problems/recyclable-and-low-fat-products/description/)\n",
    "\n",
    "Write a solution to find the ids of products that are both low fat and recyclable.\n",
    "1. low_fats is an ENUM (category) of type ('Y', 'N') where 'Y' means this product is low fat and 'N' means it is not.\n",
    "2. recyclable is an ENUM (category) of types ('Y', 'N') where 'Y' means this product is recyclable and 'N' means it is not.\n",
    "\n",
    "Return the result table in  **any order**."
   ]
  },
  {
   "cell_type": "code",
   "execution_count": 0,
   "metadata": {
    "application/vnd.databricks.v1+cell": {
     "cellMetadata": {
      "byteLimit": 2048000,
      "rowLimit": 10000
     },
     "inputWidgets": {},
     "nuid": "f244bb0a-2784-43d4-bd59-6a4875fde6af",
     "showTitle": false,
     "title": ""
    }
   },
   "outputs": [],
   "source": [
    "data = [['0', 'Y', 'N'], ['1', 'Y', 'Y'], ['2', 'N', 'Y'], ['3', 'Y', 'Y'], ['4', 'N', 'N']]\n",
    "\n",
    "columns = ['product_id', 'low_fats', 'recyclable']\n",
    "schema = {'product_id':'int64', 'low_fats':'category', 'recyclable':'category'}"
   ]
  },
  {
   "cell_type": "code",
   "execution_count": 0,
   "metadata": {
    "application/vnd.databricks.v1+cell": {
     "cellMetadata": {
      "byteLimit": 2048000,
      "rowLimit": 10000
     },
     "inputWidgets": {},
     "nuid": "6acea0ff-a045-41d8-9f8f-e0a68ef48dee",
     "showTitle": false,
     "title": ""
    }
   },
   "outputs": [],
   "source": [
    "import pandas\n",
    "\n",
    "pandas_dataframe = pandas.DataFrame(data=data, columns=columns).astype(schema)"
   ]
  },
  {
   "cell_type": "code",
   "execution_count": 0,
   "metadata": {
    "application/vnd.databricks.v1+cell": {
     "cellMetadata": {
      "byteLimit": 2048000,
      "rowLimit": 10000
     },
     "inputWidgets": {},
     "nuid": "84c63f5f-32d1-4226-8298-1a2a610388b7",
     "showTitle": false,
     "title": ""
    }
   },
   "outputs": [
    {
     "output_type": "stream",
     "name": "stdout",
     "output_type": "stream",
     "text": [
      "root\n |-- product_id: long (nullable = true)\n |-- low_fats: string (nullable = true)\n |-- recyclable: string (nullable = true)\n\n+----------+--------+----------+\n|product_id|low_fats|recyclable|\n+----------+--------+----------+\n|         0|       Y|         N|\n|         1|       Y|         Y|\n|         2|       N|         Y|\n|         3|       Y|         Y|\n|         4|       N|         N|\n+----------+--------+----------+\n\n"
     ]
    }
   ],
   "source": [
    "from pyspark.sql import SparkSession\n",
    "\n",
    "spark_context = SparkSession.builder.appName(\"LeetCode SQL\").getOrCreate()\n",
    "\n",
    "# Spark DataFrame using Pandas DataFrame\n",
    "spark_dataframe_using_pandas = spark_context.createDataFrame(pandas_dataframe)\n",
    "spark_dataframe_using_pandas.printSchema()\n",
    "spark_dataframe_using_pandas.show()"
   ]
  },
  {
   "cell_type": "code",
   "execution_count": 0,
   "metadata": {
    "application/vnd.databricks.v1+cell": {
     "cellMetadata": {
      "byteLimit": 2048000,
      "rowLimit": 10000
     },
     "inputWidgets": {},
     "nuid": "c231f349-68b5-40e6-a382-b8592a88fecd",
     "showTitle": false,
     "title": ""
    }
   },
   "outputs": [
    {
     "output_type": "stream",
     "name": "stdout",
     "output_type": "stream",
     "text": [
      "+----------+\n|product_id|\n+----------+\n|         1|\n|         3|\n+----------+\n\n"
     ]
    }
   ],
   "source": [
    "spark_dataframe_using_pandas.select(\"product_id\").where(\"low_fats = 'Y'\").where(\"recyclable = 'Y'\").show()"
   ]
  },
  {
   "cell_type": "code",
   "execution_count": 0,
   "metadata": {
    "application/vnd.databricks.v1+cell": {
     "cellMetadata": {
      "byteLimit": 2048000,
      "rowLimit": 10000
     },
     "inputWidgets": {},
     "nuid": "18a56dc7-3a20-4f84-a785-e07fb2a148d2",
     "showTitle": false,
     "title": ""
    }
   },
   "outputs": [
    {
     "output_type": "stream",
     "name": "stdout",
     "output_type": "stream",
     "text": [
      "+----------+\n|product_id|\n+----------+\n|         1|\n|         3|\n+----------+\n\n"
     ]
    }
   ],
   "source": [
    "spark_dataframe_using_pandas.select(\"product_id\").where(\"low_fats = 'Y' AND recyclable = 'Y'\").show()"
   ]
  },
  {
   "cell_type": "code",
   "execution_count": 0,
   "metadata": {
    "application/vnd.databricks.v1+cell": {
     "cellMetadata": {
      "byteLimit": 2048000,
      "rowLimit": 10000
     },
     "inputWidgets": {},
     "nuid": "f751f724-7314-4499-9e1a-d5b3eae7dcd3",
     "showTitle": false,
     "title": ""
    }
   },
   "outputs": [
    {
     "output_type": "stream",
     "name": "stdout",
     "output_type": "stream",
     "text": [
      "root\n |-- product_id: string (nullable = false)\n |-- low_fats: string (nullable = true)\n |-- recyclable: string (nullable = true)\n\nroot\n |-- product_id: integer (nullable = true)\n |-- low_fats: string (nullable = true)\n |-- recyclable: string (nullable = true)\n\n+----------+--------+----------+\n|product_id|low_fats|recyclable|\n+----------+--------+----------+\n|         0|       Y|         N|\n|         1|       Y|         Y|\n|         2|       N|         Y|\n|         3|       Y|         Y|\n|         4|       N|         N|\n+----------+--------+----------+\n\n"
     ]
    }
   ],
   "source": [
    "from pyspark.sql.types import StructType, StructField, IntegerType, StringType\n",
    "from pyspark.sql.functions import col\n",
    "\n",
    "# Spark DataFrame directly using data and schema\n",
    "data_schema = StructType([\n",
    "    StructField(\"product_id\", StringType(), False),\n",
    "    StructField(\"low_fats\", StringType(), True),\n",
    "    StructField(\"recyclable\", StringType(), True),\n",
    "])\n",
    "\n",
    "spark_dataframe = spark_context.createDataFrame(data=data, schema=data_schema)\n",
    "spark_dataframe.printSchema()\n",
    "\n",
    "# Note that the product_id is of String type\n",
    "# Convert String type to Integer type\n",
    "\n",
    "## Using withColumn function\n",
    "spark_dataframe = spark_dataframe.withColumn(\"product_id\", spark_dataframe[\"product_id\"].cast(IntegerType()))\n",
    "# spark_dataframe = spark_dataframe.withColumn(\"product_id\", col(\"product_id\").cast(IntegerType()))\n",
    "# spark_dataframe = spark_dataframe.withColumn(\"product_id\", col(\"product_id\").cast(\"int\"))\n",
    "# spark_dataframe = spark_dataframe.withColumn(\"product_id\", col(\"product_id\").cast(\"integer\"))\n",
    "\n",
    "## Using select function\n",
    "# spark_dataframe = spark_dataframe.select(col(\"product_id\").cast(\"int\"), col(\"low_fats\"), col(\"recyclable\"))\n",
    "# spark_dataframe = spark_dataframe.selectExpr(\"CAST(product_id AS int) AS product_id\", \"low_fats\", \"recyclable\")\n",
    "# spark_dataframe = spark_dataframe.selectExpr(\"INT(product_id ) AS product_id\", \"low_fats\", \"recyclable\")\n",
    "\n",
    "## Using SQL query\n",
    "# spark_dataframe.createOrReplaceTempView(\"ProductsTempView\")\n",
    "# spark_dataframe = spark_context.sql(\"SELECT CAST(product_id AS int) AS product_id, low_fats, recyclable FROM ProductsTempView\")\n",
    "\n",
    "spark_dataframe.printSchema()\n",
    "spark_dataframe.show()"
   ]
  }
 ],
 "metadata": {
  "application/vnd.databricks.v1+notebook": {
   "dashboards": [],
   "language": "python",
   "notebookMetadata": {
    "pythonIndentUnit": 4
   },
   "notebookName": "leetcode_sql_1757",
   "widgets": {}
  }
 },
 "nbformat": 4,
 "nbformat_minor": 0
}
