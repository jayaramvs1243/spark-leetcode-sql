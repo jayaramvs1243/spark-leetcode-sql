{
 "cells": [
  {
   "cell_type": "markdown",
   "metadata": {
    "application/vnd.databricks.v1+cell": {
     "cellMetadata": {},
     "inputWidgets": {},
     "nuid": "4274a1ee-c89d-406e-80ae-8817434e5015",
     "showTitle": false,
     "title": ""
    }
   },
   "source": [
    "#### LeetCode - SQL - #262\n",
    "\n",
    "Refer [262. Trips and Users](https://leetcode.com/problems/trips-and-users/description/)\n",
    "\n",
    "The  **cancellation rate**  is computed by dividing the number of canceled (by client or driver) requests with unbanned users by the total number of requests with unbanned users on that day.\n",
    "\n",
    "Write a solution to find the  **cancellation rate**  of requests with unbanned users (**both client and driver must not be banned**) each day between  `\"2013-10-01\"`  and  `\"2013-10-03\"`. Round  `Cancellation Rate`  to  **two decimal**  points.\n",
    "\n",
    "Return the result table in  **any order**.\n",
    "\n",
    "1. *status in trips is an ENUM (category) type of ('completed', 'cancelled_by_driver', 'cancelled_by_client').*\n",
    "2. *role in users is an ENUM type of ('client', 'driver', 'partner').*\n",
    "3. *banned in users is an ENUM (category) type of ('Yes', 'No').*"
   ]
  },
  {
   "cell_type": "code",
   "execution_count": 0,
   "metadata": {
    "application/vnd.databricks.v1+cell": {
     "cellMetadata": {
      "byteLimit": 2048000,
      "rowLimit": 10000
     },
     "inputWidgets": {},
     "nuid": "3e1584ae-a7ea-4f48-958b-f4ce755b92a6",
     "showTitle": false,
     "title": ""
    }
   },
   "outputs": [],
   "source": [
    "trips_data = [['1', '1', '10', '1', 'completed', '2013-10-01'], ['2', '2', '11', '1', 'cancelled_by_driver', '2013-10-01'], ['3', '3', '12', '6', 'completed', '2013-10-01'], ['4', '4', '13', '6', 'cancelled_by_client', '2013-10-01'], ['5', '1', '10', '1', 'completed', '2013-10-02'], ['6', '2', '11', '6', 'completed', '2013-10-02'], ['7', '3', '12', '6', 'completed', '2013-10-02'], ['8', '2', '12', '12', 'completed', '2013-10-03'], ['9', '3', '10', '12', 'completed', '2013-10-03'], ['10', '4', '13', '12', 'cancelled_by_driver', '2013-10-03']]\n",
    "trips_columns = ['id', 'client_id', 'driver_id', 'city_id', 'status', 'request_at']\n",
    "trips_schema = {'id':'Int64', 'client_id':'Int64', 'driver_id':'Int64', 'city_id':'Int64', 'status':'object', 'request_at':'object'}\n",
    "\n",
    "users_data = [['1', 'No', 'client'], ['2', 'Yes', 'client'], ['3', 'No', 'client'], ['4', 'No', 'client'], ['10', 'No', 'driver'], ['11', 'No', 'driver'], ['12', 'No', 'driver'], ['13', 'No', 'driver']]\n",
    "users_columns = ['users_id', 'banned', 'role']\n",
    "users_schema = {'users_id':'Int64', 'banned':'object', 'role':'object'}"
   ]
  },
  {
   "cell_type": "code",
   "execution_count": 0,
   "metadata": {
    "application/vnd.databricks.v1+cell": {
     "cellMetadata": {
      "byteLimit": 2048000,
      "rowLimit": 10000
     },
     "inputWidgets": {},
     "nuid": "9d372e1f-4b3d-4b49-85b5-245dd70ad19a",
     "showTitle": false,
     "title": ""
    }
   },
   "outputs": [],
   "source": [
    "import pandas\n",
    "\n",
    "trips_pandas_dataframe = pandas.DataFrame(data=trips_data, columns=trips_columns).astype(trips_schema)\n",
    "users_pandas_dataframe = pandas.DataFrame(data=users_data, columns=users_columns).astype(users_schema)"
   ]
  },
  {
   "cell_type": "code",
   "execution_count": 0,
   "metadata": {
    "application/vnd.databricks.v1+cell": {
     "cellMetadata": {
      "byteLimit": 2048000,
      "rowLimit": 10000
     },
     "inputWidgets": {},
     "nuid": "d2f96133-707c-4a1f-a66f-45448e396bed",
     "showTitle": false,
     "title": ""
    }
   },
   "outputs": [
    {
     "output_type": "stream",
     "name": "stdout",
     "output_type": "stream",
     "text": [
      "root\n |-- id: long (nullable = true)\n |-- client_id: long (nullable = true)\n |-- driver_id: long (nullable = true)\n |-- city_id: long (nullable = true)\n |-- status: string (nullable = true)\n |-- request_at: string (nullable = true)\n\n+---+---------+---------+-------+-------------------+----------+\n| id|client_id|driver_id|city_id|             status|request_at|\n+---+---------+---------+-------+-------------------+----------+\n|  1|        1|       10|      1|          completed|2013-10-01|\n|  2|        2|       11|      1|cancelled_by_driver|2013-10-01|\n|  3|        3|       12|      6|          completed|2013-10-01|\n|  4|        4|       13|      6|cancelled_by_client|2013-10-01|\n|  5|        1|       10|      1|          completed|2013-10-02|\n+---+---------+---------+-------+-------------------+----------+\nonly showing top 5 rows\n\nroot\n |-- users_id: long (nullable = true)\n |-- banned: string (nullable = true)\n |-- role: string (nullable = true)\n\n+--------+------+------+\n|users_id|banned|  role|\n+--------+------+------+\n|       1|    No|client|\n|       2|   Yes|client|\n|       3|    No|client|\n|       4|    No|client|\n|      10|    No|driver|\n+--------+------+------+\nonly showing top 5 rows\n\n"
     ]
    }
   ],
   "source": [
    "from pyspark.sql import SparkSession\n",
    "\n",
    "spark_context = SparkSession.builder.appName(\"LeetCode SQL\").getOrCreate()\n",
    "\n",
    "# Spark DataFrame using Pandas DataFrame\n",
    "trips_dataframe = spark_context.createDataFrame(trips_pandas_dataframe)\n",
    "trips_dataframe.printSchema()\n",
    "trips_dataframe.show(5)\n",
    "\n",
    "users_dataframe = spark_context.createDataFrame(users_pandas_dataframe)\n",
    "users_dataframe.printSchema()\n",
    "users_dataframe.show(5)"
   ]
  },
  {
   "cell_type": "code",
   "execution_count": 0,
   "metadata": {
    "application/vnd.databricks.v1+cell": {
     "cellMetadata": {
      "byteLimit": 2048000,
      "rowLimit": 10000
     },
     "inputWidgets": {},
     "nuid": "2a867bc9-6e60-454c-bb03-80552004d98a",
     "showTitle": false,
     "title": ""
    }
   },
   "outputs": [
    {
     "output_type": "stream",
     "name": "stdout",
     "output_type": "stream",
     "text": [
      "+----------+-------------------+\n|request_at|             status|\n+----------+-------------------+\n|2013-10-01|          completed|\n|2013-10-01|          completed|\n|2013-10-01|cancelled_by_client|\n|2013-10-02|          completed|\n|2013-10-02|          completed|\n|2013-10-03|          completed|\n|2013-10-03|cancelled_by_driver|\n+----------+-------------------+\n\n"
     ]
    }
   ],
   "source": [
    "from pyspark.sql.functions import col, to_date\n",
    "\n",
    "joined_trips_dataframe \\\n",
    "    = trips_dataframe.alias(\"trip\") \\\n",
    "        .join(users_dataframe.alias(\"client\"), col(\"trip.client_id\") == col(\"client.users_id\"), \"inner\") \\\n",
    "        .join(users_dataframe.alias(\"driver\"), col(\"trip.driver_id\") == col(\"driver.users_id\"), \"inner\") \\\n",
    "        .filter((col(\"client.banned\") == \"No\") & (col(\"driver.banned\") == \"No\")) \\\n",
    "        .filter((col(\"trip.request_at\") >= \"2013-10-01\") & (col(\"trip.request_at\") <= \"2013-10-03\")) \\\n",
    "        .select(col(\"trip.request_at\").alias(\"request_at\"), col(\"trip.status\").alias(\"status\"))\n",
    "joined_trips_dataframe.show()"
   ]
  },
  {
   "cell_type": "code",
   "execution_count": 0,
   "metadata": {
    "application/vnd.databricks.v1+cell": {
     "cellMetadata": {
      "byteLimit": 2048000,
      "rowLimit": 10000
     },
     "inputWidgets": {},
     "nuid": "3d475fe5-bd8c-48a3-aaaa-74987b90c70b",
     "showTitle": false,
     "title": ""
    }
   },
   "outputs": [
    {
     "output_type": "stream",
     "name": "stdout",
     "output_type": "stream",
     "text": [
      "+----------+-----------------+\n|       Day|Cancellation Rate|\n+----------+-----------------+\n|2013-10-01|             0.33|\n|2013-10-02|              0.0|\n|2013-10-03|              0.5|\n+----------+-----------------+\n\n"
     ]
    }
   ],
   "source": [
    "from pyspark.sql.functions import count, when, round\n",
    "\n",
    "result_dataframe \\\n",
    "    = joined_trips_dataframe \\\n",
    "        .groupBy(col(\"request_at\").alias(\"Day\")) \\\n",
    "        .agg( \\\n",
    "            round((count( \\\n",
    "                when(((col(\"status\") == \"cancelled_by_client\") | (col(\"status\") == \"cancelled_by_driver\")), 1)) / count(\"*\") \\\n",
    "            ), 2).alias(\"Cancellation Rate\") \\\n",
    "        )\n",
    "result_dataframe.show()"
   ]
  }
 ],
 "metadata": {
  "application/vnd.databricks.v1+notebook": {
   "dashboards": [],
   "language": "python",
   "notebookMetadata": {
    "pythonIndentUnit": 4
   },
   "notebookName": "leetcode_sql_262",
   "widgets": {}
  }
 },
 "nbformat": 4,
 "nbformat_minor": 0
}
