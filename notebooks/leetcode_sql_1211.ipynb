{
 "cells": [
  {
   "cell_type": "markdown",
   "metadata": {
    "application/vnd.databricks.v1+cell": {
     "cellMetadata": {
      "byteLimit": 2048000,
      "rowLimit": 10000
     },
     "inputWidgets": {},
     "nuid": "8d2350a6-c069-410b-969d-6beebd48b089",
     "showTitle": false,
     "title": ""
    }
   },
   "source": [
    "#### LeetCode - SQL - #1211\n",
    "\n",
    "Refer [1211. Queries Quality and Percentage](https://leetcode.com/problems/queries-quality-and-percentage/description/)\n",
    "\n",
    "We define query  `quality`  as:\n",
    "\n",
    "> The average of the ratio between query rating and its position.\n",
    "\n",
    "We also define  `poor query percentage`  as:\n",
    "\n",
    "> The percentage of all queries with rating less than 3.\n",
    "\n",
    "Write a solution to find each  `query_name`, the  `quality`  and  `poor_query_percentage`.\n",
    "\n",
    "Both  `quality`  and  `poor_query_percentage`  should be  **rounded to 2 decimal places**.\n",
    "\n",
    "Return the result table in  **any order**."
   ]
  },
  {
   "cell_type": "code",
   "execution_count": 0,
   "metadata": {
    "application/vnd.databricks.v1+cell": {
     "cellMetadata": {
      "byteLimit": 2048000,
      "rowLimit": 10000
     },
     "inputWidgets": {},
     "nuid": "5dbcad91-ebe2-4746-b55a-c7f7eb91d794",
     "showTitle": false,
     "title": ""
    }
   },
   "outputs": [],
   "source": [
    "data = [['Dog', 'Golden Retriever', 1, 5], ['Dog', 'German Shepherd', 2, 5], ['Dog', 'Mule', 200, 1], ['Cat', 'Shirazi', 5, 2], ['Cat', 'Siamese', 3, 3], ['Cat', 'Sphynx', 7, 4]]\n",
    "\n",
    "columns = ['query_name', 'result', 'position', 'rating']\n",
    "schema = {'query_name':'object', 'result':'object', 'position':'Int64', 'rating':'Int64'}"
   ]
  },
  {
   "cell_type": "code",
   "execution_count": 0,
   "metadata": {
    "application/vnd.databricks.v1+cell": {
     "cellMetadata": {
      "byteLimit": 2048000,
      "rowLimit": 10000
     },
     "inputWidgets": {},
     "nuid": "ba318217-d4b3-4284-b165-23e238bcd035",
     "showTitle": false,
     "title": ""
    }
   },
   "outputs": [],
   "source": [
    "import pandas\n",
    "\n",
    "pandas_dataframe = pandas.DataFrame(data=data, columns=columns).astype(schema)"
   ]
  },
  {
   "cell_type": "code",
   "execution_count": 0,
   "metadata": {
    "application/vnd.databricks.v1+cell": {
     "cellMetadata": {
      "byteLimit": 2048000,
      "rowLimit": 10000
     },
     "inputWidgets": {},
     "nuid": "a3e13e24-0da4-4a49-aec9-01dcb64f2236",
     "showTitle": false,
     "title": ""
    }
   },
   "outputs": [
    {
     "output_type": "stream",
     "name": "stdout",
     "output_type": "stream",
     "text": [
      "root\n |-- query_name: string (nullable = true)\n |-- result: string (nullable = true)\n |-- position: long (nullable = true)\n |-- rating: long (nullable = true)\n\n+----------+----------------+--------+------+\n|query_name|          result|position|rating|\n+----------+----------------+--------+------+\n|       Dog|Golden Retriever|       1|     5|\n|       Dog| German Shepherd|       2|     5|\n|       Dog|            Mule|     200|     1|\n|       Cat|         Shirazi|       5|     2|\n|       Cat|         Siamese|       3|     3|\n|       Cat|          Sphynx|       7|     4|\n+----------+----------------+--------+------+\n\n"
     ]
    }
   ],
   "source": [
    "from pyspark.sql import SparkSession\n",
    "\n",
    "spark_context = SparkSession.builder.appName(\"LeetCode SQL\").getOrCreate()\n",
    "\n",
    "# Spark DataFrame using Pandas DataFrame\n",
    "queries_dataframe = spark_context.createDataFrame(pandas_dataframe)\n",
    "queries_dataframe.printSchema()\n",
    "queries_dataframe.show()"
   ]
  },
  {
   "cell_type": "markdown",
   "metadata": {
    "application/vnd.databricks.v1+cell": {
     "cellMetadata": {},
     "inputWidgets": {},
     "nuid": "6f27d616-73fc-479f-a17d-2288af53e795",
     "showTitle": false,
     "title": ""
    }
   },
   "source": [
    "#### Miscellanous DataFrame Functions"
   ]
  },
  {
   "cell_type": "code",
   "execution_count": 0,
   "metadata": {
    "application/vnd.databricks.v1+cell": {
     "cellMetadata": {
      "byteLimit": 2048000,
      "rowLimit": 10000
     },
     "inputWidgets": {},
     "nuid": "b83185d2-8991-48c5-936b-cbf2d1000e28",
     "showTitle": false,
     "title": ""
    }
   },
   "outputs": [
    {
     "output_type": "execute_result",
     "data": {
      "text/plain": [
       "StructType([StructField('query_name', StringType(), True), StructField('result', StringType(), True), StructField('position', LongType(), True), StructField('rating', LongType(), True)])"
      ]
     },
     "execution_count": 58,
     "metadata": {},
     "output_type": "execute_result"
    }
   ],
   "source": [
    "queries_dataframe.columns #Prints a list of column names\n",
    "queries_dataframe.dtypes\n",
    "queries_dataframe.schema\n",
    "\n",
    "queries_dataframe.head()\n",
    "queries_dataframe.head(5)\n",
    "queries_dataframe.first()\n",
    "queries_dataframe.take(2)\n",
    "\n",
    "queries_dataframe.count()\n",
    "queries_dataframe.distinct().count()\n",
    "\n",
    "queries_dataframe.describe()\n",
    "queries_dataframe.explain() #Prints logical and physical plans"
   ]
  },
  {
   "cell_type": "code",
   "execution_count": 0,
   "metadata": {
    "application/vnd.databricks.v1+cell": {
     "cellMetadata": {
      "byteLimit": 2048000,
      "rowLimit": 10000
     },
     "inputWidgets": {},
     "nuid": "ad48f212-ed6c-46b8-9fa4-6fb97744b086",
     "showTitle": false,
     "title": ""
    }
   },
   "outputs": [
    {
     "output_type": "stream",
     "name": "stdout",
     "output_type": "stream",
     "text": [
      "+----------+-------+---------------------+\n|query_name|quality|poor_query_percentage|\n+----------+-------+---------------------+\n|       Dog|    2.5|                100.0|\n|       Cat|   0.66|                200.0|\n+----------+-------+---------------------+\n\n"
     ]
    }
   ],
   "source": [
    "from pyspark.sql.functions import avg, round, when\n",
    "\n",
    "queries_summary_dataframe = queries_dataframe \\\n",
    "        .filter(queries_dataframe.query_name.isNotNull()) \\\n",
    "        .groupBy(queries_dataframe.query_name) \\\n",
    "        .agg(\n",
    "            round(avg(queries_dataframe.rating/ queries_dataframe.position), 2).alias(\"quality\"),\n",
    "            round(avg(when(queries_dataframe.rating < 3, queries_dataframe.rating).otherwise(None)) * 100, 2).alias(\"poor_query_percentage\")\n",
    "        )\n",
    "queries_summary_dataframe.show()"
   ]
  }
 ],
 "metadata": {
  "application/vnd.databricks.v1+notebook": {
   "dashboards": [],
   "language": "python",
   "notebookMetadata": {
    "pythonIndentUnit": 4
   },
   "notebookName": "leetcode_sql_1211",
   "widgets": {}
  }
 },
 "nbformat": 4,
 "nbformat_minor": 0
}
