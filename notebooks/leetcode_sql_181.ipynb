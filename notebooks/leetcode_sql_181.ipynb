{
 "cells": [
  {
   "cell_type": "markdown",
   "metadata": {
    "application/vnd.databricks.v1+cell": {
     "cellMetadata": {},
     "inputWidgets": {},
     "nuid": "cc7a97fb-8d5c-4aee-8012-287654347fa5",
     "showTitle": false,
     "title": ""
    }
   },
   "source": [
    "#### LeetCode - SQL - #181\n",
    "\n",
    "Refer [181. Employees Earning More Than Their Managers](https://leetcode.com/problems/employees-earning-more-than-their-managers/description/)\n",
    "\n",
    "Write a solution to find the employees who earn more than their managers.\n",
    "\n",
    "Return the result table in any order."
   ]
  },
  {
   "cell_type": "code",
   "execution_count": 0,
   "metadata": {
    "application/vnd.databricks.v1+cell": {
     "cellMetadata": {
      "byteLimit": 2048000,
      "rowLimit": 10000
     },
     "inputWidgets": {},
     "nuid": "08d7b831-87d5-4ece-a5c3-fcca5ed861f4",
     "showTitle": false,
     "title": ""
    }
   },
   "outputs": [],
   "source": [
    "data = [[1, 'Joe', 70000, 3], [2, 'Henry', 80000, 4], [3, 'Sam', 60000, None], [4, 'Max', 90000, None]]\n",
    "columns = ['id', 'name', 'salary', 'managerId']\n",
    "schema = {'id':'Int64', 'name':'object', 'salary':'Int64', 'managerId':'Int64'}"
   ]
  },
  {
   "cell_type": "code",
   "execution_count": 0,
   "metadata": {
    "application/vnd.databricks.v1+cell": {
     "cellMetadata": {
      "byteLimit": 2048000,
      "rowLimit": 10000
     },
     "inputWidgets": {},
     "nuid": "67e67c15-deaa-4557-a10c-b7663908827b",
     "showTitle": false,
     "title": ""
    }
   },
   "outputs": [],
   "source": [
    "import pandas\n",
    "\n",
    "employees_pandas_dataframe = pandas.DataFrame(data=data, columns=columns).astype(schema)"
   ]
  },
  {
   "cell_type": "code",
   "execution_count": 0,
   "metadata": {
    "application/vnd.databricks.v1+cell": {
     "cellMetadata": {
      "byteLimit": 2048000,
      "rowLimit": 10000
     },
     "inputWidgets": {},
     "nuid": "2a05dac4-89a8-48cc-a962-789bdc022b4b",
     "showTitle": false,
     "title": ""
    }
   },
   "outputs": [
    {
     "output_type": "stream",
     "name": "stdout",
     "output_type": "stream",
     "text": [
      "root\n |-- id: long (nullable = true)\n |-- name: string (nullable = true)\n |-- salary: long (nullable = true)\n |-- managerId: long (nullable = true)\n\n+---+-----+------+---------+\n| id| name|salary|managerId|\n+---+-----+------+---------+\n|  1|  Joe| 70000|        3|\n|  2|Henry| 80000|        4|\n|  3|  Sam| 60000|     NULL|\n|  4|  Max| 90000|     NULL|\n+---+-----+------+---------+\n\n"
     ]
    }
   ],
   "source": [
    "from pyspark.sql import SparkSession\n",
    "\n",
    "spark_context = SparkSession.builder.appName(\"LeetCode SQL\").getOrCreate()\n",
    "\n",
    "# Spark DataFrame using Pandas DataFrame\n",
    "employees_dataframe = spark_context.createDataFrame(employees_pandas_dataframe)\n",
    "employees_dataframe.printSchema()\n",
    "employees_dataframe.show(5)"
   ]
  },
  {
   "cell_type": "code",
   "execution_count": 0,
   "metadata": {
    "application/vnd.databricks.v1+cell": {
     "cellMetadata": {
      "byteLimit": 2048000,
      "rowLimit": 10000
     },
     "inputWidgets": {},
     "nuid": "489e6d48-e760-4d03-872d-c11a0cd9f7c1",
     "showTitle": false,
     "title": ""
    }
   },
   "outputs": [
    {
     "output_type": "stream",
     "name": "stdout",
     "output_type": "stream",
     "text": [
      "+--------+\n|Employee|\n+--------+\n|     Joe|\n+--------+\n\n"
     ]
    }
   ],
   "source": [
    "from pyspark.sql.functions import col\n",
    "\n",
    "employees_dataframe_null_filtered = employees_dataframe.filter(employees_dataframe.managerId.isNotNull())\n",
    "employees_dataframe_null_filtered \\\n",
    "    .alias(\"root\") \\\n",
    "    .join(employees_dataframe.alias(\"manager\"), col(\"root.managerId\") == col(\"manager.id\"), \"inner\") \\\n",
    "    .filter(col(\"root.salary\") > col(\"manager.salary\")) \\\n",
    "    .select(col(\"root.name\").alias(\"Employee\")) \\\n",
    "    .show()"
   ]
  }
 ],
 "metadata": {
  "application/vnd.databricks.v1+notebook": {
   "dashboards": [],
   "language": "python",
   "notebookMetadata": {
    "pythonIndentUnit": 4
   },
   "notebookName": "leetcode_sql_181",
   "widgets": {}
  }
 },
 "nbformat": 4,
 "nbformat_minor": 0
}
