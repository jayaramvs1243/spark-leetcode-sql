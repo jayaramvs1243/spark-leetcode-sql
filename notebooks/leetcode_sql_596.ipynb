{
 "cells": [
  {
   "cell_type": "markdown",
   "source": [
    "#### LeetCode - SQL - #596\n",
    "\n",
    "Refer [596. Classes More Than 5 Students](https://leetcode.com/problems/classes-more-than-5-students/description/)\n",
    "\n",
    "Write a solution to find all the classes that have  **at least five students**.\n",
    "\n",
    "Return the result table in  **any order**."
   ],
   "metadata": {
    "collapsed": false
   },
   "id": "60da79b46739b2db"
  },
  {
   "cell_type": "code",
   "outputs": [],
   "source": [
    "data_courses = [['A', 'Math'], ['B', 'English'], ['C', 'Math'], ['D', 'Biology'], ['E', 'Math'], ['F', 'Computer'], ['G', 'Math'], ['H', 'Math'], ['I', 'Math']]\n",
    "columns_courses = ['student', 'class']\n",
    "schema_courses = {'student':'object', 'class':'object'}"
   ],
   "metadata": {
    "collapsed": false
   },
   "id": "e3499965a3598317",
   "execution_count": null
  },
  {
   "cell_type": "code",
   "outputs": [],
   "source": [
    "import pandas\n",
    "\n",
    "pandas_df_courses = pandas.DataFrame(data=data_courses, columns=columns_courses).astype(schema_courses)"
   ],
   "metadata": {
    "collapsed": false
   },
   "id": "d138b91dc21d1dd5",
   "execution_count": null
  },
  {
   "cell_type": "code",
   "outputs": [],
   "source": [
    "from pyspark.sql import SparkSession\n",
    "\n",
    "spark_context = SparkSession.builder.appName(\"LeetCOde SQL\").getOrCreate()\n",
    "\n",
    "# Spark DataFrame using Pandas DataFrame\n",
    "df_courses = spark_context.createDataFrame(pandas_df_courses)\n",
    "df_courses.printSchema()\n",
    "df_courses.show(5)"
   ],
   "metadata": {
    "collapsed": false
   },
   "id": "cbb6b4e0e73cf1a",
   "execution_count": null
  },
  {
   "cell_type": "code",
   "outputs": [],
   "source": [
    "from pyspark.sql import functions as F\n",
    "\n",
    "df_courses_grouped = df_courses.groupBy(F.col(\"class\")).agg(F.count(F.col(\"student\")).alias(\"student_count\"))\n",
    "\n",
    "df_courses_grouped \\\n",
    "    .filter(F.col(\"student_count\") >= 5) \\\n",
    "    .select(F.col(\"class\")) \\\n",
    "    .show()"
   ],
   "metadata": {
    "collapsed": false
   },
   "id": "974d1541626c7a18",
   "execution_count": null
  }
 ],
 "metadata": {
  "kernelspec": {
   "display_name": "Python 3",
   "language": "python",
   "name": "python3"
  },
  "language_info": {
   "codemirror_mode": {
    "name": "ipython",
    "version": 2
   },
   "file_extension": ".py",
   "mimetype": "text/x-python",
   "name": "python",
   "nbconvert_exporter": "python",
   "pygments_lexer": "ipython2",
   "version": "2.7.6"
  }
 },
 "nbformat": 4,
 "nbformat_minor": 5
}
