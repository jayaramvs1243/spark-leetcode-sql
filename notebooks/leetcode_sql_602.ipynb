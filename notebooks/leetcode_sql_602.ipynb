{
 "cells": [
  {
   "cell_type": "markdown",
   "metadata": {
    "application/vnd.databricks.v1+cell": {
     "cellMetadata": {
      "byteLimit": 2048000,
      "rowLimit": 10000
     },
     "inputWidgets": {},
     "nuid": "cd055ac0-85d0-47d9-b5c5-b0ecca727834",
     "showTitle": false,
     "title": ""
    }
   },
   "source": [
    "#### LeetCode - SQL - #602\n",
    "\n",
    "Refer [602. Friend Requests II: Who Has the Most Friends](https://leetcode.com/problems/friend-requests-ii-who-has-the-most-friends/description/)\n",
    "\n",
    "Write a solution to find the people who have the most friends and the most friends number.\n",
    "\n",
    "The test cases are generated so that only one person has the most friends."
   ]
  },
  {
   "cell_type": "code",
   "execution_count": 0,
   "metadata": {
    "application/vnd.databricks.v1+cell": {
     "cellMetadata": {
      "byteLimit": 2048000,
      "rowLimit": 10000
     },
     "inputWidgets": {},
     "nuid": "f99083a8-56fa-4c82-a627-aa470ddc96fa",
     "showTitle": false,
     "title": ""
    }
   },
   "outputs": [],
   "source": [
    "data_request_accepted = [[1, 2, '2016/06/03'], [1, 3, '2016/06/08'], [2, 3, '2016/06/08'], [3, 4, '2016/06/09']]\n",
    "columns_request_accepted = ['requester_id', 'accepter_id', 'accept_date']\n",
    "schema_request_accepted = {'requester_id':'Int64', 'accepter_id':'Int64', 'accept_date':'datetime64[ns]'}"
   ]
  },
  {
   "cell_type": "code",
   "execution_count": 0,
   "metadata": {
    "application/vnd.databricks.v1+cell": {
     "cellMetadata": {
      "byteLimit": 2048000,
      "rowLimit": 10000
     },
     "inputWidgets": {},
     "nuid": "58ef3053-35a5-451d-8213-6d2edf3d62b1",
     "showTitle": false,
     "title": ""
    }
   },
   "outputs": [],
   "source": [
    "import pandas\n",
    "\n",
    "pandas_df_request_accepted = pandas.DataFrame(data=data_request_accepted, columns=columns_request_accepted).astype(schema_request_accepted)"
   ]
  },
  {
   "cell_type": "code",
   "execution_count": 0,
   "metadata": {
    "application/vnd.databricks.v1+cell": {
     "cellMetadata": {
      "byteLimit": 2048000,
      "rowLimit": 10000
     },
     "inputWidgets": {},
     "nuid": "da2c6d50-5c22-4775-b70a-1c0769593926",
     "showTitle": false,
     "title": ""
    }
   },
   "outputs": [],
   "source": [
    "from pyspark.sql import SparkSession\n",
    "\n",
    "spark_context = SparkSession.builder.appName(\"LeetCode SQL\").getOrCreate()\n",
    "\n",
    "# Spark DataFrame using Pandas DataFrame\n",
    "df_request_accepted = spark_context.createDataFrame(pandas_df_request_accepted)\n",
    "df_request_accepted.printSchema()\n",
    "df_request_accepted.show(5)"
   ]
  },
  {
   "cell_type": "code",
   "execution_count": 0,
   "metadata": {
    "application/vnd.databricks.v1+cell": {
     "cellMetadata": {
      "byteLimit": 2048000,
      "rowLimit": 10000
     },
     "inputWidgets": {},
     "nuid": "e2def267-180f-4e2e-ae0d-84d0c8e23dd6",
     "showTitle": false,
     "title": ""
    }
   },
   "outputs": [],
   "source": [
    "df_requester = df_request_accepted.select(df_request_accepted.requester_id.alias(\"people_id\"))\n",
    "df_requester.show()\n",
    "\n",
    "df_accepter = df_request_accepted.select(df_request_accepted.accepter_id.alias(\"people_id\"))\n",
    "df_accepter.show()\n",
    "\n",
    "df_friends = df_requester.unionAll(df_accepter)\n",
    "df_friends.show()"
   ]
  },
  {
   "cell_type": "code",
   "execution_count": 0,
   "metadata": {
    "application/vnd.databricks.v1+cell": {
     "cellMetadata": {
      "byteLimit": 2048000,
      "rowLimit": 10000
     },
     "inputWidgets": {},
     "nuid": "445fd558-8c8e-4c76-994c-25f27a2abd9d",
     "showTitle": false,
     "title": ""
    }
   },
   "outputs": [],
   "source": [
    "from pyspark.sql import functions as F\n",
    "\n",
    "df_friends_grouped = df_friends.groupBy(df_friends.people_id).agg(F.count(\"*\").alias(\"friend_count\"))\n",
    "df_friends_grouped.show()\n",
    "\n",
    "df_friends_grouped \\\n",
    "    .orderBy(F.col(\"friend_count\").desc()) \\\n",
    "    .offset(0).limit(1) \\\n",
    "    .show()"
   ]
  }
 ],
 "metadata": {
  "application/vnd.databricks.v1+notebook": {
   "dashboards": [],
   "language": "python",
   "notebookMetadata": {
    "pythonIndentUnit": 4
   },
   "notebookName": "leetcode_sql_602",
   "widgets": {}
  }
 },
 "nbformat": 4,
 "nbformat_minor": 0
}
