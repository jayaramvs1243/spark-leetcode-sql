{
 "cells": [
  {
   "cell_type": "markdown",
   "source": [
    "#### LeetCode - SQL - #608\n",
    "\n",
    "Refer [608. Tree Node](https://leetcode.com/problems/tree-node/description/)\n",
    "\n",
    "Each node in the tree can be one of three types:\n",
    "\n",
    "-   **\"Leaf\"**: if the node is a leaf node.\n",
    "-   **\"Root\"**: if the node is the root of the tree.\n",
    "-   **\"Inner\"**: If the node is neither a leaf node nor a root node.\n",
    "\n",
    "Write a solution to report the type of each node in the tree.\n",
    "\n",
    "Return the result table in  **any order**."
   ],
   "metadata": {
    "collapsed": false
   },
   "id": "ba0318b3c0a189c5"
  },
  {
   "cell_type": "code",
   "outputs": [],
   "source": [
    "data_tree = [[1, None], [2, 1], [3, 1], [4, 2], [5, 2]]\n",
    "columns_tree = ['id', 'p_id']\n",
    "schema_tree = {'id':'Int64', 'p_id':'Int64'}"
   ],
   "metadata": {
    "collapsed": false,
    "ExecuteTime": {
     "end_time": "2024-03-15T07:29:27.619953Z",
     "start_time": "2024-03-15T07:29:27.602767Z"
    }
   },
   "id": "6025ba1851696629",
   "execution_count": 56
  },
  {
   "cell_type": "code",
   "outputs": [],
   "source": [
    "import pandas\n",
    "\n",
    "pandas_df_tree = pandas.DataFrame(data=data_tree, columns=columns_tree).astype(schema_tree)"
   ],
   "metadata": {
    "collapsed": false,
    "ExecuteTime": {
     "end_time": "2024-03-15T07:29:27.622092Z",
     "start_time": "2024-03-15T07:29:27.609417Z"
    }
   },
   "id": "29da4f318d0eb1b3",
   "execution_count": 57
  },
  {
   "cell_type": "code",
   "outputs": [],
   "source": [
    "from pyspark.sql import SparkSession\n",
    "\n",
    "spark_context = SparkSession.builder.appName('LeetCode SQL').getOrCreate()\n",
    "\n",
    "# Spark DataFrame using Pandas DataFrame\n",
    "# Creating Spark Dataframe from pandas dataframe converts 'None' to 'NaN'\n",
    "df_tree = spark_context.createDataFrame(pandas_df_tree)\n",
    "df_tree.printSchema()\n",
    "df_tree.show()"
   ],
   "metadata": {
    "collapsed": false
   },
   "id": "95dd7aeaaee5e5cc",
   "execution_count": null
  },
  {
   "cell_type": "code",
   "outputs": [],
   "source": [
    "# Creating Spark Dataframe directly in PySpark function converts 'None' to 'Null'\n",
    "df_tree = spark_context.createDataFrame(data_tree, schema=\"id integer, p_id integer\")\n",
    "df_tree.printSchema()\n",
    "df_tree.show()"
   ],
   "metadata": {
    "collapsed": false
   },
   "id": "e640cec83f4d2896",
   "execution_count": null
  },
  {
   "cell_type": "code",
   "outputs": [
    {
     "name": "stdout",
     "output_type": "stream",
     "text": [
      "+---+-----+\n",
      "| id| type|\n",
      "+---+-----+\n",
      "|  1| Root|\n",
      "|  2|Inner|\n",
      "|  3| Leaf|\n",
      "|  4| Leaf|\n",
      "|  5| Leaf|\n",
      "+---+-----+\n"
     ]
    }
   ],
   "source": [
    "from pyspark.sql import functions as F\n",
    "\n",
    "df_tree_p_id = df_tree.filter(df_tree.p_id.isNotNull())\n",
    "list_tree_p_id = list(df_tree_p_id.toPandas()[\"p_id\"])\n",
    "\n",
    "df_tree \\\n",
    "    .select(\n",
    "        df_tree.id.alias(\"id\"),\n",
    "        F.when(df_tree.p_id.isNull(), 'Root').otherwise(\n",
    "            F.when(df_tree.id.isin(list_tree_p_id), 'Inner').otherwise(\n",
    "                'Leaf'\n",
    "            )\n",
    "        ).alias('type')\n",
    "    ) \\\n",
    "    .show()"
   ],
   "metadata": {
    "collapsed": false,
    "ExecuteTime": {
     "end_time": "2024-03-15T07:29:28.337019Z",
     "start_time": "2024-03-15T07:29:28.020348Z"
    }
   },
   "id": "993b60e814438c3b",
   "execution_count": 60
  },
  {
   "cell_type": "markdown",
   "source": [
    "#### Using Join"
   ],
   "metadata": {
    "collapsed": false
   },
   "id": "4594de36ff1b2da0"
  },
  {
   "cell_type": "code",
   "outputs": [
    {
     "name": "stdout",
     "output_type": "stream",
     "text": [
      "+---+-----+\n",
      "| id| type|\n",
      "+---+-----+\n",
      "|  1| Root|\n",
      "|  2|Inner|\n",
      "|  3| Leaf|\n",
      "|  4| Leaf|\n",
      "|  5| Leaf|\n",
      "+---+-----+\n"
     ]
    }
   ],
   "source": [
    "df_tree_parent = df_tree.alias('parent')\n",
    "df_tree_child = df_tree.alias('child')\n",
    "\n",
    "df_tree_joined \\\n",
    "    = df_tree_parent \\\n",
    "        .join(df_tree_child, F.col(\"parent.id\") == F.col(\"child.p_id\"), \"left\") \\\n",
    "        .select(\n",
    "            F.col(\"parent.id\").alias(\"parent_id\"),\n",
    "            F.col(\"parent.p_id\").alias(\"parent_p_id\"),\n",
    "            F.col(\"child.id\").alias(\"child_id\")\n",
    "        )   \n",
    "\n",
    "df_tree_joined \\\n",
    "    .select(\n",
    "        df_tree_joined.parent_id.alias(\"id\"),\n",
    "        F.when(df_tree_joined.parent_p_id.isNull(), 'Root').otherwise(\n",
    "            F.when(df_tree_joined.child_id.isNull(), 'Leaf').otherwise(\n",
    "                'Inner'\n",
    "            )\n",
    "        ).alias('type')\n",
    "    ).distinct() \\\n",
    "    .show()"
   ],
   "metadata": {
    "collapsed": false,
    "ExecuteTime": {
     "end_time": "2024-03-15T07:29:28.630038Z",
     "start_time": "2024-03-15T07:29:28.323094Z"
    }
   },
   "id": "388085d8495238d2",
   "execution_count": 61
  },
  {
   "cell_type": "markdown",
   "source": [
    "#### Using Join and groupBy"
   ],
   "metadata": {
    "collapsed": false
   },
   "id": "5949610032378e1a"
  },
  {
   "cell_type": "code",
   "outputs": [
    {
     "name": "stdout",
     "output_type": "stream",
     "text": [
      "+---+-----+\n",
      "| id| type|\n",
      "+---+-----+\n",
      "|  1| Root|\n",
      "|  2|Inner|\n",
      "|  3| Leaf|\n",
      "|  4| Leaf|\n",
      "|  5| Leaf|\n",
      "+---+-----+\n"
     ]
    }
   ],
   "source": [
    "df_tree_joined \\\n",
    "    .groupBy(df_tree_joined.parent_id.alias(\"id\")) \\\n",
    "    .agg(\n",
    "        F.when(F.first(df_tree_joined.parent_p_id).isNull(), 'Root').otherwise(\n",
    "            F.when(F.first(df_tree_joined.child_id).isNull(), 'Leaf').otherwise(\n",
    "                'Inner'\n",
    "            )\n",
    "        ).alias('type')\n",
    "    ) \\\n",
    "    .show()"
   ],
   "metadata": {
    "collapsed": false,
    "ExecuteTime": {
     "end_time": "2024-03-15T07:42:26.431334Z",
     "start_time": "2024-03-15T07:42:26.124055Z"
    }
   },
   "id": "85885f7c8a3378e9",
   "execution_count": 69
  }
 ],
 "metadata": {
  "kernelspec": {
   "display_name": "Python 3",
   "language": "python",
   "name": "python3"
  },
  "language_info": {
   "codemirror_mode": {
    "name": "ipython",
    "version": 2
   },
   "file_extension": ".py",
   "mimetype": "text/x-python",
   "name": "python",
   "nbconvert_exporter": "python",
   "pygments_lexer": "ipython2",
   "version": "2.7.6"
  }
 },
 "nbformat": 4,
 "nbformat_minor": 5
}
