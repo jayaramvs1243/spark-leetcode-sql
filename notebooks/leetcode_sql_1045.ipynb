{
 "cells": [
  {
   "cell_type": "markdown",
   "metadata": {
    "application/vnd.databricks.v1+cell": {
     "cellMetadata": {
      "byteLimit": 2048000,
      "rowLimit": 10000
     },
     "inputWidgets": {},
     "nuid": "6b61fbe4-d0b2-4729-80d1-40f33b120cc2",
     "showTitle": false,
     "title": ""
    }
   },
   "source": [
    "#### LeetCode - SQL - #1045\n",
    "\n",
    "Refer [1045. Customers Who Bought All Products](https://leetcode.com/problems/customers-who-bought-all-products/description/)\n",
    "\n",
    "Write a solution to report the customer ids from the  `Customer`  table that bought all the products in the  `Product`  table.\n",
    "\n",
    "Return the result table in  **any order**."
   ]
  },
  {
   "cell_type": "code",
   "execution_count": 0,
   "metadata": {
    "application/vnd.databricks.v1+cell": {
     "cellMetadata": {
      "byteLimit": 2048000,
      "rowLimit": 10000
     },
     "inputWidgets": {},
     "nuid": "bdecda6d-eb2f-4d65-a998-2018b9dfd0b1",
     "showTitle": false,
     "title": ""
    }
   },
   "outputs": [],
   "source": [
    "data_customer = [[1, 5], [2, 6], [3, 5], [3, 6], [1, 6]]\n",
    "columns_customer = ['customer_id', 'product_key']\n",
    "schema_customer = {'customer_id':'Int64', 'product_key':'Int64'}\n",
    "\n",
    "data_product = [[5], [6]]\n",
    "columns_product = ['product_key']\n",
    "schema_product = {'product_key':'Int64'}"
   ]
  },
  {
   "cell_type": "code",
   "execution_count": 0,
   "metadata": {
    "application/vnd.databricks.v1+cell": {
     "cellMetadata": {
      "byteLimit": 2048000,
      "rowLimit": 10000
     },
     "inputWidgets": {},
     "nuid": "7a257dc1-9186-4645-9d80-e11fb6a1d154",
     "showTitle": false,
     "title": ""
    }
   },
   "outputs": [],
   "source": [
    "from pyspark.sql import SparkSession\n",
    "\n",
    "spark_context = SparkSession.builder.appName('LeetCode SQL').getOrCreate()"
   ]
  },
  {
   "cell_type": "code",
   "execution_count": 0,
   "metadata": {
    "application/vnd.databricks.v1+cell": {
     "cellMetadata": {
      "byteLimit": 2048000,
      "rowLimit": 10000
     },
     "inputWidgets": {},
     "nuid": "9e4a9bd2-65a2-4ea1-8959-518b2f17b0a4",
     "showTitle": false,
     "title": ""
    }
   },
   "outputs": [],
   "source": [
    "# Create Spark Dataframe using Pandas\n",
    "import pandas\n",
    "\n",
    "pandas_df_customer = pandas.DataFrame(data=data_customer, columns=columns_customer).astype(schema_customer)\n",
    "pandas_df_product = pandas.DataFrame(data=data_product, columns=columns_product).astype(schema_product)\n",
    "\n",
    "df_customer = spark_context.createDataFrame(pandas_df_customer)\n",
    "df_product = spark_context.createDataFrame(pandas_df_product)"
   ]
  },
  {
   "cell_type": "code",
   "execution_count": 0,
   "metadata": {
    "application/vnd.databricks.v1+cell": {
     "cellMetadata": {
      "byteLimit": 2048000,
      "rowLimit": 10000
     },
     "inputWidgets": {},
     "nuid": "c86ac276-da01-4514-bbbc-fa05b2ef6f7b",
     "showTitle": false,
     "title": ""
    }
   },
   "outputs": [],
   "source": [
    "# Create Spark Dataframe using PySpark functions - 1\n",
    "schema_customer = 'customer_id integer, product_key integer'\n",
    "schema_product = 'product_key integer'\n",
    "\n",
    "df_customer = spark_context.createDataFrame(data=data_customer, schema=schema_customer)\n",
    "df_product = spark_context.createDataFrame(data=data_product, schema=schema_product)"
   ]
  },
  {
   "cell_type": "code",
   "execution_count": 0,
   "metadata": {
    "application/vnd.databricks.v1+cell": {
     "cellMetadata": {
      "byteLimit": 2048000,
      "rowLimit": 10000
     },
     "inputWidgets": {},
     "nuid": "d2fb6949-4f97-4bab-97f6-32f3be318381",
     "showTitle": false,
     "title": ""
    }
   },
   "outputs": [],
   "source": [
    "# Create Spark Dataframe using PySpark functions - 2\n",
    "from pyspark.sql.types import StructType, StructField, IntegerType\n",
    "\n",
    "schema_customer = StructType([\n",
    "    StructField('customer_id', IntegerType(), False),\n",
    "    StructField('product_key', IntegerType(), False)\n",
    "])\n",
    "df_customer = spark_context.createDataFrame(data=data_customer, schema=schema_customer)\n",
    "\n",
    "schema_product = StructType([\n",
    "    StructField('product_key', IntegerType(), False)\n",
    "])\n",
    "df_product = spark_context.createDataFrame(data=data_product, schema=schema_product)"
   ]
  },
  {
   "cell_type": "code",
   "execution_count": 0,
   "metadata": {
    "application/vnd.databricks.v1+cell": {
     "cellMetadata": {
      "byteLimit": 2048000,
      "rowLimit": 10000
     },
     "inputWidgets": {},
     "nuid": "6a0fa982-360d-44c1-afb9-8e99021060da",
     "showTitle": false,
     "title": ""
    }
   },
   "outputs": [],
   "source": [
    "from pyspark.sql import functions as F\n",
    "\n",
    "df_product_count = df_product.select(F.count(df_product.product_key))\n",
    "product_count = df_product_count.first()[0]"
   ]
  },
  {
   "cell_type": "code",
   "execution_count": 0,
   "metadata": {
    "application/vnd.databricks.v1+cell": {
     "cellMetadata": {
      "byteLimit": 2048000,
      "rowLimit": 10000
     },
     "inputWidgets": {},
     "nuid": "3d935168-972c-4690-bfd9-2628df469247",
     "showTitle": false,
     "title": ""
    }
   },
   "outputs": [
    {
     "output_type": "stream",
     "name": "stdout",
     "output_type": "stream",
     "text": [
      "+-----------+\n|customer_id|\n+-----------+\n|          1|\n|          3|\n+-----------+\n\n"
     ]
    }
   ],
   "source": [
    "df_customer_grouped \\\n",
    "    = df_customer \\\n",
    "        .groupBy(df_customer.customer_id) \\\n",
    "        .agg(\n",
    "            F.countDistinct(df_customer.product_key).alias('count_distinct_product')\n",
    "        )\n",
    "\n",
    "df_customer_grouped \\\n",
    "    .filter(df_customer_grouped.count_distinct_product == product_count) \\\n",
    "    .select(df_customer_grouped.customer_id) \\\n",
    "    .show()\n",
    "    "
   ]
  }
 ],
 "metadata": {
  "application/vnd.databricks.v1+notebook": {
   "dashboards": [],
   "language": "python",
   "notebookMetadata": {
    "pythonIndentUnit": 4
   },
   "notebookName": "leetcode_sql_1045",
   "widgets": {}
  }
 },
 "nbformat": 4,
 "nbformat_minor": 0
}
