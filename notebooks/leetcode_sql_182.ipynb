{
 "cells": [
  {
   "cell_type": "markdown",
   "metadata": {
    "application/vnd.databricks.v1+cell": {
     "cellMetadata": {
      "byteLimit": 2048000,
      "rowLimit": 10000
     },
     "inputWidgets": {},
     "nuid": "c7afc5a7-b966-4601-bfe8-0bc80597187f",
     "showTitle": false,
     "title": ""
    }
   },
   "source": [
    "#### LeetCode - SQL - #182\n",
    "\n",
    "Refer [182. Duplicate Emails](https://leetcode.com/problems/duplicate-emails/description/)\n",
    "\n",
    "Write a solution to report all the duplicate emails. Note that it's guaranteed that the email field is not NULL.\n",
    "\n",
    "Return the result table in  **any order**."
   ]
  },
  {
   "cell_type": "code",
   "execution_count": 0,
   "metadata": {
    "application/vnd.databricks.v1+cell": {
     "cellMetadata": {
      "byteLimit": 2048000,
      "rowLimit": 10000
     },
     "inputWidgets": {},
     "nuid": "c2b53014-2b52-4923-815d-01ef7ce9bd93",
     "showTitle": false,
     "title": ""
    }
   },
   "outputs": [],
   "source": [
    "data = [[1, 'a@b.com'], [2, 'c@d.com'], [3, 'a@b.com']]\n",
    "columns = ['id', 'email']\n",
    "schema = {'id':'Int64', 'email':'object'}"
   ]
  },
  {
   "cell_type": "code",
   "execution_count": 0,
   "metadata": {
    "application/vnd.databricks.v1+cell": {
     "cellMetadata": {
      "byteLimit": 2048000,
      "rowLimit": 10000
     },
     "inputWidgets": {},
     "nuid": "b1ae2f65-16de-499c-8f2d-6922658747f0",
     "showTitle": false,
     "title": ""
    }
   },
   "outputs": [],
   "source": [
    "import pandas\n",
    "\n",
    "emails_pandas_dataframe = pandas.DataFrame(data=data, columns=columns).astype(schema)"
   ]
  },
  {
   "cell_type": "code",
   "execution_count": 0,
   "metadata": {
    "application/vnd.databricks.v1+cell": {
     "cellMetadata": {
      "byteLimit": 2048000,
      "rowLimit": 10000
     },
     "inputWidgets": {},
     "nuid": "0fafc8a5-36bd-4653-a13c-3322c2279a19",
     "showTitle": false,
     "title": ""
    }
   },
   "outputs": [
    {
     "output_type": "stream",
     "name": "stdout",
     "output_type": "stream",
     "text": [
      "root\n |-- id: long (nullable = true)\n |-- email: string (nullable = true)\n\n+---+-------+\n| id|  email|\n+---+-------+\n|  1|a@b.com|\n|  2|c@d.com|\n|  3|a@b.com|\n+---+-------+\n\n"
     ]
    }
   ],
   "source": [
    "from pyspark.sql import SparkSession\n",
    "\n",
    "spark_context = SparkSession.builder.appName(\"LeetCode SQL\").getOrCreate()\n",
    "\n",
    "# Spark DataFrame using Pandas DataFrame\n",
    "emails_dataframe = spark_context.createDataFrame(emails_pandas_dataframe)\n",
    "emails_dataframe.printSchema()\n",
    "emails_dataframe.show(5)"
   ]
  },
  {
   "cell_type": "code",
   "execution_count": 0,
   "metadata": {
    "application/vnd.databricks.v1+cell": {
     "cellMetadata": {
      "byteLimit": 2048000,
      "rowLimit": 10000
     },
     "inputWidgets": {},
     "nuid": "8abaeef5-288e-4296-838c-a4354f26a53e",
     "showTitle": false,
     "title": ""
    }
   },
   "outputs": [
    {
     "output_type": "stream",
     "name": "stdout",
     "output_type": "stream",
     "text": [
      "+-------+\n|  Email|\n+-------+\n|a@b.com|\n+-------+\n\n+-------+\n|  Email|\n+-------+\n|a@b.com|\n+-------+\n\n"
     ]
    }
   ],
   "source": [
    "from pyspark.sql.functions import col, count\n",
    "\n",
    "#1\n",
    "emails_dataframe_grouped_1 = emails_dataframe.groupBy(emails_dataframe.email).count()\n",
    "emails_dataframe_grouped_1 \\\n",
    "    .filter(col(\"count\") > 1) \\\n",
    "    .select(emails_dataframe_grouped_1.email.alias(\"Email\")) \\\n",
    "    .show()\n",
    "\n",
    "#2\n",
    "emails_dataframe_grouped_2 = emails_dataframe.groupBy(emails_dataframe.email).agg(\n",
    "    count(emails_dataframe.id).alias(\"email_instance\")\n",
    ")\n",
    "emails_dataframe_grouped_2 \\\n",
    "    .filter(emails_dataframe_grouped_2.email_instance > 1) \\\n",
    "    .select(emails_dataframe_grouped_1.email.alias(\"Email\")) \\\n",
    "    .show()"
   ]
  },
  {
   "cell_type": "markdown",
   "metadata": {
    "application/vnd.databricks.v1+cell": {
     "cellMetadata": {
      "byteLimit": 2048000,
      "rowLimit": 10000
     },
     "inputWidgets": {},
     "nuid": "93e1cf0b-8eb9-415a-b376-7d4b7d37ad1f",
     "showTitle": false,
     "title": ""
    }
   },
   "source": [
    "#### Using Window Functions"
   ]
  },
  {
   "cell_type": "code",
   "execution_count": 0,
   "metadata": {
    "application/vnd.databricks.v1+cell": {
     "cellMetadata": {
      "byteLimit": 2048000,
      "rowLimit": 10000
     },
     "inputWidgets": {},
     "nuid": "51cff513-fa28-44e1-be71-4665ff37c728",
     "showTitle": false,
     "title": ""
    }
   },
   "outputs": [
    {
     "output_type": "display_data",
     "data": {
      "text/plain": [
       "\u001B[0;31m---------------------------------------------------------------------------\u001B[0m\n",
       "\u001B[0;31mNameError\u001B[0m                                 Traceback (most recent call last)\n",
       "File \u001B[0;32m<command-4004504151319970>, line 10\u001B[0m\n",
       "\u001B[1;32m      3\u001B[0m emails_dataframe_grouped_1 \u001B[38;5;241m=\u001B[39m emails_dataframe\u001B[38;5;241m.\u001B[39mgroupBy(emails_dataframe\u001B[38;5;241m.\u001B[39memail)\u001B[38;5;241m.\u001B[39mcount()\n",
       "\u001B[1;32m      4\u001B[0m emails_dataframe_grouped_1 \\\n",
       "\u001B[1;32m      5\u001B[0m     \u001B[38;5;241m.\u001B[39mfilter(col(\u001B[38;5;124m\"\u001B[39m\u001B[38;5;124mcount\u001B[39m\u001B[38;5;124m\"\u001B[39m) \u001B[38;5;241m>\u001B[39m \u001B[38;5;241m1\u001B[39m) \\\n",
       "\u001B[1;32m      6\u001B[0m     \u001B[38;5;241m.\u001B[39mselect(emails_dataframe_grouped_1\u001B[38;5;241m.\u001B[39memail\u001B[38;5;241m.\u001B[39malias(\u001B[38;5;124m\"\u001B[39m\u001B[38;5;124mEmail\u001B[39m\u001B[38;5;124m\"\u001B[39m)) \\\n",
       "\u001B[1;32m      7\u001B[0m     \u001B[38;5;241m.\u001B[39mshow()\n",
       "\u001B[1;32m      9\u001B[0m emails_dataframe_grouped_2 \u001B[38;5;241m=\u001B[39m emails_dataframe\u001B[38;5;241m.\u001B[39mgroupBy(emails_dataframe\u001B[38;5;241m.\u001B[39memail)\u001B[38;5;241m.\u001B[39magg(\n",
       "\u001B[0;32m---> 10\u001B[0m     count()\u001B[38;5;241m.\u001B[39malias(\u001B[38;5;124m\"\u001B[39m\u001B[38;5;124memail_instance\u001B[39m\u001B[38;5;124m\"\u001B[39m)\n",
       "\u001B[1;32m     11\u001B[0m )\n",
       "\u001B[1;32m     12\u001B[0m emails_dataframe_grouped_2 \\\n",
       "\u001B[1;32m     13\u001B[0m     \u001B[38;5;241m.\u001B[39mfilter(emails_dataframe_grouped_2\u001B[38;5;241m.\u001B[39memail_instance \u001B[38;5;241m>\u001B[39m \u001B[38;5;241m1\u001B[39m) \\\n",
       "\u001B[1;32m     14\u001B[0m     \u001B[38;5;241m.\u001B[39mselect(emails_dataframe_grouped_1\u001B[38;5;241m.\u001B[39memail\u001B[38;5;241m.\u001B[39malias(\u001B[38;5;124m\"\u001B[39m\u001B[38;5;124mEmail\u001B[39m\u001B[38;5;124m\"\u001B[39m)) \\\n",
       "\u001B[1;32m     15\u001B[0m     \u001B[38;5;241m.\u001B[39mshow()\n",
       "\n",
       "\u001B[0;31mNameError\u001B[0m: name 'count' is not defined"
      ]
     },
     "metadata": {
      "application/vnd.databricks.v1+output": {
       "addedWidgets": {},
       "arguments": {},
       "datasetInfos": [],
       "jupyterProps": {
        "ename": "NameError",
        "evalue": "name 'count' is not defined"
       },
       "metadata": {
        "errorSummary": "Command skipped"
       },
       "removedWidgets": [],
       "sqlProps": null,
       "stackFrames": [
        "\u001B[0;31m---------------------------------------------------------------------------\u001B[0m",
        "\u001B[0;31mNameError\u001B[0m                                 Traceback (most recent call last)",
        "File \u001B[0;32m<command-4004504151319970>, line 10\u001B[0m\n\u001B[1;32m      3\u001B[0m emails_dataframe_grouped_1 \u001B[38;5;241m=\u001B[39m emails_dataframe\u001B[38;5;241m.\u001B[39mgroupBy(emails_dataframe\u001B[38;5;241m.\u001B[39memail)\u001B[38;5;241m.\u001B[39mcount()\n\u001B[1;32m      4\u001B[0m emails_dataframe_grouped_1 \\\n\u001B[1;32m      5\u001B[0m     \u001B[38;5;241m.\u001B[39mfilter(col(\u001B[38;5;124m\"\u001B[39m\u001B[38;5;124mcount\u001B[39m\u001B[38;5;124m\"\u001B[39m) \u001B[38;5;241m>\u001B[39m \u001B[38;5;241m1\u001B[39m) \\\n\u001B[1;32m      6\u001B[0m     \u001B[38;5;241m.\u001B[39mselect(emails_dataframe_grouped_1\u001B[38;5;241m.\u001B[39memail\u001B[38;5;241m.\u001B[39malias(\u001B[38;5;124m\"\u001B[39m\u001B[38;5;124mEmail\u001B[39m\u001B[38;5;124m\"\u001B[39m)) \\\n\u001B[1;32m      7\u001B[0m     \u001B[38;5;241m.\u001B[39mshow()\n\u001B[1;32m      9\u001B[0m emails_dataframe_grouped_2 \u001B[38;5;241m=\u001B[39m emails_dataframe\u001B[38;5;241m.\u001B[39mgroupBy(emails_dataframe\u001B[38;5;241m.\u001B[39memail)\u001B[38;5;241m.\u001B[39magg(\n\u001B[0;32m---> 10\u001B[0m     count()\u001B[38;5;241m.\u001B[39malias(\u001B[38;5;124m\"\u001B[39m\u001B[38;5;124memail_instance\u001B[39m\u001B[38;5;124m\"\u001B[39m)\n\u001B[1;32m     11\u001B[0m )\n\u001B[1;32m     12\u001B[0m emails_dataframe_grouped_2 \\\n\u001B[1;32m     13\u001B[0m     \u001B[38;5;241m.\u001B[39mfilter(emails_dataframe_grouped_2\u001B[38;5;241m.\u001B[39memail_instance \u001B[38;5;241m>\u001B[39m \u001B[38;5;241m1\u001B[39m) \\\n\u001B[1;32m     14\u001B[0m     \u001B[38;5;241m.\u001B[39mselect(emails_dataframe_grouped_1\u001B[38;5;241m.\u001B[39memail\u001B[38;5;241m.\u001B[39malias(\u001B[38;5;124m\"\u001B[39m\u001B[38;5;124mEmail\u001B[39m\u001B[38;5;124m\"\u001B[39m)) \\\n\u001B[1;32m     15\u001B[0m     \u001B[38;5;241m.\u001B[39mshow()\n",
        "\u001B[0;31mNameError\u001B[0m: name 'count' is not defined"
       ],
       "type": "baseError"
      }
     },
     "output_type": "display_data"
    }
   ],
   "source": [
    "from pyspark.sql.window import Window\n",
    "from pyspark.sql.functions import row_number\n",
    "\n",
    "window_spec = Window.partitionBy(emails_dataframe.email).orderBy(emails_dataframe.id)\n",
    "emails_dataframe = emails_dataframe.withColumn(\"email_instance\", row_number().over(window_spec))\n",
    "emails_dataframe.show(5)\n",
    "\n",
    "emails_dataframe \\\n",
    "    .filter(emails_dataframe.email_instance > 1) \\\n",
    "    .select(emails_dataframe.email.alias(\"Email\")) \\\n",
    "    .distinct() \\\n",
    "    .show()"
   ]
  }
 ],
 "metadata": {
  "application/vnd.databricks.v1+notebook": {
   "dashboards": [],
   "language": "python",
   "notebookMetadata": {
    "pythonIndentUnit": 4
   },
   "notebookName": "leetcode_sql_182",
   "widgets": {}
  }
 },
 "nbformat": 4,
 "nbformat_minor": 0
}
