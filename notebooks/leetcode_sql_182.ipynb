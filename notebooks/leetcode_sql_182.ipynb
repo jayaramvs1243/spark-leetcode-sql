{
 "cells": [
  {
   "cell_type": "markdown",
   "metadata": {
    "application/vnd.databricks.v1+cell": {
     "cellMetadata": {
      "byteLimit": 2048000,
      "rowLimit": 10000
     },
     "inputWidgets": {},
     "nuid": "c7afc5a7-b966-4601-bfe8-0bc80597187f",
     "showTitle": false,
     "title": ""
    }
   },
   "source": [
    "#### LeetCode - SQL - #182\n",
    "\n",
    "Refer [182. Duplicate Emails](https://leetcode.com/problems/duplicate-emails/description/)\n",
    "\n",
    "Write a solution to report all the duplicate emails. Note that it's guaranteed that the email field is not NULL.\n",
    "\n",
    "Return the result table in  **any order**."
   ]
  },
  {
   "cell_type": "code",
   "execution_count": null,
   "metadata": {
    "application/vnd.databricks.v1+cell": {
     "cellMetadata": {
      "byteLimit": 2048000,
      "rowLimit": 10000
     },
     "inputWidgets": {},
     "nuid": "c2b53014-2b52-4923-815d-01ef7ce9bd93",
     "showTitle": false,
     "title": ""
    }
   },
   "outputs": [],
   "source": [
    "data = [[1, 'a@b.com'], [2, 'c@d.com'], [3, 'a@b.com']]\n",
    "columns = ['id', 'email']\n",
    "schema = {'id':'Int64', 'email':'object'}"
   ]
  },
  {
   "cell_type": "code",
   "execution_count": null,
   "metadata": {
    "application/vnd.databricks.v1+cell": {
     "cellMetadata": {
      "byteLimit": 2048000,
      "rowLimit": 10000
     },
     "inputWidgets": {},
     "nuid": "b1ae2f65-16de-499c-8f2d-6922658747f0",
     "showTitle": false,
     "title": ""
    }
   },
   "outputs": [],
   "source": [
    "import pandas\n",
    "\n",
    "emails_pandas_dataframe = pandas.DataFrame(data=data, columns=columns).astype(schema)"
   ]
  },
  {
   "cell_type": "code",
   "execution_count": null,
   "metadata": {
    "application/vnd.databricks.v1+cell": {
     "cellMetadata": {
      "byteLimit": 2048000,
      "rowLimit": 10000
     },
     "inputWidgets": {},
     "nuid": "0fafc8a5-36bd-4653-a13c-3322c2279a19",
     "showTitle": false,
     "title": ""
    }
   },
   "outputs": [],
   "source": [
    "from pyspark.sql import SparkSession\n",
    "\n",
    "spark_context = SparkSession.builder.appName(\"LeetCode SQL\").getOrCreate()\n",
    "\n",
    "# Spark DataFrame using Pandas DataFrame\n",
    "emails_dataframe = spark_context.createDataFrame(emails_pandas_dataframe)\n",
    "emails_dataframe.printSchema()\n",
    "emails_dataframe.show(5)"
   ]
  },
  {
   "cell_type": "code",
   "execution_count": null,
   "metadata": {
    "application/vnd.databricks.v1+cell": {
     "cellMetadata": {
      "byteLimit": 2048000,
      "rowLimit": 10000
     },
     "inputWidgets": {},
     "nuid": "8abaeef5-288e-4296-838c-a4354f26a53e",
     "showTitle": false,
     "title": ""
    }
   },
   "outputs": [],
   "source": [
    "from pyspark.sql.functions import col, count\n",
    "\n",
    "#1\n",
    "emails_dataframe_grouped_1 = emails_dataframe.groupBy(emails_dataframe.email).count()\n",
    "emails_dataframe_grouped_1 \\\n",
    "    .filter(col(\"count\") > 1) \\\n",
    "    .select(emails_dataframe_grouped_1.email.alias(\"Email\")) \\\n",
    "    .show()\n",
    "\n",
    "#2\n",
    "emails_dataframe_grouped_2 = emails_dataframe.groupBy(emails_dataframe.email).agg(\n",
    "    count(emails_dataframe.id).alias(\"email_instance\")\n",
    ")\n",
    "emails_dataframe_grouped_2 \\\n",
    "    .filter(emails_dataframe_grouped_2.email_instance > 1) \\\n",
    "    .select(emails_dataframe_grouped_1.email.alias(\"Email\")) \\\n",
    "    .show()"
   ]
  },
  {
   "cell_type": "markdown",
   "metadata": {
    "application/vnd.databricks.v1+cell": {
     "cellMetadata": {
      "byteLimit": 2048000,
      "rowLimit": 10000
     },
     "inputWidgets": {},
     "nuid": "93e1cf0b-8eb9-415a-b376-7d4b7d37ad1f",
     "showTitle": false,
     "title": ""
    }
   },
   "source": [
    "#### Using Window Functions"
   ]
  },
  {
   "cell_type": "code",
   "execution_count": null,
   "metadata": {
    "application/vnd.databricks.v1+cell": {
     "cellMetadata": {
      "byteLimit": 2048000,
      "rowLimit": 10000
     },
     "inputWidgets": {},
     "nuid": "51cff513-fa28-44e1-be71-4665ff37c728",
     "showTitle": false,
     "title": ""
    }
   },
   "outputs": [],
   "source": [
    "from pyspark.sql.window import Window\n",
    "from pyspark.sql.functions import row_number\n",
    "\n",
    "window_spec = Window.partitionBy(emails_dataframe.email).orderBy(emails_dataframe.id)\n",
    "emails_dataframe = emails_dataframe.withColumn(\"email_instance\", row_number().over(window_spec))\n",
    "emails_dataframe.show(5)\n",
    "\n",
    "emails_dataframe \\\n",
    "    .filter(emails_dataframe.email_instance > 1) \\\n",
    "    .select(emails_dataframe.email.alias(\"Email\")) \\\n",
    "    .distinct() \\\n",
    "    .show()"
   ]
  }
 ],
 "metadata": {
  "application/vnd.databricks.v1+notebook": {
   "dashboards": [],
   "language": "python",
   "notebookMetadata": {
    "pythonIndentUnit": 4
   },
   "notebookName": "leetcode_sql_182",
   "widgets": {}
  }
 },
 "nbformat": 4,
 "nbformat_minor": 0
}
