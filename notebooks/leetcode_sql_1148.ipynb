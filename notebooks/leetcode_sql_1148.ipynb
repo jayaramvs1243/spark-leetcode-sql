{
 "cells": [
  {
   "cell_type": "markdown",
   "source": [
    "#### LeetCode - SQL - #1148\n",
    "\n",
    "Refer [1148. Article Views I](https://leetcode.com/problems/article-views-i/description/)\n",
    "\n",
    "Write a solution to find all the authors that viewed at least one of their own articles.\n",
    "\n",
    "Return the result table sorted by id in ascending order."
   ],
   "metadata": {
    "collapsed": false
   },
   "id": "b710597c01da0792"
  },
  {
   "cell_type": "code",
   "outputs": [],
   "source": [
    "data_articles = [[1, 3, 5, '2019-08-01'], [1, 3, 6, '2019-08-02'], [2, 7, 7, '2019-08-01'], [2, 7, 6, '2019-08-02'], [4, 7, 1, '2019-07-22'], [3, 4, 4, '2019-07-21'], [3, 4, 4, '2019-07-21']]\n",
    "columns_articles = ['article_id', 'author_id', 'viewer_id', 'view_date']\n",
    "schema_articles = {'article_id':'Int64', 'author_id':'Int64', 'viewer_id':'Int64', 'view_date':'datetime64[ns]'}"
   ],
   "metadata": {
    "collapsed": false,
    "ExecuteTime": {
     "end_time": "2024-04-30T02:55:01.223759Z",
     "start_time": "2024-04-30T02:55:01.199625Z"
    }
   },
   "id": "9698a3cbd11224b9",
   "execution_count": 29
  },
  {
   "cell_type": "code",
   "outputs": [],
   "source": [
    "from pyspark.sql import SparkSession\n",
    "\n",
    "spark_context = SparkSession.builder.appName('LeetCode SQL').getOrCreate()"
   ],
   "metadata": {
    "collapsed": false
   },
   "id": "f73a122e761a269",
   "execution_count": null
  },
  {
   "cell_type": "code",
   "outputs": [],
   "source": [
    "# Create Spark Dataframe using Pandas\n",
    "import pandas\n",
    "\n",
    "pandas_df_articles = pandas.DataFrame(data=data_articles, columns=columns_articles).astype(schema_articles)\n",
    "\n",
    "df_articles = spark_context.createDataFrame(pandas_df_articles)\n",
    "\n",
    "df_articles.printSchema()\n",
    "df_articles.show(5)"
   ],
   "metadata": {
    "collapsed": false,
    "ExecuteTime": {
     "end_time": "2024-04-30T02:54:38.777430Z",
     "start_time": "2024-04-30T02:54:38.774464Z"
    }
   },
   "id": "3d279618572a1346",
   "execution_count": null
  },
  {
   "cell_type": "code",
   "outputs": [],
   "source": [
    "# Create Spark Dataframe using PySpark functions - 1\n",
    "from pyspark.sql import functions as F\n",
    "\n",
    "schema_articles = 'article_id long, author_id long, viewer_id long, view_date_str string'\n",
    "\n",
    "df_articles = spark_context.createDataFrame(data=data_articles, schema=schema_articles)\n",
    "df_articles = df_articles.withColumn('view_date', F.to_date(df_articles.view_date_str))\n",
    "\n",
    "df_articles.printSchema()\n",
    "df_articles.show(5)"
   ],
   "metadata": {
    "collapsed": false,
    "ExecuteTime": {
     "start_time": "2024-04-30T02:54:38.776416Z"
    }
   },
   "id": "42ed521e5800ca60",
   "execution_count": null
  },
  {
   "cell_type": "code",
   "outputs": [],
   "source": [
    "from pyspark.sql.types import StructType, StructField, IntegerType, StringType\n",
    "\n",
    "schema_articles = StructType([\n",
    "    StructField('article_id', IntegerType(), False),\n",
    "    StructField('author_id', IntegerType(), False),\n",
    "    StructField('viewer_id', IntegerType(), False),\n",
    "    StructField('view_date_str', StringType(), False),\n",
    "])\n",
    "\n",
    "df_articles = spark_context.createDataFrame(data=data_articles, schema=schema_articles)\n",
    "\n",
    "df_articles = df_articles.select(\n",
    "    df_articles.article_id,\n",
    "    df_articles.viewer_id,\n",
    "    df_articles.author_id,\n",
    "    F.to_timestamp(df_articles.view_date_str).alias('view_date')\n",
    ")\n",
    "\n",
    "df_articles.printSchema()\n",
    "df_articles.show(5)"
   ],
   "metadata": {
    "collapsed": false,
    "ExecuteTime": {
     "start_time": "2024-04-30T02:54:38.777251Z"
    }
   },
   "id": "c46e2a7817bc2719",
   "execution_count": null
  },
  {
   "cell_type": "code",
   "outputs": [],
   "source": [
    "df_articles \\\n",
    "    .filter(df_articles.author_id == df_articles.viewer_id) \\\n",
    "    .select(df_articles.author_id) \\\n",
    "    .show()"
   ],
   "metadata": {
    "collapsed": false,
    "ExecuteTime": {
     "start_time": "2024-04-30T02:54:38.778121Z"
    }
   },
   "id": "14947606d0d2e9a4",
   "execution_count": null
  }
 ],
 "metadata": {
  "kernelspec": {
   "display_name": "Python 3",
   "language": "python",
   "name": "python3"
  },
  "language_info": {
   "codemirror_mode": {
    "name": "ipython",
    "version": 2
   },
   "file_extension": ".py",
   "mimetype": "text/x-python",
   "name": "python",
   "nbconvert_exporter": "python",
   "pygments_lexer": "ipython2",
   "version": "2.7.6"
  }
 },
 "nbformat": 4,
 "nbformat_minor": 5
}
