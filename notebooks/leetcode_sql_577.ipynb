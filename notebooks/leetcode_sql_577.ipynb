{
 "cells": [
  {
   "cell_type": "markdown",
   "metadata": {
    "application/vnd.databricks.v1+cell": {
     "cellMetadata": {
      "byteLimit": 2048000,
      "rowLimit": 10000
     },
     "inputWidgets": {},
     "nuid": "ad9cda94-6165-408e-8512-c5b9c21314f5",
     "showTitle": false,
     "title": ""
    }
   },
   "source": [
    "#### LeetCode - SQL - #577\n",
    "\n",
    "Refer [577. Employee Bonus](https://leetcode.com/problems/employee-bonus/description/)\n",
    "\n",
    "Write a solution to report the name and bonus amount of each employee with a bonus  **less than**  `1000`.\n",
    "\n",
    "Return the result table in  **any order**."
   ]
  },
  {
   "cell_type": "code",
   "execution_count": 0,
   "metadata": {
    "application/vnd.databricks.v1+cell": {
     "cellMetadata": {
      "byteLimit": 2048000,
      "rowLimit": 10000
     },
     "inputWidgets": {},
     "nuid": "b5fef48f-33a0-45f7-9256-d8fa952a9040",
     "showTitle": false,
     "title": ""
    }
   },
   "outputs": [],
   "source": [
    "data_employee = [[3, 'Brad', None, 4000], [1, 'John', 3, 1000], [2, 'Dan', 3, 2000], [4, 'Thomas', 3, 4000]]\n",
    "columns_employee = ['empId', 'name', 'supervisor', 'salary']\n",
    "schema_employee = {'empId':'Int64', 'name':'object', 'supervisor':'Int64', 'salary':'Int64'}\n",
    "\n",
    "data_bonus = [[2, 500], [4, 2000]]\n",
    "columns_bonus = ['empId', 'bonus']\n",
    "schema_bonus = {'empId':'Int64', 'bonus':'Int64'}"
   ]
  },
  {
   "cell_type": "code",
   "execution_count": 0,
   "metadata": {
    "application/vnd.databricks.v1+cell": {
     "cellMetadata": {
      "byteLimit": 2048000,
      "rowLimit": 10000
     },
     "inputWidgets": {},
     "nuid": "fbf579d8-73c3-4dda-9244-183f413e56a5",
     "showTitle": false,
     "title": ""
    }
   },
   "outputs": [],
   "source": [
    "import pandas\n",
    "\n",
    "pandas_dataframe_employee = pandas.DataFrame(data=data_employee, columns=columns_employee).astype(schema_employee)\n",
    "pandas_dataframe_bonus = pandas.DataFrame(data=data_bonus, columns=columns_bonus).astype(schema_bonus)"
   ]
  },
  {
   "cell_type": "code",
   "execution_count": 0,
   "metadata": {
    "application/vnd.databricks.v1+cell": {
     "cellMetadata": {
      "byteLimit": 2048000,
      "rowLimit": 10000
     },
     "inputWidgets": {},
     "nuid": "56c4dce2-0cef-4869-af05-c5b4e5990ed1",
     "showTitle": false,
     "title": ""
    }
   },
   "outputs": [],
   "source": [
    "from pyspark.sql import SparkSession\n",
    "\n",
    "spark_context = SparkSession.builder.appName(\"LeetCode SQL\").getOrCreate()\n",
    "\n",
    "# Spark DataFrame using Pandas DataFrame\n",
    "dataframe_employee = spark_context.createDataFrame(pandas_dataframe_employee)\n",
    "dataframe_employee.printSchema()\n",
    "dataframe_employee.show(5)\n",
    "\n",
    "dataframe_bonus = spark_context.createDataFrame(pandas_dataframe_bonus)\n",
    "dataframe_bonus.printSchema()\n",
    "dataframe_bonus.show(5)"
   ]
  },
  {
   "cell_type": "code",
   "execution_count": 0,
   "metadata": {
    "application/vnd.databricks.v1+cell": {
     "cellMetadata": {
      "byteLimit": 2048000,
      "rowLimit": 10000
     },
     "inputWidgets": {},
     "nuid": "e75bdd13-c913-4893-ba75-6edeaeeed05e",
     "showTitle": false,
     "title": ""
    }
   },
   "outputs": [],
   "source": [
    "df_employee_joined_with_bonus \\\n",
    "    = dataframe_employee.join(dataframe_bonus, dataframe_employee.empId == dataframe_bonus.empId, \"left\") \\\n",
    "                        .select(dataframe_employee.empId.alias(\"id\"), dataframe_employee.name.alias(\"name\"),dataframe_bonus.bonus.alias(\"bonus\"))\n",
    "df_employee_joined_with_bonus.show()\n",
    "\n",
    "df_employee_joined_with_bonus \\\n",
    "    .filter((df_employee_joined_with_bonus.bonus.isNull()) | (df_employee_joined_with_bonus.bonus < 1000)) \\\n",
    "    .select(df_employee_joined_with_bonus.id, df_employee_joined_with_bonus.bonus) \\\n",
    "    .show()"
   ]
  }
 ],
 "metadata": {
  "application/vnd.databricks.v1+notebook": {
   "dashboards": [],
   "language": "python",
   "notebookMetadata": {
    "pythonIndentUnit": 4
   },
   "notebookName": "leetcode_sql_577",
   "widgets": {}
  }
 },
 "nbformat": 4,
 "nbformat_minor": 0
}
