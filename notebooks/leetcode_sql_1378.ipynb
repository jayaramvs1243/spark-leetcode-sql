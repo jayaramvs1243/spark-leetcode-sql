{
 "cells": [
  {
   "cell_type": "markdown",
   "metadata": {
    "application/vnd.databricks.v1+cell": {
     "cellMetadata": {},
     "inputWidgets": {},
     "nuid": "9b9a056d-0c37-46d9-a7f4-930c61db950f",
     "showTitle": false,
     "title": ""
    }
   },
   "source": [
    "#### LeetCode - SQL - #1378\n",
    "\n",
    "Refer [1378. Replace Employee ID With The Unique Identifier](https://leetcode.com/problems/replace-employee-id-with-the-unique-identifier/description/)\n",
    "\n",
    "Write a solution to show the  **unique ID** of each user, If a user does not have a unique ID replace just show  `null`.\n",
    "\n",
    "Return the result table in  **any**  order."
   ]
  },
  {
   "cell_type": "code",
   "execution_count": 0,
   "metadata": {
    "application/vnd.databricks.v1+cell": {
     "cellMetadata": {
      "byteLimit": 2048000,
      "rowLimit": 10000
     },
     "inputWidgets": {},
     "nuid": "c1558734-6671-4703-808a-dedbc545fb5b",
     "showTitle": false,
     "title": ""
    }
   },
   "outputs": [],
   "source": [
    "data_employees = [[1, 'Alice'], [7, 'Bob'], [11, 'Meir'], [90, 'Winston'], [3, 'Jonathan']]\n",
    "columns_employees = ['id', 'name']\n",
    "schema_employees = {'id':'int64', 'name':'object'}\n",
    "\n",
    "data_employee_uni = [[3, 1], [11, 2], [90, 3]]\n",
    "columns_employee_uni = ['id', 'unique_id']\n",
    "schema_employee_uni = {'id':'int64', 'unique_id':'int64'}"
   ]
  },
  {
   "cell_type": "code",
   "execution_count": 0,
   "metadata": {
    "application/vnd.databricks.v1+cell": {
     "cellMetadata": {
      "byteLimit": 2048000,
      "rowLimit": 10000
     },
     "inputWidgets": {},
     "nuid": "ca8dc52c-1b36-4af3-b890-8beda65aed5a",
     "showTitle": false,
     "title": ""
    }
   },
   "outputs": [],
   "source": [
    "from pyspark.sql import SparkSession\n",
    "\n",
    "spark_context = SparkSession.builder.appName('LeetCode SQL').getOrCreate()"
   ]
  },
  {
   "cell_type": "code",
   "execution_count": 0,
   "metadata": {
    "application/vnd.databricks.v1+cell": {
     "cellMetadata": {
      "byteLimit": 2048000,
      "rowLimit": 10000
     },
     "inputWidgets": {},
     "nuid": "1fc8b1d3-84a2-492c-9673-dbdef5c161be",
     "showTitle": false,
     "title": ""
    }
   },
   "outputs": [],
   "source": [
    "# Create Spark Dataframe using Pandas\n",
    "import pandas\n",
    "\n",
    "pandas_df_employees = pandas.DataFrame(data=data_employees, columns=columns_employees).astype(schema_employees)\n",
    "pandas_df_employee_uni = pandas.DataFrame(data=data_employee_uni, columns=columns_employee_uni).astype(schema_employee_uni)\n",
    "\n",
    "df_employees = spark_context.createDataFrame(pandas_df_employees)\n",
    "df_employee_uni = spark_context.createDataFrame(pandas_df_employee_uni)\n",
    "\n",
    "df_employees.printSchema()\n",
    "df_employees.show(5)\n",
    "\n",
    "df_employee_uni.printSchema()\n",
    "df_employee_uni.show(5)"
   ]
  },
  {
   "cell_type": "code",
   "execution_count": 0,
   "metadata": {
    "application/vnd.databricks.v1+cell": {
     "cellMetadata": {
      "byteLimit": 2048000,
      "rowLimit": 10000
     },
     "inputWidgets": {},
     "nuid": "64bc86dc-ee28-4bb7-bc81-82f27dfa9fb9",
     "showTitle": false,
     "title": ""
    }
   },
   "outputs": [],
   "source": [
    "# Create Spark Dataframe using PySpark functions - 1\n",
    "schema_employees = 'id integer, name string'\n",
    "schema_employee_uni = 'id integer, unique_id integer'\n",
    "\n",
    "df_employees = spark_context.createDataFrame(data=data_employees, schema=schema_employees)\n",
    "df_employee_uni = spark_context.createDataFrame(data=data_employee_uni, schema=schema_employee_uni)\n",
    "\n",
    "df_employees.printSchema()\n",
    "df_employees.show(5)\n",
    "\n",
    "df_employee_uni.printSchema()\n",
    "df_employee_uni.show(5)"
   ]
  },
  {
   "cell_type": "code",
   "execution_count": 0,
   "metadata": {
    "application/vnd.databricks.v1+cell": {
     "cellMetadata": {
      "byteLimit": 2048000,
      "rowLimit": 10000
     },
     "inputWidgets": {},
     "nuid": "5e869208-8950-41ea-b410-53ffec6d75e7",
     "showTitle": false,
     "title": ""
    }
   },
   "outputs": [
    {
     "output_type": "stream",
     "name": "stdout",
     "output_type": "stream",
     "text": [
      "+---------+--------+\n|unique_id|    name|\n+---------+--------+\n|     NULL|   Alice|\n|     NULL|     Bob|\n|        2|    Meir|\n|        3| Winston|\n|        1|Jonathan|\n+---------+--------+\n\n"
     ]
    }
   ],
   "source": [
    "df_employees.join(\n",
    "    df_employee_uni, df_employees.id == df_employee_uni.id, \"left\"\n",
    ").select(\n",
    "    df_employee_uni.unique_id, df_employees.name\n",
    ").show()"
   ]
  }
 ],
 "metadata": {
  "application/vnd.databricks.v1+notebook": {
   "dashboards": [],
   "language": "python",
   "notebookMetadata": {
    "pythonIndentUnit": 4
   },
   "notebookName": "leetcode_sql_1378",
   "widgets": {}
  }
 },
 "nbformat": 4,
 "nbformat_minor": 0
}
