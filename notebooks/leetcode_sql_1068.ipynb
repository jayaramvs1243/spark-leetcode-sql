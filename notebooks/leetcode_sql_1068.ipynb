{
 "cells": [
  {
   "cell_type": "markdown",
   "metadata": {
    "application/vnd.databricks.v1+cell": {
     "cellMetadata": {
      "byteLimit": 2048000,
      "rowLimit": 10000
     },
     "inputWidgets": {},
     "nuid": "e4d8cdde-c452-42e5-accc-7f60b3e674db",
     "showTitle": false,
     "title": ""
    }
   },
   "source": [
    "#### LeetCode - SQL - #1068\n",
    "\n",
    "Refer [1068. Product Sales Analysis I](https://leetcode.com/problems/product-sales-analysis-i/description/)\n",
    "\n",
    "Write a solution to report the  `product_name`,  `year`, and  `price`  for each  `sale_id`  in the  `Sales`  table.\n",
    "\n",
    "Return the resulting table in  **any order**."
   ]
  },
  {
   "cell_type": "code",
   "execution_count": 0,
   "metadata": {
    "application/vnd.databricks.v1+cell": {
     "cellMetadata": {
      "byteLimit": 2048000,
      "rowLimit": 10000
     },
     "inputWidgets": {},
     "nuid": "2f517d63-d841-4782-8502-1d9123896c0f",
     "showTitle": false,
     "title": ""
    }
   },
   "outputs": [],
   "source": [
    "data_sales = [[1, 100, 2008, 10, 5000], [2, 100, 2009, 12, 5000], [7, 200, 2011, 15, 9000]]\n",
    "columns_sales = ['sale_id', 'product_id', 'year', 'quantity', 'price']\n",
    "schema_sales = {'sale_id':'Int64', 'product_id':'Int64', 'year':'Int64', 'quantity':'Int64', 'price':'Int64'}\n",
    "\n",
    "data_product = [[100, 'Nokia'], [200, 'Apple'], [300, 'Samsung']]\n",
    "columns_product = ['product_id', 'product_name']\n",
    "schema_product = {'product_id':'Int64', 'product_name':'object'}"
   ]
  },
  {
   "cell_type": "code",
   "execution_count": 0,
   "metadata": {
    "application/vnd.databricks.v1+cell": {
     "cellMetadata": {
      "byteLimit": 2048000,
      "rowLimit": 10000
     },
     "inputWidgets": {},
     "nuid": "521f78df-c025-4caf-8276-e9e124bf895f",
     "showTitle": false,
     "title": ""
    }
   },
   "outputs": [],
   "source": [
    "from pyspark.sql import SparkSession\n",
    "\n",
    "spark_context = SparkSession.builder.appName('LeetCode SQL').getOrCreate()"
   ]
  },
  {
   "cell_type": "code",
   "execution_count": 0,
   "metadata": {
    "application/vnd.databricks.v1+cell": {
     "cellMetadata": {
      "byteLimit": 2048000,
      "rowLimit": 10000
     },
     "inputWidgets": {},
     "nuid": "a6cb9537-5a98-47ca-9d38-f1b90f745fe3",
     "showTitle": false,
     "title": ""
    }
   },
   "outputs": [],
   "source": [
    "# Create Spark Dataframe using Pandas\n",
    "import pandas\n",
    "\n",
    "pandas_df_sales = pandas.DataFrame(data=data_sales, columns=columns_sales).astype(schema_sales)\n",
    "pandas_df_product = pandas.DataFrame(data=data_product, columns=columns_product).astype(schema_product)\n",
    "\n",
    "df_sales = spark_context.createDataFrame(pandas_df_sales)\n",
    "df_sales.printSchema()\n",
    "\n",
    "df_product = spark_context.createDataFrame(pandas_df_product)\n",
    "df_product.printSchema()"
   ]
  },
  {
   "cell_type": "code",
   "execution_count": 0,
   "metadata": {
    "application/vnd.databricks.v1+cell": {
     "cellMetadata": {
      "byteLimit": 2048000,
      "rowLimit": 10000
     },
     "inputWidgets": {},
     "nuid": "af29c69c-ccb6-42aa-a673-a3c25a1a67dd",
     "showTitle": false,
     "title": ""
    }
   },
   "outputs": [],
   "source": [
    "# Create Spark Dataframe using PySpark functions - 1\n",
    "schema_sales = 'sale_id integer, product_id integer, year integer, quantity integer, price integer'\n",
    "schema_product = 'product_id integer, product_name string'\n",
    "\n",
    "df_sales = spark_context.createDataFrame(data=data_sales, schema=schema_sales)\n",
    "df_sales.printSchema()\n",
    "\n",
    "df_product = spark_context.createDataFrame(data=data_product, schema=schema_product)\n",
    "df_product.printSchema()"
   ]
  },
  {
   "cell_type": "code",
   "execution_count": 0,
   "metadata": {
    "application/vnd.databricks.v1+cell": {
     "cellMetadata": {
      "byteLimit": 2048000,
      "rowLimit": 10000
     },
     "inputWidgets": {},
     "nuid": "031dd3b5-6ead-4bc5-ad61-a9b1e29e103c",
     "showTitle": false,
     "title": ""
    }
   },
   "outputs": [],
   "source": [
    "# Create Spark Dataframe using PySpark functions - 2\n",
    "from pyspark.sql.types import StructType, StructField, IntegerType, StringType\n",
    "\n",
    "schema_sales = StructType([\n",
    "    StructField('sale_id', IntegerType(), False),\n",
    "    StructField('product_id', IntegerType(), False),\n",
    "    StructField('year', IntegerType(), False),\n",
    "    StructField('quantity', IntegerType(), False),\n",
    "    StructField('price', IntegerType(), False),\n",
    "])\n",
    "df_sales = spark_context.createDataFrame(data=data_sales, schema=schema_sales)\n",
    "df_sales.printSchema()\n",
    "\n",
    "schema_product = StructType([\n",
    "    StructField('product_id', IntegerType(), False),\n",
    "    StructField('product_name', StringType(), True)\n",
    "])\n",
    "df_product = spark_context.createDataFrame(data=data_product, schema=schema_product)\n",
    "df_product.printSchema()"
   ]
  },
  {
   "cell_type": "code",
   "execution_count": 0,
   "metadata": {
    "application/vnd.databricks.v1+cell": {
     "cellMetadata": {
      "byteLimit": 2048000,
      "rowLimit": 10000
     },
     "inputWidgets": {},
     "nuid": "fd5e9556-ca41-4d33-a005-611a43c4066a",
     "showTitle": false,
     "title": ""
    }
   },
   "outputs": [
    {
     "output_type": "stream",
     "name": "stdout",
     "output_type": "stream",
     "text": [
      "+------------+----+-----+\n|product_name|year|price|\n+------------+----+-----+\n|       Nokia|2008| 5000|\n|       Nokia|2009| 5000|\n|       Apple|2011| 9000|\n+------------+----+-----+\n\n"
     ]
    }
   ],
   "source": [
    "df_sales \\\n",
    "    .join(df_product, df_sales.product_id == df_product.product_id, 'inner') \\\n",
    "    .select(df_product.product_name, df_sales.year, df_sales.price) \\\n",
    "    .show()"
   ]
  }
 ],
 "metadata": {
  "application/vnd.databricks.v1+notebook": {
   "dashboards": [],
   "language": "python",
   "notebookMetadata": {
    "pythonIndentUnit": 4
   },
   "notebookName": "leetcode_sql_1068",
   "widgets": {}
  }
 },
 "nbformat": 4,
 "nbformat_minor": 0
}
