{
 "cells": [
  {
   "cell_type": "markdown",
   "source": [
    "#### LeetCode - SQL - #601\n",
    "\n",
    "Refer [601. Human Traffic of Stadium](https://leetcode.com/problems/human-traffic-of-stadium/description/)\n",
    "\n",
    "Write a solution to display the records with three or more rows with  **consecutive**  `id`'s, and the number of people is greater than or equal to 100 for each.\n",
    "\n",
    "Return the result table ordered by  `visit_date`  in  **ascending order**."
   ],
   "metadata": {
    "collapsed": false
   },
   "id": "7352b4e1181ebe19"
  },
  {
   "cell_type": "code",
   "outputs": [],
   "source": [
    "data_stadium = [[1, '2017-01-01', 10], [2, '2017-01-02', 109], [3, '2017-01-03', 150], [4, '2017-01-04', 99], [5, '2017-01-05', 145], [6, '2017-01-06', 1455], [7, '2017-01-07', 199], [8, '2017-01-09', 188]]\n",
    "columns_stadium = ['id', 'visit_date', 'people']\n",
    "schema_stadium = {'id':'Int64', 'visit_date':'datetime64[ns]', 'people':'Int64'}"
   ],
   "metadata": {
    "collapsed": false
   },
   "id": "ad4a5958b2af4b4e",
   "execution_count": null
  },
  {
   "cell_type": "code",
   "outputs": [],
   "source": [
    "import pandas\n",
    "\n",
    "pandas_df_stadium = pandas.DataFrame(data=data_stadium, columns=columns_stadium).astype(schema_stadium)"
   ],
   "metadata": {
    "collapsed": false
   },
   "id": "f6355b3aea86ec6",
   "execution_count": null
  },
  {
   "cell_type": "code",
   "outputs": [],
   "source": [
    "from pyspark.sql import SparkSession\n",
    "\n",
    "spark_context = SparkSession.builder.appName('LeetCode SQL').getOrCreate()\n",
    "\n",
    "# Spark DataFrame using Pandas DataFrame\n",
    "df_stadium = spark_context.createDataFrame(pandas_df_stadium)\n",
    "df_stadium.printSchema()\n",
    "df_stadium.show(5)"
   ],
   "metadata": {
    "collapsed": false
   },
   "id": "f90fa67dbaedbe3b",
   "execution_count": null
  },
  {
   "cell_type": "code",
   "outputs": [],
   "source": [
    "from pyspark.sql.window import Window\n",
    "from pyspark.sql import functions as F\n",
    "\n",
    "window_spec = Window.orderBy(df_stadium.id.asc())\n",
    "\n",
    "df_stadium_summary \\\n",
    "    = df_stadium \\\n",
    "        .filter(df_stadium.people >= 100) \\\n",
    "        .select(\"*\", (df_stadium.id - (F.row_number().over(window_spec))).alias(\"record_pos\"))\n",
    "df_stadium_summary.show()"
   ],
   "metadata": {
    "collapsed": false
   },
   "id": "f3e02dfda463e364",
   "execution_count": null
  },
  {
   "cell_type": "code",
   "outputs": [],
   "source": [
    "df_stadium_summary_record_pos \\\n",
    "    = df_stadium_summary \\\n",
    "        .groupBy(df_stadium_summary.record_pos) \\\n",
    "        .agg(F.count(\"*\").alias(\"record_pos_count\"))\n",
    "df_stadium_summary_record_pos.show()"
   ],
   "metadata": {
    "collapsed": false
   },
   "id": "6b254ae1d656f94a",
   "execution_count": null
  },
  {
   "cell_type": "code",
   "outputs": [],
   "source": [
    "df_stadium_summary_record_pos_values \\\n",
    "    = df_stadium_summary_record_pos \\\n",
    "        .filter(df_stadium_summary_record_pos.record_pos_count >= 3) \\\n",
    "        .select(df_stadium_summary_record_pos.record_pos)\n",
    "\n",
    "list_stadium_summary_record_pos_values = list(df_stadium_summary_record_pos_values.toPandas()[\"record_pos\"])"
   ],
   "metadata": {
    "collapsed": false
   },
   "id": "abb157e918b89fe9",
   "execution_count": null
  },
  {
   "cell_type": "code",
   "outputs": [],
   "source": [
    "df_stadium_summary \\\n",
    "    .filter(df_stadium_summary.record_pos.isin(list_stadium_summary_record_pos_values)) \\\n",
    "    .select(df_stadium_summary.id, df_stadium_summary.visit_date, df_stadium_summary.people) \\\n",
    "    .show()"
   ],
   "metadata": {
    "collapsed": false
   },
   "id": "891a8758dd58d8d5",
   "execution_count": null
  }
 ],
 "metadata": {
  "kernelspec": {
   "display_name": "Python 3",
   "language": "python",
   "name": "python3"
  },
  "language_info": {
   "codemirror_mode": {
    "name": "ipython",
    "version": 2
   },
   "file_extension": ".py",
   "mimetype": "text/x-python",
   "name": "python",
   "nbconvert_exporter": "python",
   "pygments_lexer": "ipython2",
   "version": "2.7.6"
  }
 },
 "nbformat": 4,
 "nbformat_minor": 5
}
