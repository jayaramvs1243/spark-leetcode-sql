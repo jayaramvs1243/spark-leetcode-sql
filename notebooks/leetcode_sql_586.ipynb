{
 "cells": [
  {
   "cell_type": "markdown",
   "source": [
    "#### LeetCode - SQL - #586\n",
    "\n",
    "Refer [586. Customer Placing the Largest Number of Orders](https://leetcode.com/problems/customer-placing-the-largest-number-of-orders/description/)\n",
    "\n",
    "Write a solution to find the  `customer_number`  for the customer who has placed  **the largest number of orders**.\n",
    "\n",
    "The test cases are generated so that  **exactly one customer**  will have placed more orders than any other customer."
   ],
   "metadata": {
    "collapsed": false
   },
   "id": "e6949654b4c35f3c"
  },
  {
   "cell_type": "code",
   "outputs": [],
   "source": [
    "from pyspark import SparkContext\n",
    "\n",
    "data_orders = [[1, 1], [2, 2], [3, 3], [4, 3]]\n",
    "columns_orders = ['order_number', 'customer_number']\n",
    "schema_orders = {'order_number':'Int64', 'customer_number':'Int64'}"
   ],
   "metadata": {
    "collapsed": false
   },
   "id": "db8ac4a49c5002a9",
   "execution_count": null
  },
  {
   "cell_type": "code",
   "outputs": [],
   "source": [
    "import pandas\n",
    "\n",
    "pandas_df_orders = pandas.DataFrame(data=data_orders, columns=columns_orders).astype(schema_orders)"
   ],
   "metadata": {
    "collapsed": false
   },
   "id": "549d4f42a8c04bb",
   "execution_count": null
  },
  {
   "cell_type": "code",
   "outputs": [],
   "source": [
    "from pyspark.sql import SparkSession\n",
    "\n",
    "spark_context = SparkSession.builder.appName(\"LeetCode SQL\").getOrCreate()\n",
    "\n",
    "# Spark DataFrame using Pandas DataFrame\n",
    "df_orders = spark_context.createDataFrame(pandas_df_orders)\n",
    "df_orders.printSchema()\n",
    "df_orders.show(5)"
   ],
   "metadata": {
    "collapsed": false
   },
   "id": "c67a19be02639819",
   "execution_count": null
  },
  {
   "cell_type": "code",
   "outputs": [],
   "source": [
    "from pyspark.sql import functions as F\n",
    "\n",
    "df_orders_grouped \\\n",
    "    = df_orders.groupBy(df_orders.customer_number).agg(\n",
    "        F.count(df_orders.order_number).alias(\"order_count\")\n",
    "    )\n",
    "\n",
    "df_orders_grouped \\\n",
    "    .orderBy(df_orders_grouped.order_count.desc()) \\\n",
    "    .select(df_orders_grouped.customer_number) \\\n",
    "    .limit(1) \\\n",
    "    .show()"
   ],
   "metadata": {
    "collapsed": false
   },
   "id": "57919ec9e9819092",
   "execution_count": null
  },
  {
   "cell_type": "markdown",
   "source": [
    "**Follow up:** What if more than one customer has the largest number of orders, can you find all the `customer_number` in this case?"
   ],
   "metadata": {
    "collapsed": false
   },
   "id": "abc88b9b2f44f74d"
  },
  {
   "cell_type": "code",
   "outputs": [],
   "source": [
    "df_order_count_max = df_orders_grouped.select(F.max(df_orders_grouped.order_count))\n",
    "order_count_max = df_order_count_max.first()[0]\n",
    "print(order_count_max)\n",
    "\n",
    "df_orders_grouped \\\n",
    "    .filter(df_orders_grouped.order_count == order_count_max) \\\n",
    "    .select(df_orders_grouped.customer_number) \\\n",
    "    .show()"
   ],
   "metadata": {
    "collapsed": false
   },
   "id": "4676ff54bbc9d18f",
   "execution_count": null
  }
 ],
 "metadata": {
  "kernelspec": {
   "display_name": "Python 3",
   "language": "python",
   "name": "python3"
  },
  "language_info": {
   "codemirror_mode": {
    "name": "ipython",
    "version": 2
   },
   "file_extension": ".py",
   "mimetype": "text/x-python",
   "name": "python",
   "nbconvert_exporter": "python",
   "pygments_lexer": "ipython2",
   "version": "2.7.6"
  }
 },
 "nbformat": 4,
 "nbformat_minor": 5
}
