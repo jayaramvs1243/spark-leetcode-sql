{
 "cells": [
  {
   "cell_type": "markdown",
   "metadata": {
    "application/vnd.databricks.v1+cell": {
     "cellMetadata": {
      "byteLimit": 2048000,
      "rowLimit": 10000
     },
     "inputWidgets": {},
     "nuid": "22e862f4-1b62-4bce-8f88-dfb254c45f60",
     "showTitle": false,
     "title": ""
    }
   },
   "source": [
    "#### LeetCode - SQL - #185\n",
    "\n",
    "Refer [185. Department Top Three Salaries](https://leetcode.com/problems/department-top-three-salaries/description/)\n",
    "\n",
    "A company's executives are interested in seeing who earns the most money in each of the company's departments. A  **high earner**  in a department is an employee who has a salary in the  **top three unique**  salaries for that department.\n",
    "\n",
    "Write a solution to find the employees who are  **high earners**  in each of the departments.\n",
    "\n",
    "Return the result table  **in any order**."
   ]
  },
  {
   "cell_type": "code",
   "execution_count": 0,
   "metadata": {
    "application/vnd.databricks.v1+cell": {
     "cellMetadata": {
      "byteLimit": 2048000,
      "rowLimit": 10000
     },
     "inputWidgets": {},
     "nuid": "d46bfc87-4288-4da0-82b6-005f3361a33e",
     "showTitle": false,
     "title": ""
    }
   },
   "outputs": [],
   "source": [
    "employee_data = [[1, 'Joe', 85000, 1], [2, 'Henry', 80000, 2], [3, 'Sam', 60000, 2], [4, 'Max', 90000, 1], [5, 'Janet', 69000, 1], [6, 'Randy', 85000, 1], [7, 'Will', 70000, 1]]\n",
    "employee_columns = ['id', 'name', 'salary', 'departmentId']\n",
    "employee_schema = {'id':'Int64', 'name':'object', 'salary':'Int64', 'departmentId':'Int64'}\n",
    "\n",
    "department_data = [[1, 'IT'], [2, 'Sales']]\n",
    "department_columns = ['id', 'name']\n",
    "department_schema = {'id':'Int64', 'name':'object'}"
   ]
  },
  {
   "cell_type": "code",
   "execution_count": 0,
   "metadata": {
    "application/vnd.databricks.v1+cell": {
     "cellMetadata": {
      "byteLimit": 2048000,
      "rowLimit": 10000
     },
     "inputWidgets": {},
     "nuid": "5b02f8ae-7697-40ce-befd-84a6a0f5cd84",
     "showTitle": false,
     "title": ""
    }
   },
   "outputs": [],
   "source": [
    "import pandas\n",
    "\n",
    "employee_pandas_dataframe = pandas.DataFrame(data=employee_data, columns=employee_columns).astype(employee_schema)\n",
    "department_pandas_dataframe = pandas.DataFrame(data=department_data, columns=department_columns).astype(department_schema)"
   ]
  },
  {
   "cell_type": "code",
   "execution_count": 0,
   "metadata": {
    "application/vnd.databricks.v1+cell": {
     "cellMetadata": {
      "byteLimit": 2048000,
      "rowLimit": 10000
     },
     "inputWidgets": {},
     "nuid": "2aa9ff6f-7c43-4323-b267-d44883700e4c",
     "showTitle": false,
     "title": ""
    }
   },
   "outputs": [
    {
     "output_type": "stream",
     "name": "stdout",
     "output_type": "stream",
     "text": [
      "root\n |-- id: long (nullable = true)\n |-- name: string (nullable = true)\n |-- salary: long (nullable = true)\n |-- departmentId: long (nullable = true)\n\n+---+-----+------+------------+\n| id| name|salary|departmentId|\n+---+-----+------+------------+\n|  1|  Joe| 85000|           1|\n|  2|Henry| 80000|           2|\n|  3|  Sam| 60000|           2|\n|  4|  Max| 90000|           1|\n|  5|Janet| 69000|           1|\n+---+-----+------+------------+\nonly showing top 5 rows\n\nroot\n |-- id: long (nullable = true)\n |-- name: string (nullable = true)\n\n+---+-----+\n| id| name|\n+---+-----+\n|  1|   IT|\n|  2|Sales|\n+---+-----+\n\n"
     ]
    }
   ],
   "source": [
    "from pyspark.sql import SparkSession\n",
    "\n",
    "spark_context = SparkSession.builder.appName(\"LeetCode SQL\").getOrCreate()\n",
    "\n",
    "# Spark DataFrame using Pandas DataFrame\n",
    "employee_dataframe = spark_context.createDataFrame(employee_pandas_dataframe)\n",
    "employee_dataframe.printSchema()\n",
    "employee_dataframe.show(5)\n",
    "\n",
    "department_dataframe = spark_context.createDataFrame(department_pandas_dataframe)\n",
    "department_dataframe.printSchema()\n",
    "department_dataframe.show(5)"
   ]
  },
  {
   "cell_type": "code",
   "execution_count": 0,
   "metadata": {
    "application/vnd.databricks.v1+cell": {
     "cellMetadata": {
      "byteLimit": 2048000,
      "rowLimit": 10000
     },
     "inputWidgets": {},
     "nuid": "bb8d18fc-9c06-4b6e-88d1-bc5d15f28353",
     "showTitle": false,
     "title": ""
    }
   },
   "outputs": [
    {
     "output_type": "stream",
     "name": "stdout",
     "output_type": "stream",
     "text": [
      "+-----+------+---------------+\n| name|salary|department_name|\n+-----+------+---------------+\n|  Joe| 85000|             IT|\n|Henry| 80000|          Sales|\n|  Sam| 60000|          Sales|\n|  Max| 90000|             IT|\n|Janet| 69000|             IT|\n+-----+------+---------------+\nonly showing top 5 rows\n\n"
     ]
    }
   ],
   "source": [
    "joined_dataframe \\\n",
    "    = employee_dataframe \\\n",
    "        .join(department_dataframe, employee_dataframe.departmentId == department_dataframe.id, \"inner\") \\\n",
    "        .select(employee_dataframe.name, employee_dataframe.salary, department_dataframe.name.alias(\"department_name\"))\n",
    "joined_dataframe.show(5)"
   ]
  },
  {
   "cell_type": "code",
   "execution_count": 0,
   "metadata": {
    "application/vnd.databricks.v1+cell": {
     "cellMetadata": {
      "byteLimit": 2048000,
      "rowLimit": 10000
     },
     "inputWidgets": {},
     "nuid": "7c7fad19-b2ed-449a-ba26-482e7beb3576",
     "showTitle": false,
     "title": ""
    }
   },
   "outputs": [
    {
     "output_type": "stream",
     "name": "stdout",
     "output_type": "stream",
     "text": [
      "+-----+------+---------------+----------------------+\n| name|salary|department_name|department_salary_rank|\n+-----+------+---------------+----------------------+\n|  Max| 90000|             IT|                     1|\n|  Joe| 85000|             IT|                     2|\n|Randy| 85000|             IT|                     2|\n| Will| 70000|             IT|                     3|\n|Janet| 69000|             IT|                     4|\n|Henry| 80000|          Sales|                     1|\n|  Sam| 60000|          Sales|                     2|\n+-----+------+---------------+----------------------+\n\n+----------+--------+------+\n|Department|Employee|Salary|\n+----------+--------+------+\n|        IT|     Max| 90000|\n|        IT|     Joe| 85000|\n|        IT|   Randy| 85000|\n|        IT|    Will| 70000|\n|     Sales|   Henry| 80000|\n|     Sales|     Sam| 60000|\n+----------+--------+------+\n\n"
     ]
    }
   ],
   "source": [
    "from pyspark.sql.window import Window\n",
    "from pyspark.sql.functions import dense_rank\n",
    "\n",
    "window_spec = Window.partitionBy(joined_dataframe.department_name).orderBy(joined_dataframe.salary.desc())\n",
    "\n",
    "joined_dataframe = joined_dataframe.withColumn(\"department_salary_rank\", dense_rank().over(window_spec))\n",
    "joined_dataframe.show()\n",
    "\n",
    "joined_dataframe \\\n",
    "    .filter(joined_dataframe.department_salary_rank <= 3) \\\n",
    "    .select(joined_dataframe.department_name.alias(\"Department\"), joined_dataframe.name.alias(\"Employee\"), joined_dataframe.salary.alias(\"Salary\")) \\\n",
    "    .show()"
   ]
  }
 ],
 "metadata": {
  "application/vnd.databricks.v1+notebook": {
   "dashboards": [],
   "language": "python",
   "notebookMetadata": {
    "pythonIndentUnit": 4
   },
   "notebookName": "leetcode_sql_185",
   "widgets": {}
  }
 },
 "nbformat": 4,
 "nbformat_minor": 0
}
