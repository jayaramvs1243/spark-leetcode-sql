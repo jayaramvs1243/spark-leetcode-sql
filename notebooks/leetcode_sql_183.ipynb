{
 "cells": [
  {
   "cell_type": "markdown",
   "metadata": {
    "application/vnd.databricks.v1+cell": {
     "cellMetadata": {},
     "inputWidgets": {},
     "nuid": "799e6b3d-81a0-45ec-b71f-06130c9e8201",
     "showTitle": false,
     "title": ""
    }
   },
   "source": [
    "#### LeetCode - SQL - #183\n",
    "\n",
    "Refer [183. Customers Who Never Order](https://leetcode.com/problems/customers-who-never-order/description/)\n",
    "\n",
    "Write a solution to find all customers who never order anything.\n",
    "\n",
    "Return the result table in  **any order**."
   ]
  },
  {
   "cell_type": "code",
   "execution_count": null,
   "metadata": {
    "application/vnd.databricks.v1+cell": {
     "cellMetadata": {
      "byteLimit": 2048000,
      "rowLimit": 10000
     },
     "inputWidgets": {},
     "nuid": "e630f3bf-a4f1-4fdc-8bbe-11c10285035d",
     "showTitle": false,
     "title": ""
    }
   },
   "outputs": [],
   "source": [
    "customers_data = [[1, 'Joe'], [2, 'Henry'], [3, 'Sam'], [4, 'Max']]\n",
    "customers_columns = ['id', 'name']\n",
    "customers_schema = {'id':'Int64', 'name':'object'}\n",
    "\n",
    "orders_data = [[1, 3], [2, 1]]\n",
    "orders_columns = ['id', 'customerId']\n",
    "orders_schema = {'id':'Int64', 'customerId':'Int64'}"
   ]
  },
  {
   "cell_type": "code",
   "execution_count": null,
   "metadata": {
    "application/vnd.databricks.v1+cell": {
     "cellMetadata": {
      "byteLimit": 2048000,
      "rowLimit": 10000
     },
     "inputWidgets": {},
     "nuid": "12a42ce3-635e-42eb-befc-5b7079f6a93e",
     "showTitle": false,
     "title": ""
    }
   },
   "outputs": [],
   "source": [
    "import pandas\n",
    "\n",
    "customers_pandas_datafarme = pandas.DataFrame(data=customers_data, columns=customers_columns).astype(customers_schema)\n",
    "orders_pandas_datafarme = pandas.DataFrame(data=orders_data, columns=orders_columns).astype(orders_schema)"
   ]
  },
  {
   "cell_type": "code",
   "execution_count": null,
   "metadata": {
    "application/vnd.databricks.v1+cell": {
     "cellMetadata": {
      "byteLimit": 2048000,
      "rowLimit": 10000
     },
     "inputWidgets": {},
     "nuid": "d7f3c5ab-f977-41e1-b81d-709b26917e8b",
     "showTitle": false,
     "title": ""
    }
   },
   "outputs": [],
   "source": [
    "from pyspark.sql import SparkSession\n",
    "\n",
    "spark_context = SparkSession.builder.appName(\"LeetCode SQL\").getOrCreate()\n",
    "\n",
    "# Spark DataFrame using Pandas DataFrame\n",
    "customers_datafarme = spark_context.createDataFrame(customers_pandas_datafarme)\n",
    "customers_datafarme.printSchema()\n",
    "customers_datafarme.show(5)\n",
    "\n",
    "orders_datafarme = spark_context.createDataFrame(orders_pandas_datafarme)\n",
    "orders_datafarme.printSchema()\n",
    "orders_datafarme.show(5)"
   ]
  },
  {
   "cell_type": "code",
   "execution_count": null,
   "metadata": {
    "application/vnd.databricks.v1+cell": {
     "cellMetadata": {
      "byteLimit": 2048000,
      "rowLimit": 10000
     },
     "inputWidgets": {},
     "nuid": "99fcb830-f417-45a6-adcd-34f10329b860",
     "showTitle": false,
     "title": ""
    }
   },
   "outputs": [],
   "source": [
    "orders_datafarme_customerId = [row.customerId for row in orders_datafarme.select(\"customerId\").collect()]\n",
    "\n",
    "customers_datafarme \\\n",
    "    .filter(~customers_datafarme.id.isin(orders_datafarme_customerId)) \\\n",
    "    .select(customers_datafarme.name.alias(\"Customers\")) \\\n",
    "    .show()"
   ]
  },
  {
   "cell_type": "code",
   "execution_count": null,
   "metadata": {
    "application/vnd.databricks.v1+cell": {
     "cellMetadata": {},
     "inputWidgets": {},
     "nuid": "c03c709c-5cda-4718-a257-a7cf39bd5c7e",
     "showTitle": false,
     "title": ""
    }
   },
   "outputs": [],
   "source": [
    "customers_datafarme.filter(customers_datafarme.id.expectAll(orders_datafarme.customerId))"
   ]
  },
  {
   "cell_type": "markdown",
   "metadata": {
    "application/vnd.databricks.v1+cell": {
     "cellMetadata": {},
     "inputWidgets": {},
     "nuid": "d0fc4369-e2a0-4eb7-8dda-76d9494d6135",
     "showTitle": false,
     "title": ""
    }
   },
   "source": [
    "#### Using Join"
   ]
  },
  {
   "cell_type": "code",
   "execution_count": null,
   "metadata": {
    "application/vnd.databricks.v1+cell": {
     "cellMetadata": {
      "byteLimit": 2048000,
      "rowLimit": 10000
     },
     "inputWidgets": {},
     "nuid": "2da74ce5-d56c-4770-9032-a916687f66b9",
     "showTitle": false,
     "title": ""
    }
   },
   "outputs": [],
   "source": [
    "customers_datafarme \\\n",
    "    .join(orders_datafarme, customers_datafarme.id == orders_datafarme.customerId, \"left\") \\\n",
    "    .filter(orders_datafarme.id.isNull()) \\\n",
    "    .select(customers_datafarme.name.alias(\"Customers\")) \\\n",
    "    .show()\n",
    "\n",
    "customers_datafarme \\\n",
    "    .join(orders_datafarme, customers_datafarme.id == orders_datafarme.customerId, \"left_anti\") \\\n",
    "    .select(customers_datafarme.name.alias(\"Customers\")) \\\n",
    "    .show()"
   ]
  }
 ],
 "metadata": {
  "application/vnd.databricks.v1+notebook": {
   "dashboards": [],
   "language": "python",
   "notebookMetadata": {
    "pythonIndentUnit": 4
   },
   "notebookName": "leetcode_sql_183",
   "widgets": {}
  }
 },
 "nbformat": 4,
 "nbformat_minor": 0
}
