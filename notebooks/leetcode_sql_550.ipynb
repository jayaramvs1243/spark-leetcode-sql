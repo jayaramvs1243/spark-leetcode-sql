{
 "cells": [
  {
   "cell_type": "markdown",
   "metadata": {
    "application/vnd.databricks.v1+cell": {
     "cellMetadata": {
      "byteLimit": 2048000,
      "rowLimit": 10000
     },
     "inputWidgets": {},
     "nuid": "1692f3bf-56fc-43c9-a916-add487b1f0e4",
     "showTitle": false,
     "title": ""
    }
   },
   "source": [
    "#### LeetCode - SQL - #550\n",
    "\n",
    "Refer [550. Game Play Analysis IV](https://leetcode.com/problems/game-play-analysis-iv/description/)\n",
    "\n",
    "Write a solution to report the **fraction** of players that logged in again on the day after the day they first logged in, **rounded to 2 decimal places**. In other words, you need to count the number of players that logged in for at least two consecutive days starting from their first login date, then divide that number by the total number of players."
   ]
  },
  {
   "cell_type": "code",
   "execution_count": 0,
   "metadata": {
    "application/vnd.databricks.v1+cell": {
     "cellMetadata": {
      "byteLimit": 2048000,
      "rowLimit": 10000
     },
     "inputWidgets": {},
     "nuid": "c0086d63-71de-4112-aa96-aeb8caf2242c",
     "showTitle": false,
     "title": ""
    }
   },
   "outputs": [],
   "source": [
    "activity_data = [[1, 2, '2016-03-01', 5], [1, 2, '2016-03-02', 6], [2, 3, '2017-06-25', 1], [3, 1, '2016-03-02', 0], [3, 4, '2018-07-03', 5]]\n",
    "activity_columns = ['player_id', 'device_id', 'event_date', 'games_played']\n",
    "activity_schema = {'player_id':'Int64', 'device_id':'Int64', 'event_date':'datetime64[ns]', 'games_played':'Int64'}"
   ]
  },
  {
   "cell_type": "code",
   "execution_count": 0,
   "metadata": {
    "application/vnd.databricks.v1+cell": {
     "cellMetadata": {
      "byteLimit": 2048000,
      "rowLimit": 10000
     },
     "inputWidgets": {},
     "nuid": "c6d98885-8e06-405a-ab83-e5519690c385",
     "showTitle": false,
     "title": ""
    }
   },
   "outputs": [],
   "source": [
    "import pandas\n",
    "\n",
    "activity_pandas_dataframe = pandas.DataFrame(data=activity_data, columns=activity_columns).astype(activity_schema)"
   ]
  },
  {
   "cell_type": "code",
   "execution_count": 0,
   "metadata": {
    "application/vnd.databricks.v1+cell": {
     "cellMetadata": {
      "byteLimit": 2048000,
      "rowLimit": 10000
     },
     "inputWidgets": {},
     "nuid": "4d8c6f7b-0ba7-4d2a-9434-dc08225294f8",
     "showTitle": false,
     "title": ""
    }
   },
   "outputs": [],
   "source": [
    "from pyspark.sql import SparkSession\n",
    "\n",
    "spark_context = SparkSession.builder.appName(\"LeetCode SQL\").getOrCreate()\n",
    "\n",
    "# Spark DataFrame using Pandas DataFrame\n",
    "activity_dataframe = spark_context.createDataFrame(activity_pandas_dataframe)\n",
    "activity_dataframe.printSchema()\n",
    "activity_dataframe.show(5)"
   ]
  },
  {
   "cell_type": "code",
   "execution_count": 0,
   "metadata": {
    "application/vnd.databricks.v1+cell": {
     "cellMetadata": {
      "byteLimit": 2048000,
      "rowLimit": 10000
     },
     "inputWidgets": {},
     "nuid": "869f5f13-a53c-4615-aaae-090819f059d7",
     "showTitle": false,
     "title": ""
    }
   },
   "outputs": [],
   "source": [
    "from pyspark.sql.functions import to_date, min\n",
    "\n",
    "dataframe_activity_grouped_player_id = activity_dataframe.groupBy(activity_dataframe.player_id)\n",
    "function_min_event_date = min(to_date(activity_dataframe.event_date)).alias(\"first_login\")\n",
    "\n",
    "activity_first_login_dataframe = dataframe_activity_grouped_player_id.agg(function_min_event_date)\n",
    "activity_first_login_dataframe.show(5)"
   ]
  },
  {
   "cell_type": "code",
   "execution_count": 0,
   "metadata": {
    "application/vnd.databricks.v1+cell": {
     "cellMetadata": {
      "byteLimit": 2048000,
      "rowLimit": 10000
     },
     "inputWidgets": {},
     "nuid": "3ea5cf09-6860-44d3-becb-16173e5ae2e0",
     "showTitle": false,
     "title": ""
    }
   },
   "outputs": [],
   "source": [
    "from pyspark.sql.functions import col, date_add, to_date, count, round\n",
    "\n",
    "df_first_login = activity_first_login_dataframe.alias(\"first\")\n",
    "df_second_login = activity_dataframe.alias(\"second\")\n",
    "\n",
    "activity_summary_dataframe \\\n",
    "    = df_first_login \\\n",
    "        .join(df_second_login, (col(\"first.player_id\") == col(\"second.player_id\")) & (date_add(col(\"first.first_login\"), 1) == to_date(col(\"second.event_date\"))), \"left\") \\\n",
    "        .select(col(\"first.player_id\").alias(\"player_id\"), col(\"first.first_login\").alias(\"first_login\"), to_date(col(\"second.event_date\")).alias(\"second_login\"))\n",
    "\n",
    "activity_summary_dataframe.select(round((count(activity_summary_dataframe.second_login) / count(\"*\")), 2).alias(\"fraction\")).show()"
   ]
  }
 ],
 "metadata": {
  "application/vnd.databricks.v1+notebook": {
   "dashboards": [],
   "language": "python",
   "notebookMetadata": {
    "pythonIndentUnit": 4
   },
   "notebookName": "leetcode_sql_550",
   "widgets": {}
  }
 },
 "nbformat": 4,
 "nbformat_minor": 0
}
