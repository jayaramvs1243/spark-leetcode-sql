{
 "cells": [
  {
   "cell_type": "markdown",
   "metadata": {
    "application/vnd.databricks.v1+cell": {
     "cellMetadata": {},
     "inputWidgets": {},
     "nuid": "713a55cc-5ac6-45f0-acc9-f646abf92c20",
     "showTitle": false,
     "title": ""
    }
   },
   "source": [
    "#### LeetCode - SQL - #1393\n",
    "\n",
    "Refer [1393. Capital Gain/Loss](https://leetcode.com/problems/capital-gainloss/description/)\n",
    "\n",
    "Write a solution to report the  **Capital gain/loss**  for each stock.\n",
    "\n",
    "The  **Capital gain/loss**  of a stock is the total gain or loss after buying and selling the stock one or many times.\n",
    "\n",
    "Return the result table in  **any order**."
   ]
  },
  {
   "cell_type": "code",
   "execution_count": 0,
   "metadata": {
    "application/vnd.databricks.v1+cell": {
     "cellMetadata": {
      "byteLimit": 2048000,
      "rowLimit": 10000
     },
     "inputWidgets": {},
     "nuid": "e2df0f73-c507-4205-bc87-d9cb9a6dd741",
     "showTitle": false,
     "title": ""
    }
   },
   "outputs": [],
   "source": [
    "data_stock = [['Leetcode', 'Buy', 1, 1000], ['Corona Masks', 'Buy', 2, 10], ['Leetcode', 'Sell', 5, 9000], ['Handbags', 'Buy', 17, 30000], ['Corona Masks', 'Sell', 3, 1010], ['Corona Masks', 'Buy', 4, 1000], ['Corona Masks', 'Sell', 5, 500], ['Corona Masks', 'Buy', 6, 1000], ['Handbags', 'Sell', 29, 7000], ['Corona Masks', 'Sell', 10, 10000]]\n",
    "columns_stock = ['stock_name', 'operation', 'operation_day', 'price']\n",
    "schema_stock = {'stock_name':'object', 'operation':'object', 'operation_day':'Int64', 'price':'Int64'}"
   ]
  },
  {
   "cell_type": "code",
   "execution_count": 0,
   "metadata": {
    "application/vnd.databricks.v1+cell": {
     "cellMetadata": {
      "byteLimit": 2048000,
      "rowLimit": 10000
     },
     "inputWidgets": {},
     "nuid": "eff35059-c94f-4f3a-ba5d-b677940e2d5b",
     "showTitle": false,
     "title": ""
    }
   },
   "outputs": [],
   "source": [
    "from pyspark.sql import SparkSession\n",
    "\n",
    "spark_context = SparkSession.builder.appName('Leetcode SQL').getOrCreate()"
   ]
  },
  {
   "cell_type": "code",
   "execution_count": 0,
   "metadata": {
    "application/vnd.databricks.v1+cell": {
     "cellMetadata": {
      "byteLimit": 2048000,
      "rowLimit": 10000
     },
     "inputWidgets": {},
     "nuid": "a581b6f0-6066-4ed9-b137-723aaff20867",
     "showTitle": false,
     "title": ""
    }
   },
   "outputs": [],
   "source": [
    "# Create Spark Dataframe using Pandas\n",
    "import pandas\n",
    "\n",
    "pandas_df_stock = pandas.DataFrame(data=data_stock, columns=columns_stock).astype(schema_stock)\n",
    "\n",
    "df_stock = spark_context.createDataFrame(pandas_df_stock)\n",
    "df_stock.printSchema()\n",
    "df_stock.show(5)"
   ]
  },
  {
   "cell_type": "code",
   "execution_count": 0,
   "metadata": {
    "application/vnd.databricks.v1+cell": {
     "cellMetadata": {
      "byteLimit": 2048000,
      "rowLimit": 10000
     },
     "inputWidgets": {},
     "nuid": "9e9cee0a-c930-4968-96cf-f230e09ff273",
     "showTitle": false,
     "title": ""
    }
   },
   "outputs": [],
   "source": [
    "# Create Spark Dataframe using PySpark functions - 1\n",
    "schema_stock = 'stock_name string, operation string, operation_day integer, price integer'\n",
    "\n",
    "df_stock = spark_context.createDataFrame(data=data_stock, schema=schema_stock)\n",
    "df_stock.printSchema()\n",
    "df_stock.show(5)"
   ]
  },
  {
   "cell_type": "code",
   "execution_count": 0,
   "metadata": {
    "application/vnd.databricks.v1+cell": {
     "cellMetadata": {
      "byteLimit": 2048000,
      "rowLimit": 10000
     },
     "inputWidgets": {},
     "nuid": "71602953-cbc3-4198-ad45-663391ac108d",
     "showTitle": false,
     "title": ""
    }
   },
   "outputs": [],
   "source": [
    "# Create Spark Dataframe using PySpark functions - 2\n",
    "from pyspark.sql.types import StructType, StructField, StringType, IntegerType\n",
    "\n",
    "schema_stock = StructType([\n",
    "    StructField('stock_name', StringType(), False),\n",
    "    StructField('operation', StringType(), False),\n",
    "    StructField('operation_day', IntegerType(), False),\n",
    "    StructField('price', IntegerType(), False)\n",
    "])\n",
    "\n",
    "df_stock = spark_context.createDataFrame(data=data_stock, schema=schema_stock)\n",
    "df_stock.printSchema()\n",
    "df_stock.show(5)"
   ]
  },
  {
   "cell_type": "code",
   "execution_count": 0,
   "metadata": {
    "application/vnd.databricks.v1+cell": {
     "cellMetadata": {
      "byteLimit": 2048000,
      "rowLimit": 10000
     },
     "inputWidgets": {},
     "nuid": "7e0cb272-02ed-4647-aa88-6198bc231bad",
     "showTitle": false,
     "title": ""
    }
   },
   "outputs": [
    {
     "output_type": "stream",
     "name": "stdout",
     "output_type": "stream",
     "text": [
      "+------------+-----------------+\n|  stock_name|capital_gain_loss|\n+------------+-----------------+\n|    Leetcode|             8000|\n|Corona Masks|             9500|\n|    Handbags|           -23000|\n+------------+-----------------+\n\n"
     ]
    }
   ],
   "source": [
    "from pyspark.sql import functions as F\n",
    "\n",
    "df_stock.groupBy(df_stock.stock_name).agg(\n",
    "    F.sum(\n",
    "        F.when(df_stock.operation.eqNullSafe('Buy'), -(df_stock.price)).otherwise(df_stock.price)\n",
    "    ).alias('capital_gain_loss')\n",
    ").show()"
   ]
  }
 ],
 "metadata": {
  "application/vnd.databricks.v1+notebook": {
   "dashboards": [],
   "language": "python",
   "notebookMetadata": {
    "pythonIndentUnit": 4
   },
   "notebookName": "leetcode_sql_1393",
   "widgets": {}
  }
 },
 "nbformat": 4,
 "nbformat_minor": 0
}
